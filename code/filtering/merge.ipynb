{
 "cells": [
  {
   "cell_type": "code",
   "execution_count": 1,
   "id": "eb963a79-9a91-4b78-8160-3d1c81b37530",
   "metadata": {},
   "outputs": [],
   "source": [
    "import copy\n",
    "\n",
    "from tqdm import tqdm"
   ]
  },
  {
   "cell_type": "code",
   "execution_count": 2,
   "id": "8f029b13-c7e8-4609-94fb-db5a57c27336",
   "metadata": {},
   "outputs": [],
   "source": [
    "class Dependency():\n",
    "    def __init__(self, idx, word, tag, head, rel):\n",
    "        self.id = idx\n",
    "        self.word = word\n",
    "        self.tag = tag\n",
    "        self.head = head\n",
    "        self.rel = rel\n",
    "\n",
    "    def __str__(self):\n",
    "        # example:  1\t上海\t_\tNR\tNR\t_\t2\tnn\t_\t_\n",
    "        values = [str(self.id), self.word, \"_\", self.tag, \"_\", \"_\", str(self.head), self.rel, \"_\", \"_\"]\n",
    "        return '\\t'.join(values)\n",
    "\n",
    "    def __repr__(self):\n",
    "        return f\"({self.word}, {self.tag}, {self.head}, {self.rel})\""
   ]
  },
  {
   "cell_type": "code",
   "execution_count": 3,
   "id": "c2303b48-9800-40f8-85e4-b68d1a0c661e",
   "metadata": {},
   "outputs": [],
   "source": [
    "def load_codt(data_file: str):\n",
    "    # id, form, tag, head, rel\n",
    "#     sentence:List[Dependency] = [Dependency('0', '<root>', '_', '0', '_')]\n",
    "    sentence:List[Dependency] = []\n",
    "    \n",
    "    with open(data_file, 'r', encoding='utf-8') as f:\n",
    "        # data example: 1\t上海\t_\tNR\tNR\t_\t2\tnn\t_\t_\n",
    "        for line in f.readlines():\n",
    "            toks = line.split()\n",
    "            if len(toks) == 0:\n",
    "                yield sentence\n",
    "#                 sentence = [Dependency('0', '<root>', '_', '0', '_')]\n",
    "                sentence = []\n",
    "            elif len(toks) == 10:\n",
    "                dep = Dependency(toks[0], toks[1], toks[3], toks[6], toks[7])\n",
    "                sentence.append(dep)"
   ]
  },
  {
   "cell_type": "code",
   "execution_count": 4,
   "id": "21086620-9dac-4186-ab77-c5da0817cab7",
   "metadata": {},
   "outputs": [],
   "source": [
    "file1 = '../aug/diag_codt_sampled/diag_dev_sampled_fixed.conll'\n",
    "file2 = '../aug/diag_weakcodt_sampled/diag_dev_sampled.conll'"
   ]
  },
  {
   "cell_type": "code",
   "execution_count": 5,
   "id": "14c008a6-18cb-43c3-ad32-ee375a30426c",
   "metadata": {},
   "outputs": [
    {
     "name": "stdout",
     "output_type": "stream",
     "text": [
      "7435 6576\n"
     ]
    }
   ],
   "source": [
    "data1 = [d for d in load_codt(file1)]\n",
    "data2 = [d for d in load_codt(file2)]\n",
    "\n",
    "print(len(data1), len(data2))"
   ]
  },
  {
   "cell_type": "code",
   "execution_count": 6,
   "id": "677c7c47-08ef-4857-84fa-af7adda572be",
   "metadata": {},
   "outputs": [],
   "source": [
    "sentences1 = [' '.join([dep.word for dep in deps]) for deps in data1]\n",
    "sentences2 = [' '.join([dep.word for dep in deps]) for deps in data2]"
   ]
  },
  {
   "cell_type": "code",
   "execution_count": 7,
   "id": "d0a3199f-543d-464a-9be2-3b6244d755e5",
   "metadata": {},
   "outputs": [
    {
     "name": "stderr",
     "output_type": "stream",
     "text": [
      "2894it [00:01, 1770.69it/s]\n"
     ]
    },
    {
     "name": "stdout",
     "output_type": "stream",
     "text": [
      "----------------\n",
      "4541\n"
     ]
    },
    {
     "name": "stderr",
     "output_type": "stream",
     "text": [
      "2566it [00:01, 2031.66it/s]"
     ]
    },
    {
     "name": "stdout",
     "output_type": "stream",
     "text": [
      "4010\n"
     ]
    },
    {
     "name": "stderr",
     "output_type": "stream",
     "text": [
      "\n"
     ]
    }
   ],
   "source": [
    "same_cnt = 0\n",
    "for i, sentence1 in tqdm(enumerate(sentences1)):\n",
    "    for j, sentence2 in enumerate(sentences1):\n",
    "        \n",
    "        if sentence1 == sentence2:\n",
    "            same_cnt += 1\n",
    "            sentences1.pop(j)\n",
    "            data1.pop(j)\n",
    "            continue\n",
    "            \n",
    "print('----------------')\n",
    "print(same_cnt)\n",
    "\n",
    "same_cnt = 0\n",
    "for i, sentence1 in tqdm(enumerate(sentences2)):\n",
    "    for j, sentence2 in enumerate(sentences2):\n",
    "        \n",
    "        if sentence1 == sentence2:\n",
    "            same_cnt += 1\n",
    "            sentences2.pop(j)\n",
    "            data2.pop(j)\n",
    "            continue\n",
    "\n",
    "print(same_cnt)"
   ]
  },
  {
   "cell_type": "code",
   "execution_count": 8,
   "id": "279d5cc2-b304-4eb9-9ef4-96bbcc2267c7",
   "metadata": {},
   "outputs": [],
   "source": [
    "sentences1 = [' '.join([dep.word for dep in deps]) for deps in data1]\n",
    "sentences2 = [' '.join([dep.word for dep in deps]) for deps in data2]"
   ]
  },
  {
   "cell_type": "code",
   "execution_count": 9,
   "id": "06226a4e-00b8-4383-aa48-8a203941d713",
   "metadata": {},
   "outputs": [
    {
     "name": "stderr",
     "output_type": "stream",
     "text": [
      "2894it [00:00, 4143.17it/s]"
     ]
    },
    {
     "name": "stdout",
     "output_type": "stream",
     "text": [
      "1195\n",
      "4265\n"
     ]
    },
    {
     "name": "stderr",
     "output_type": "stream",
     "text": [
      "\n"
     ]
    }
   ],
   "source": [
    "merged = []\n",
    "\n",
    "same_cnt = 0\n",
    "for i, sentence1 in tqdm(enumerate(sentences1)):\n",
    "    \n",
    "    tmp = []\n",
    "    for j, sentence2 in enumerate(sentences2):\n",
    "        \n",
    "        if sentence1 == sentence2:\n",
    "            same_cnt += 1\n",
    "            sentences2.pop(j)\n",
    "            data2.pop(j)\n",
    "            continue\n",
    "    \n",
    "    merged.append(data1[i])\n",
    "\n",
    "merged.extend(data2)\n",
    "print(same_cnt)\n",
    "print(len(merged))"
   ]
  },
  {
   "cell_type": "code",
   "execution_count": 10,
   "id": "2e4da6fe-0625-4684-a11c-75c6e533a447",
   "metadata": {},
   "outputs": [],
   "source": [
    "out_file = '../aug/diag_weakcodt_sampled/diag_dev_merged.conll'\n",
    "fw = open(out_file, 'w+', encoding='utf-8')\n",
    "\n",
    "for i, d in enumerate(merged):\n",
    "    for idx, dep in enumerate(d):\n",
    "        save_str = f'{dep.id}\\t{dep.word}\\t_\\t_\\t_\\t_\\t{dep.head}\\t{dep.rel}\\t_\\t_\\n'\n",
    "        fw.write(save_str)\n",
    "        \n",
    "    fw.write('\\n')\n",
    "        \n",
    "fw.close()"
   ]
  }
 ],
 "metadata": {
  "kernelspec": {
   "display_name": "py395",
   "language": "python",
   "name": "python3"
  },
  "language_info": {
   "codemirror_mode": {
    "name": "ipython",
    "version": 3
   },
   "file_extension": ".py",
   "mimetype": "text/x-python",
   "name": "python",
   "nbconvert_exporter": "python",
   "pygments_lexer": "ipython3",
   "version": "3.9.5 (default, May 18 2021, 14:42:02) [MSC v.1916 64 bit (AMD64)]"
  },
  "vscode": {
   "interpreter": {
    "hash": "1adbcecb1e586d9b8eb419680ab9509109c36838db5c3be5530ca5bad501e730"
   }
  }
 },
 "nbformat": 4,
 "nbformat_minor": 5
}
