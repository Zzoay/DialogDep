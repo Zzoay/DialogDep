{
 "cells": [
  {
   "cell_type": "code",
   "execution_count": 1,
   "id": "cd3c07b4-5a01-4062-9c88-17345846e401",
   "metadata": {},
   "outputs": [],
   "source": [
    "import json\n",
    "\n",
    "from tqdm import tqdm\n",
    "import torch\n",
    "from ltp import LTP"
   ]
  },
  {
   "cell_type": "code",
   "execution_count": 2,
   "id": "ded8a9c6-6bc4-4c61-b572-89b4c9366e08",
   "metadata": {},
   "outputs": [],
   "source": [
    "from collections import Counter"
   ]
  },
  {
   "cell_type": "code",
   "execution_count": 3,
   "id": "48698019-a301-4de5-b28e-a5af41b07944",
   "metadata": {},
   "outputs": [],
   "source": [
    "ltp = LTP(path='base')\n",
    "ltp1 = LTP(path='base1')\n",
    "ltp2 = LTP(path='base2')"
   ]
  },
  {
   "cell_type": "code",
   "execution_count": 8,
   "id": "8b6e0a68-e6c0-4ea5-a65a-e2f04cad9919",
   "metadata": {},
   "outputs": [],
   "source": [
    "text = '乔丹 是 我 一直 完全 非常 喜欢 的 一 个 球星'\n",
    "\n",
    "seg, hidden = ltp2.seg([text.split(' ')], is_preseged=True)\n",
    "sdp = ltp2.sdp(hidden, mode='mix')"
   ]
  },
  {
   "cell_type": "code",
   "execution_count": 9,
   "id": "fd9fc65a-d064-43d6-9f93-ec8a80b52f6d",
   "metadata": {},
   "outputs": [
    {
     "data": {
      "text/plain": [
       "[[(1, 2, 'EXP'),\n",
       "  (2, 0, 'Root'),\n",
       "  (3, 7, 'AGT'),\n",
       "  (4, 7, 'mDEPD'),\n",
       "  (5, 7, 'mDEPD'),\n",
       "  (6, 7, 'mDEPD'),\n",
       "  (7, 11, 'rDATV'),\n",
       "  (8, 7, 'mDEPD'),\n",
       "  (9, 10, 'MEAS'),\n",
       "  (10, 11, 'MEAS'),\n",
       "  (11, 2, 'LINK')]]"
      ]
     },
     "execution_count": 9,
     "metadata": {},
     "output_type": "execute_result"
    }
   ],
   "source": [
    "sdp"
   ]
  },
  {
   "cell_type": "code",
   "execution_count": 11,
   "id": "307ebbc7-113a-4a95-b144-81237346ac0f",
   "metadata": {},
   "outputs": [
    {
     "data": {
      "text/plain": [
       "['AGT',\n",
       " 'CONT',\n",
       " 'DATV',\n",
       " 'EXP',\n",
       " 'FEAT',\n",
       " 'LINK',\n",
       " 'LOC',\n",
       " 'MANN',\n",
       " 'MATL',\n",
       " 'MEAS',\n",
       " 'PAT',\n",
       " 'REAS',\n",
       " 'Root',\n",
       " 'SCO',\n",
       " 'STAT',\n",
       " 'TIME',\n",
       " 'TOOL',\n",
       " 'dAGT',\n",
       " 'dCONT',\n",
       " 'dDATV',\n",
       " 'dEXP',\n",
       " 'dFEAT',\n",
       " 'dLINK',\n",
       " 'dLOC',\n",
       " 'dMANN',\n",
       " 'dMATL',\n",
       " 'dMEAS',\n",
       " 'dPAT',\n",
       " 'dREAS',\n",
       " 'dSCO',\n",
       " 'dSTAT',\n",
       " 'dTIME',\n",
       " 'dTOOL',\n",
       " 'eCOO',\n",
       " 'ePREC',\n",
       " 'eSUCC',\n",
       " 'mDEPD',\n",
       " 'mNEG',\n",
       " 'mPUNC',\n",
       " 'mRELA',\n",
       " 'rAGT',\n",
       " 'rCONT',\n",
       " 'rDATV',\n",
       " 'rEXP',\n",
       " 'rFEAT',\n",
       " 'rLINK',\n",
       " 'rLOC',\n",
       " 'rMANN',\n",
       " 'rMATL',\n",
       " 'rMEAS',\n",
       " 'rPAT',\n",
       " 'rREAS',\n",
       " 'rSCO',\n",
       " 'rSTAT',\n",
       " 'rTIME',\n",
       " 'rTOOL']"
      ]
     },
     "execution_count": 11,
     "metadata": {},
     "output_type": "execute_result"
    }
   ],
   "source": [
    "print(sorted(ltp.sdp_vocab))"
   ]
  },
  {
   "cell_type": "code",
   "execution_count": 4,
   "id": "56c01a9f-2187-4682-bf7d-1bb5a8ba8735",
   "metadata": {},
   "outputs": [
    {
     "data": {
      "text/plain": [
       "'\\n# relationship\\n# head, rel, tail \\n# head or tail: {utterance idx}-{word idx}\\n# example: (1-0, root, 1-3)\\n'"
      ]
     },
     "execution_count": 4,
     "metadata": {},
     "output_type": "execute_result"
    }
   ],
   "source": [
    "'''\n",
    "# relationship\n",
    "# head, rel, tail \n",
    "# head or tail: {utterance idx}-{word idx}\n",
    "# example: (1-0, root, 1-3)\n",
    "'''"
   ]
  },
  {
   "cell_type": "code",
   "execution_count": 7,
   "id": "3accb96c-f361-4462-afbc-6b562b88320e",
   "metadata": {},
   "outputs": [],
   "source": [
    "def pre_annot():\n",
    "    for name in ['train']:\n",
    "        file = f'data/{name}.json'\n",
    "        out = f'pre_annot/{name}.json'\n",
    "        fp = open(file, 'r', encoding='utf-8')\n",
    "        fw = open(out, 'w', encoding='utf-8')\n",
    "        data = json.load(fp)\n",
    "        \n",
    "        for i, d in enumerate(tqdm(data)):\n",
    "            # error in val\n",
    "            if i == 37:\n",
    "                continue\n",
    "            # error in train\n",
    "            if i == 480:\n",
    "                continue\n",
    "            \n",
    "            for turn, dialog in enumerate(d.get('dialog')):\n",
    "                speaker = dialog.get('speaker')\n",
    "\n",
    "                utterance = dialog.get('utterance')\n",
    "                \n",
    "                seg, hidden = ltp.seg([utterance.split(' ')], is_preseged=True)\n",
    "                sdp = ltp.sdp(hidden, mode='mix')\n",
    "                sdp1 = sdp[0]\n",
    "                \n",
    "                seg, hidden = ltp1.seg([utterance.split(' ')], is_preseged=True)\n",
    "                sdp = ltp1.sdp(hidden, mode='mix')\n",
    "                sdp2 = sdp[0]\n",
    "                \n",
    "                seg, hidden = ltp2.seg([utterance.split(' ')], is_preseged=True)\n",
    "                sdp = ltp2.sdp(hidden, mode='mix')\n",
    "                sdp3 = sdp[0]\n",
    "                \n",
    "                sdp = list([str(x) for x in sdp1]) + list([str(x) for x in sdp2]) + list([str(x) for x in sdp3])\n",
    "                cnt = Counter(sdp)\n",
    "                \n",
    "                for tri, num in cnt.items():\n",
    "                    if num < 3:\n",
    "                        continue\n",
    "                    tri = eval(tri)\n",
    "                    head = f\"{turn}-{tri[1]}\"\n",
    "                    tail = f\"{turn}-{tri[0]}\"\n",
    "                    rel = tri[2]\n",
    "                    \n",
    "                    d['relationship'].append([head, rel, tail])\n",
    "        \n",
    "        save_str = json.dumps(data, ensure_ascii=False, indent=4, separators=(',', ': '))\n",
    "        fw.write(save_str)\n",
    "        fp.close()\n",
    "        fw.close()"
   ]
  },
  {
   "cell_type": "code",
   "execution_count": 8,
   "id": "0dd1004e-06aa-48aa-9f86-9ec5ab656ff1",
   "metadata": {},
   "outputs": [
    {
     "name": "stderr",
     "output_type": "stream",
     "text": [
      "100%|██████████| 783/783 [07:34<00:00,  1.72it/s]\n"
     ]
    }
   ],
   "source": [
    "pre_annot()"
   ]
  },
  {
   "cell_type": "code",
   "execution_count": null,
   "id": "385b4f8b-d7ed-4e9e-a0ea-34a5b9ef655b",
   "metadata": {},
   "outputs": [],
   "source": []
  }
 ],
 "metadata": {
  "kernelspec": {
   "display_name": "Python 3 (ipykernel)",
   "language": "python",
   "name": "python3"
  },
  "language_info": {
   "codemirror_mode": {
    "name": "ipython",
    "version": 3
   },
   "file_extension": ".py",
   "mimetype": "text/x-python",
   "name": "python",
   "nbconvert_exporter": "python",
   "pygments_lexer": "ipython3",
   "version": "3.8.10"
  }
 },
 "nbformat": 4,
 "nbformat_minor": 5
}
