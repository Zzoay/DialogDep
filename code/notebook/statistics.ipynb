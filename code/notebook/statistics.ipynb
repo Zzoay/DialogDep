{
 "cells": [
  {
   "cell_type": "code",
   "execution_count": 1,
   "metadata": {},
   "outputs": [],
   "source": [
    "import json\n",
    "from collections import Counter"
   ]
  },
  {
   "cell_type": "code",
   "execution_count": 2,
   "metadata": {},
   "outputs": [],
   "source": [
    "train_file = '../data/train_50.json'\n",
    "test_file = '../data_testset/1to800_1126.json'"
   ]
  },
  {
   "cell_type": "code",
   "execution_count": 3,
   "metadata": {},
   "outputs": [],
   "source": [
    "syntax_dct = {\n",
    "    'root': '根节点',\n",
    "    'sasubj-obj': '同主同宾',\n",
    "    'sasubj': '同主语',\n",
    "    'dfsubj': '不同主语',\n",
    "    'subj': '主语',\n",
    "    'subj-in': '内部主语',\n",
    "    'obj': '宾语',\n",
    "    'pred': '谓语',\n",
    "    'att': '定语',\n",
    "    'adv': '状语',\n",
    "    'cmp': '补语',\n",
    "    'coo': '并列',\n",
    "    'pobj': '介宾',\n",
    "    'iobj': '间宾',\n",
    "    'de': '的',\n",
    "    'adjct': '附加',\n",
    "    'app': '称呼',\n",
    "    'exp': '解释',\n",
    "    'punc': '标点',\n",
    "    'frag': '片段',\n",
    "    'repet': '重复',\n",
    "}"
   ]
  },
  {
   "cell_type": "code",
   "execution_count": 4,
   "metadata": {},
   "outputs": [],
   "source": [
    "with open(train_file, 'r', encoding='utf-8') as f:\n",
    "    data = json.load(f)\n",
    "\n",
    "turns, avg_len = 0, 0\n",
    "relations, syntaxs, inners, inters = [], [], [], []\n",
    "roots = []\n",
    "for i, d in enumerate(data):\n",
    "    # print(d)\n",
    "    \n",
    "    dialog = d['dialog']\n",
    "    tmp_len = 0\n",
    "    for item in dialog:\n",
    "        word_lst = item['utterance'].strip().split(' ')\n",
    "        tmp_len += len(word_lst)\n",
    "    \n",
    "    turns += len(dialog)\n",
    "    avg_len += tmp_len\n",
    "    # avg_len += tmp_len / len(dialog)\n",
    "\n",
    "    relaitionships = d['relationship']\n",
    "    assert len(relaitionships) != 0\n",
    "    num_root = 0\n",
    "    for head, rel, tail in relaitionships:\n",
    "        head_uttr_idx, _ = [int(x) for x in head.split('-')]\n",
    "        tail_uttr_idx, _ = [int(x) for x in tail.split('-')]\n",
    "\n",
    "        if rel == 'root': \n",
    "            num_root += 1\n",
    "            roots.append(rel)\n",
    "        if rel in syntax_dct.keys():\n",
    "            syntaxs.append(rel)\n",
    "        elif head_uttr_idx == tail_uttr_idx:\n",
    "            inners.append(rel)\n",
    "        else: \n",
    "            inters.append(rel)\n",
    "        \n",
    "        relations.append(rel)\n",
    "    \n",
    "    if num_root != len(dialog):\n",
    "        print(i)"
   ]
  },
  {
   "cell_type": "code",
   "execution_count": 5,
   "metadata": {},
   "outputs": [
    {
     "data": {
      "text/plain": [
       "1167"
      ]
     },
     "execution_count": 5,
     "metadata": {},
     "output_type": "execute_result"
    }
   ],
   "source": [
    "len(roots)     "
   ]
  },
  {
   "cell_type": "code",
   "execution_count": 6,
   "metadata": {},
   "outputs": [
    {
     "data": {
      "text/plain": [
       "1167"
      ]
     },
     "execution_count": 6,
     "metadata": {},
     "output_type": "execute_result"
    }
   ],
   "source": [
    "turns"
   ]
  },
  {
   "cell_type": "code",
   "execution_count": 7,
   "metadata": {},
   "outputs": [
    {
     "name": "stdout",
     "output_type": "stream",
     "text": [
      "23.34\n",
      "193.72\n"
     ]
    }
   ],
   "source": [
    "num_data = len(data)\n",
    "print(turns / num_data)\n",
    "print(avg_len / num_data)"
   ]
  },
  {
   "cell_type": "code",
   "execution_count": 8,
   "metadata": {},
   "outputs": [
    {
     "name": "stdout",
     "output_type": "stream",
     "text": [
      "10800\n",
      "9129\n",
      "554\n",
      "1117\n",
      "Counter({'adv': 1472, 'obj': 1264, 'punc': 1238, 'root': 1167, 'adjct': 1158, 'att': 976, 'elbr': 696, 'subj': 693, 'stm-rsp': 381, 'qst-ans': 229, 'pobj': 198, 'cmp': 196, 'de': 174, 'sasubj': 119, 'app': 98, 'coo': 85, 'pred': 84, 'exp': 79, 'req-proc': 63, 'temp': 41, 'repet': 39, 'bckg': 33, 'subj-in': 29, 'cause': 27, 'cond': 27, 'prob-sol': 26, 'joint': 26, 'attr': 26, 'rstm': 25, 'dfsubj': 21, 'expl': 18, 'iobj': 15, 'sasubj-obj': 14, 'enbm': 14, 'cont': 14, 'frag': 10, 'comp': 8, 'manner': 7, 'tp-chg': 6, 'eval': 4})\n",
      "Counter({'adv': 1472, 'obj': 1264, 'punc': 1238, 'root': 1167, 'adjct': 1158, 'att': 976, 'subj': 693, 'pobj': 198, 'cmp': 196, 'de': 174, 'sasubj': 119, 'app': 98, 'coo': 85, 'pred': 84, 'exp': 79, 'repet': 39, 'subj-in': 29, 'dfsubj': 21, 'iobj': 15, 'sasubj-obj': 14, 'frag': 10})\n",
      "Counter({'elbr': 366, 'temp': 35, 'attr': 26, 'cond': 25, 'joint': 19, 'cause': 18, 'rstm': 15, 'bckg': 13, 'enbm': 12, 'cont': 10, 'comp': 8, 'manner': 6, 'expl': 1})\n",
      "Counter({'stm-rsp': 381, 'elbr': 330, 'qst-ans': 229, 'req-proc': 63, 'prob-sol': 26, 'bckg': 20, 'expl': 17, 'rstm': 10, 'cause': 9, 'joint': 7, 'temp': 6, 'tp-chg': 6, 'cont': 4, 'eval': 4, 'cond': 2, 'enbm': 2, 'manner': 1})\n"
     ]
    }
   ],
   "source": [
    "print(len(relations))\n",
    "print(len(syntaxs))\n",
    "print(len(inners))\n",
    "print(len(inters))\n",
    "print(Counter(relations))\n",
    "print(Counter(syntaxs))\n",
    "print(Counter(inners))\n",
    "print(Counter(inters))"
   ]
  },
  {
   "cell_type": "code",
   "execution_count": 9,
   "metadata": {},
   "outputs": [
    {
     "name": "stdout",
     "output_type": "stream",
     "text": [
      "Counter({'elbr': 696, 'stm-rsp': 381, 'qst-ans': 229, 'req-proc': 63, 'temp': 41, 'bckg': 33, 'cause': 27, 'cond': 27, 'joint': 26, 'attr': 26, 'prob-sol': 26, 'rstm': 25, 'expl': 18, 'enbm': 14, 'cont': 14, 'comp': 8, 'manner': 7, 'tp-chg': 6, 'eval': 4})\n"
     ]
    }
   ],
   "source": [
    "print(Counter(inners) + Counter(inters))"
   ]
  }
 ],
 "metadata": {
  "kernelspec": {
   "display_name": "Python 3.8.5 ('jgy')",
   "language": "python",
   "name": "python3"
  },
  "language_info": {
   "codemirror_mode": {
    "name": "ipython",
    "version": 3
   },
   "file_extension": ".py",
   "mimetype": "text/x-python",
   "name": "python",
   "nbconvert_exporter": "python",
   "pygments_lexer": "ipython3",
   "version": "3.8.5"
  },
  "orig_nbformat": 4,
  "vscode": {
   "interpreter": {
    "hash": "f5970cc3159b15dedb1f3a2bddfb758e67a1721376b7397fa1f3df8941c2f173"
   }
  }
 },
 "nbformat": 4,
 "nbformat_minor": 2
}
