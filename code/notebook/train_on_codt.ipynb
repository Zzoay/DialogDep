{
 "cells": [
  {
   "cell_type": "code",
   "execution_count": 1,
   "metadata": {},
   "outputs": [],
   "source": [
    "from typing import *\n",
    "import random"
   ]
  },
  {
   "cell_type": "code",
   "execution_count": 2,
   "metadata": {},
   "outputs": [],
   "source": [
    "from tqdm import tqdm\n",
    "import numpy as np\n",
    "import pandas as pd\n",
    "\n",
    "import torch\n",
    "from torch import nn\n",
    "from torch.utils.data import Dataset, DataLoader"
   ]
  },
  {
   "cell_type": "code",
   "execution_count": 3,
   "metadata": {},
   "outputs": [
    {
     "name": "stderr",
     "output_type": "stream",
     "text": [
      "2022-12-14 01:00:19.102544: I tensorflow/stream_executor/platform/default/dso_loader.cc:49] Successfully opened dynamic library libcudart.so.11.0\n"
     ]
    }
   ],
   "source": [
    "from transformers import AutoTokenizer, AdamW, get_linear_schedule_with_warmup\n",
    "from torch.utils.data import Dataset, DataLoader"
   ]
  },
  {
   "cell_type": "code",
   "execution_count": 4,
   "id": "66677b19",
   "metadata": {},
   "outputs": [],
   "source": [
    "import sys\n",
    "sys.path.append('..')"
   ]
  },
  {
   "cell_type": "code",
   "execution_count": 5,
   "metadata": {},
   "outputs": [],
   "source": [
    "from model.par_with_attr import ParWithAttr\n",
    "from model.base_par import DepParser\n",
    "from utils import arc_rel_loss, uas_las, to_cuda"
   ]
  },
  {
   "cell_type": "markdown",
   "metadata": {},
   "source": [
    "# Config"
   ]
  },
  {
   "cell_type": "code",
   "execution_count": 6,
   "metadata": {},
   "outputs": [],
   "source": [
    "class CFG:\n",
    "    # domains = ['BC', 'FIN', 'LEG', 'PB', 'PC', 'ZX']\n",
    "    train_file = '../aug/diag_weakcodt_sampled_new/diag_train_merged.conll'\n",
    "    dev_file = '../aug/codt/codt_dev.conll'\n",
    "    domains = ['BC']\n",
    "    # plm = 'hfl/chinese-electra-180g-large-discriminator'\n",
    "    plm = 'hfl/chinese-electra-180g-base-discriminator'\n",
    "    random_seed = 42\n",
    "    # num_epochs = 15\n",
    "    num_epochs = 15\n",
    "    # batch_size = 64  # using 22g memory when using electra-large\n",
    "    batch_size = 32\n",
    "    plm_lr = 2e-5\n",
    "    head_lr = 1e-4\n",
    "    weight_decay = 0.01\n",
    "    dropout = 0.2\n",
    "    grad_clip = 2\n",
    "    scheduler = 'linear'\n",
    "    warmup_ratio = 0.1\n",
    "    num_early_stop = 3\n",
    "    max_length = 160\n",
    "    hidden_size = 400\n",
    "    num_labels = 35\n",
    "    # print_every = 400\n",
    "    # eval_every = 800\n",
    "    print_every = 2000\n",
    "    eval_every = 4000\n",
    "    cuda = True\n",
    "    fp16 = True"
   ]
  },
  {
   "cell_type": "markdown",
   "metadata": {},
   "source": [
    "# Count"
   ]
  },
  {
   "cell_type": "code",
   "execution_count": 7,
   "metadata": {},
   "outputs": [],
   "source": [
    "rel_dct = {\n",
    "    'root': '根节点',\n",
    "    'sasubj-obj': '同主同宾',\n",
    "    'sasubj': '同主语',\n",
    "    'dfsubj': '不同主语',\n",
    "    'subj': '主语',\n",
    "    'subj-in': '内部主语',\n",
    "    'obj': '宾语',\n",
    "    'pred': '谓语',\n",
    "    'att': '定语',\n",
    "    'adv': '状语',\n",
    "    'cmp': '补语',\n",
    "    'coo': '并列',\n",
    "    'pobj': '介宾',\n",
    "    'iobj': '间宾',\n",
    "    'de': '的',\n",
    "    'adjct': '附加',\n",
    "    'app': '称呼',\n",
    "    'exp': '解释',\n",
    "    'punc': '标点',\n",
    "    'frag': '片段',\n",
    "    'repet': '重复',\n",
    "    # rst\n",
    "    'attr': '归属',\n",
    "    'bckg': '背景',\n",
    "    'cause': '因果',\n",
    "    'comp': '比较',\n",
    "    'cond': '状况',\n",
    "    'cont': '对比',\n",
    "    'elbr': '阐述',\n",
    "    'enbm': '目的',\n",
    "    'eval': '评价',\n",
    "    'expl': '解释-例证',\n",
    "    'joint': '联合',\n",
    "    'manner': '方式',\n",
    "    'rstm': '重申',\n",
    "    'temp': '时序',\n",
    "    # 'tp-chg': '主题变更',\n",
    "    # 'prob-sol': '问题-解决',\n",
    "    # 'qst-ans': '疑问-回答',\n",
    "    # 'stm-rsp': '陈述-回应',\n",
    "    # 'req-proc': '需求-处理',\n",
    "}"
   ]
  },
  {
   "cell_type": "code",
   "execution_count": 8,
   "metadata": {},
   "outputs": [
    {
     "name": "stdout",
     "output_type": "stream",
     "text": [
      "{'root': 0, 'sasubj-obj': 1, 'sasubj': 2, 'dfsubj': 3, 'subj': 4, 'subj-in': 5, 'obj': 6, 'pred': 7, 'att': 8, 'adv': 9, 'cmp': 10, 'coo': 11, 'pobj': 12, 'iobj': 13, 'de': 14, 'adjct': 15, 'app': 16, 'exp': 17, 'punc': 18, 'frag': 19, 'repet': 20, 'attr': 21, 'bckg': 22, 'cause': 23, 'comp': 24, 'cond': 25, 'cont': 26, 'elbr': 27, 'enbm': 28, 'eval': 29, 'expl': 30, 'joint': 31, 'manner': 32, 'rstm': 33, 'temp': 34}\n",
      "35\n"
     ]
    }
   ],
   "source": [
    "rel2id = {}\n",
    "for i, (key, value) in enumerate(rel_dct.items()):\n",
    "    rel2id[key] = i\n",
    "print(rel2id)\n",
    "print(len(rel2id))"
   ]
  },
  {
   "cell_type": "markdown",
   "metadata": {},
   "source": [
    "# Seed & Device"
   ]
  },
  {
   "cell_type": "code",
   "execution_count": 9,
   "metadata": {},
   "outputs": [],
   "source": [
    "def seed_everything(seed=CFG.random_seed):\n",
    "    np.random.seed(seed%(2**32-1))\n",
    "    random.seed(seed)\n",
    "    torch.manual_seed(seed)\n",
    "    torch.cuda.manual_seed(seed)\n",
    "    torch.backends.cudnn.deterministic =True\n",
    "    torch.backends.cudnn.benchmark = False\n",
    "\n",
    "seed_everything()"
   ]
  },
  {
   "cell_type": "code",
   "execution_count": 10,
   "metadata": {},
   "outputs": [
    {
     "name": "stdout",
     "output_type": "stream",
     "text": [
      "Using device: cuda\n"
     ]
    }
   ],
   "source": [
    "if torch.cuda.is_available():\n",
    "    device = torch.device('cuda')\n",
    "else:\n",
    "    device = torch.device('cpu')\n",
    "\n",
    "print(f'Using device: {device}')"
   ]
  },
  {
   "cell_type": "markdown",
   "metadata": {},
   "source": [
    "# Data"
   ]
  },
  {
   "cell_type": "code",
   "execution_count": 11,
   "metadata": {},
   "outputs": [],
   "source": [
    "class Dependency():\n",
    "    def __init__(self, idx, word, tag, head, rel):\n",
    "        self.id = idx\n",
    "        self.word = word\n",
    "        self.tag = tag\n",
    "        self.head = head\n",
    "        self.rel = rel\n",
    "\n",
    "    def __str__(self):\n",
    "        # example:  1\t上海\t_\tNR\tNR\t_\t2\tnn\t_\t_\n",
    "        values = [str(self.idx), self.word, \"_\", self.tag, \"_\", \"_\", str(self.head), self.rel, \"_\", \"_\"]\n",
    "        return '\\t'.join(values)\n",
    "\n",
    "    def __repr__(self):\n",
    "        return f\"({self.word}, {self.tag}, {self.head}, {self.rel})\""
   ]
  },
  {
   "cell_type": "code",
   "execution_count": 12,
   "metadata": {},
   "outputs": [],
   "source": [
    "def load_codt(data_file: str):\n",
    "    # id, form, tag, head, rel\n",
    "#     sentence:List[Dependency] = [Dependency('0', '<root>', '_', '0', '_')]\n",
    "    sentence:List[Dependency] = []\n",
    "\n",
    "    with open(data_file, 'r', encoding='utf-8') as f:\n",
    "        # data example: 1\t上海\t_\tNR\tNR\t_\t2\tnn\t_\t_\n",
    "        for line in f.readlines():\n",
    "            toks = line.split()\n",
    "            if len(toks) == 0:\n",
    "                yield sentence\n",
    "#                 sentence = [Dependency('0', '<root>', '_', '0', '_')]\n",
    "                sentence = []\n",
    "            elif len(toks) == 10:\n",
    "                dep = Dependency(toks[0], toks[1], toks[3], toks[8], toks[9])\n",
    "                sentence.append(dep)\n",
    "\n",
    "from itertools import chain\n",
    "\n",
    "def load_codt_with_aug(data_file: str, train: bool):\n",
    "    # id, form, tag, head, rel\n",
    "#     sentence:List[Dependency] = [Dependency('0', '<root>', '_', '0', '_')]\n",
    "    sentence:List[Dependency] = []\n",
    "\n",
    "    f1 = open(data_file, 'r', encoding='utf-8')\n",
    "    f2 = open('../aug/codt/codt_train_fixed.conll', 'r', encoding='utf-8') if train else open('../aug/codt/codt_dev.conll', 'r', encoding='utf-8')\n",
    "    for line in chain(f1.readlines(), f2.readlines()):\n",
    "        toks = line.split()\n",
    "        if len(toks) == 0:\n",
    "            yield sentence\n",
    "#                 sentence = [Dependency('0', '<root>', '_', '0', '_')]\n",
    "            sentence = []\n",
    "        elif len(toks) == 10:\n",
    "            if toks[8] != '_':\n",
    "                dep = Dependency(toks[0], toks[1], toks[3], toks[8], toks[9])\n",
    "            else:\n",
    "                dep = Dependency(toks[0], toks[1], toks[3], toks[6], toks[7])\n",
    "            sentence.append(dep)\n",
    "\n",
    "    f1.close()\n",
    "    f2.close()"
   ]
  },
  {
   "cell_type": "code",
   "execution_count": 13,
   "metadata": {},
   "outputs": [],
   "source": [
    "tokenizer = AutoTokenizer.from_pretrained(CFG.plm)\n",
    "CFG.tokenizer = tokenizer"
   ]
  },
  {
   "cell_type": "code",
   "execution_count": 16,
   "metadata": {},
   "outputs": [],
   "source": [
    "class CODTDataset(Dataset):\n",
    "    def __init__(self, cfg, train):\n",
    "        self.train = train\n",
    "        self.cfg = cfg\n",
    "        self.inputs, self.offsets, self.heads, self.rels, self.masks = self.read_data()\n",
    "        \n",
    "    def read_data(self):\n",
    "        inputs, offsets = [], []\n",
    "        tags, heads, rels, masks = [], [], [], []\n",
    "        \n",
    "        for domain in self.cfg.domains:\n",
    "            file = self.cfg.train_file if self.train else self.cfg.dev_file\n",
    "            \n",
    "            load_fn = load_codt_with_aug\n",
    "            for deps in tqdm(load_fn(file, self.train)):\n",
    "            # for deps in tqdm(load_codt(file)):\n",
    "                # another sentence\n",
    "                seq_len = len(deps)\n",
    "                \n",
    "                word_lst = [] \n",
    "                rel_attr = {'input_ids':torch.Tensor(), 'token_type_ids':torch.Tensor(), 'attention_mask':torch.Tensor()}\n",
    "                head_tokens = np.zeros(self.cfg.max_length, dtype=np.int64)  # same as root index is 0, constrainting by mask \n",
    "                rel_tokens = np.zeros(self.cfg.max_length, dtype=np.int64)\n",
    "                mask_tokens = np.zeros(self.cfg.max_length, dtype=np.int64)\n",
    "                for i, dep in enumerate(deps):\n",
    "                    if i == seq_len or i + 1== self.cfg.max_length:\n",
    "                        break\n",
    "                        \n",
    "                    word_lst.append(dep.word)\n",
    "                      \n",
    "                    if dep.head in ['_', '-1'] or int(dep.head) + 1 >= self.cfg.max_length:\n",
    "                        head_tokens[i+1] = 0\n",
    "                        mask_tokens[i+1] = 0\n",
    "                    else:\n",
    "                        head_tokens[i+1] = int(dep.head)\n",
    "                        mask_tokens[i+1] = 1\n",
    "\n",
    "                    if self.train:\n",
    "                        rel_tokens[i+1] = rel2id[dep.rel]\n",
    "                    else:\n",
    "                        rel_tokens[i+1] = rel2id.get(dep.rel, rel2id['adjct'])\n",
    "\n",
    "                tokenized = tokenizer.encode_plus(word_lst, \n",
    "                                                  padding='max_length', \n",
    "                                                  truncation=True,\n",
    "                                                  max_length=self.cfg.max_length, \n",
    "                                                  return_offsets_mapping=True, \n",
    "                                                  return_tensors='pt',\n",
    "                                                  is_split_into_words=True)\n",
    "                inputs.append({\"input_ids\": tokenized['input_ids'][0],\n",
    "                              \"token_type_ids\": tokenized['token_type_ids'][0],\n",
    "                               \"attention_mask\": tokenized['attention_mask'][0]\n",
    "                              })\n",
    "                \n",
    "#                 sentence_word_idx = np.zeros(self.cfg.max_length, dtype=np.int64)\n",
    "                sentence_word_idx = []\n",
    "                for idx, (start, end) in enumerate(tokenized.offset_mapping[0][1:]):\n",
    "                    if start == 0 and end != 0:\n",
    "                        sentence_word_idx.append(idx)\n",
    "#                         sentence_word_idx[idx] = idx\n",
    "                if len(sentence_word_idx) < self.cfg.max_length - 1:\n",
    "                    sentence_word_idx.extend([0]* (self.cfg.max_length - 1 - len(sentence_word_idx)))\n",
    "                offsets.append(torch.as_tensor(sentence_word_idx))\n",
    "                \n",
    "                heads.append(head_tokens)\n",
    "                rels.append(rel_tokens)\n",
    "                masks.append(mask_tokens)\n",
    "                    \n",
    "        return inputs, offsets, heads, rels, masks\n",
    "\n",
    "    def __getitem__(self, idx):\n",
    "        return self.inputs[idx], self.offsets[idx], self.heads[idx], self.rels[idx], self.masks[idx]\n",
    "    \n",
    "    def __len__(self):\n",
    "        return len(self.rels)"
   ]
  },
  {
   "cell_type": "code",
   "execution_count": 17,
   "metadata": {},
   "outputs": [
    {
     "name": "stderr",
     "output_type": "stream",
     "text": [
      "59458it [01:52, 528.27it/s]\n",
      "1948it [00:03, 521.28it/s]\n"
     ]
    }
   ],
   "source": [
    "train_dataset = CODTDataset(CFG, train=True)\n",
    "val_dataset = CODTDataset(CFG, train=False)"
   ]
  },
  {
   "cell_type": "code",
   "execution_count": 18,
   "metadata": {},
   "outputs": [],
   "source": [
    "train_iter = DataLoader(train_dataset, batch_size=CFG.batch_size)\n",
    "val_iter = DataLoader(val_dataset, batch_size=CFG.batch_size)"
   ]
  },
  {
   "cell_type": "markdown",
   "metadata": {
    "tags": []
   },
   "source": [
    "# Model"
   ]
  },
  {
   "cell_type": "code",
   "execution_count": 19,
   "metadata": {},
   "outputs": [
    {
     "name": "stderr",
     "output_type": "stream",
     "text": [
      "Some weights of the model checkpoint at hfl/chinese-electra-180g-base-discriminator were not used when initializing ElectraModel: ['discriminator_predictions.dense_prediction.weight', 'discriminator_predictions.dense.weight', 'discriminator_predictions.dense.bias', 'discriminator_predictions.dense_prediction.bias']\n",
      "- This IS expected if you are initializing ElectraModel from the checkpoint of a model trained on another task or with another architecture (e.g. initializing a BertForSequenceClassification model from a BertForPreTraining model).\n",
      "- This IS NOT expected if you are initializing ElectraModel from the checkpoint of a model that you expect to be exactly identical (initializing a BertForSequenceClassification model from a BertForSequenceClassification model).\n"
     ]
    }
   ],
   "source": [
    "model = DepParser(CFG)"
   ]
  },
  {
   "cell_type": "markdown",
   "metadata": {},
   "source": [
    "# Trainer"
   ]
  },
  {
   "cell_type": "code",
   "execution_count": 20,
   "metadata": {},
   "outputs": [],
   "source": [
    "class MyTrainer():\n",
    "    def __init__(self, \n",
    "                 model,\n",
    "                 trainset_size,\n",
    "                 loss_fn: Callable, \n",
    "                 metrics_fn: Callable, \n",
    "                 config: Dict) -> None:\n",
    "        self.loss_fn = loss_fn\n",
    "        self.metrics_fn = metrics_fn\n",
    "\n",
    "        plm_params = [p for n,p in model.named_parameters() if 'encoder' in n]\n",
    "        head_params = [p for n,p in model.named_parameters() if 'encoder' not in n]\n",
    "        self.optim = AdamW([{'params': plm_params, 'lr':config.plm_lr}, \n",
    "                            {'params': head_params, 'lr':config.head_lr}], \n",
    "                            lr=config.plm_lr,\n",
    "                            weight_decay=config.weight_decay\n",
    "                          )\n",
    "        \n",
    "        training_step = int(config.num_epochs * (trainset_size / config.batch_size))\n",
    "        warmup_step = int(config.warmup_ratio * training_step)  \n",
    "        self.optim_schedule = get_linear_schedule_with_warmup(optimizer=self.optim, \n",
    "                                                              num_warmup_steps=warmup_step, \n",
    "                                                              num_training_steps=training_step)\n",
    "        self.scaler = torch.cuda.amp.GradScaler(enabled=config.fp16)\n",
    "\n",
    "        self.config = config\n",
    "\n",
    "    def train(self, \n",
    "              model: nn.Module, \n",
    "              train_iter: DataLoader, \n",
    "              val_iter: DataLoader):\n",
    "        model.train()\n",
    "        if self.config.cuda and torch.cuda.is_available():\n",
    "            model.cuda()\n",
    "            pass\n",
    "        \n",
    "        best_res = [0, 0, 0]\n",
    "        early_stop_cnt = 0\n",
    "        best_state_dict = None\n",
    "        step = 0\n",
    "        for epoch in tqdm(range(self.config.num_epochs)):\n",
    "            for batch in train_iter:\n",
    "                inputs, offsets, heads, rels, masks = batch\n",
    "                \n",
    "                if self.config.cuda and torch.cuda.is_available():\n",
    "                    inputs_cuda = {}\n",
    "                    for key, value in inputs.items():\n",
    "                        inputs_cuda[key] = value.cuda()\n",
    "                    inputs = inputs_cuda\n",
    "                    \n",
    "                    offsets, heads, rels, masks = to_cuda(data=(offsets, heads, rels, masks))\n",
    "                \n",
    "                arc_logits, rel_logits, loss = model(inputs, offsets, heads, rels, masks)\n",
    "                \n",
    "                self.optim.zero_grad()\n",
    "                if self.config.cuda and self.config.fp16:\n",
    "                    self.scaler.scale(loss).backward()\n",
    "                    self.scaler.unscale_(self.optim)\n",
    "                else:\n",
    "                    loss.backward()\n",
    "\n",
    "                nn.utils.clip_grad_norm_(filter(lambda p: p.requires_grad, model.parameters()), max_norm=self.config.grad_clip)\n",
    "\n",
    "                if self.config.fp16:\n",
    "                    self.scaler.step(self.optim)\n",
    "                    self.scaler.update()\n",
    "                else:\n",
    "                    self.optim.step()\n",
    "                self.optim_schedule.step()\n",
    "\n",
    "                metrics = self.metrics_fn(arc_logits, rel_logits, heads, rels, masks)\n",
    "\n",
    "                if (step) % self.config.print_every == 0:\n",
    "                    print(f\"--epoch {epoch}, step {step}, loss {loss}\")\n",
    "                    print(f\"  {metrics}\")\n",
    "\n",
    "                if val_iter and (step + 1) % self.config.eval_every == 0:\n",
    "                    avg_loss, uas, las = self.eval(model, val_iter)\n",
    "                    res = [avg_loss, uas, las]\n",
    "                    if las > best_res[2]:  # las\n",
    "                        best_res = res\n",
    "                        best_state_dict = model.state_dict()\n",
    "                        torch.save(best_state_dict, f\"../results/base_par_new.pt\")\n",
    "                        early_stop_cnt = 0\n",
    "                    else:\n",
    "                        early_stop_cnt += 1\n",
    "                    \n",
    "                    print(\"--Best Evaluation: \")\n",
    "                    print(\"-loss: {}  UAS: {}  LAS: {} \\n\".format(*best_res))\n",
    "                    # back to train mode\n",
    "                    model.train()\n",
    "                \n",
    "                if early_stop_cnt >= self.config.num_early_stop:\n",
    "                    print(\"--early stopping, training finished.\")\n",
    "                    return best_res, best_state_dict\n",
    "\n",
    "                step += 1\n",
    "        print(\"--training finished.\")\n",
    "        if best_state_dict is not None:\n",
    "            return best_res, best_state_dict\n",
    "        return best_res, model.state_dict()\n",
    "\n",
    "    # eval func\n",
    "    def eval(self, model: nn.Module, eval_iter: DataLoader, save_file: str = \"\", save_title: str = \"\"):\n",
    "        model.eval()\n",
    "\n",
    "        head_whole, rel_whole, mask_whole = torch.Tensor(), torch.Tensor(), torch.Tensor()\n",
    "        arc_logit_whole, rel_logit_whole = torch.Tensor(), torch.Tensor()\n",
    "        avg_loss = 0.0\n",
    "        for step, batch in enumerate(eval_iter):\n",
    "            inputs, offsets, heads, rels, masks = batch\n",
    "\n",
    "            if self.config.cuda and torch.cuda.is_available():\n",
    "                inputs_cuda = {}\n",
    "                for key, value in inputs.items():\n",
    "                    inputs_cuda[key] = value.cuda()\n",
    "                inputs = inputs_cuda\n",
    "\n",
    "                offsets, heads, rels, masks = to_cuda(data=(offsets, heads, rels, masks))\n",
    "            \n",
    "            with torch.no_grad():\n",
    "                arc_logits, rel_logits = model(inputs, offsets, heads=None, rels=None, masks=masks, evaluate=True)\n",
    "            \n",
    "            loss = arc_rel_loss(arc_logits, rel_logits, heads, rels, masks)\n",
    "\n",
    "            arc_logit_whole = torch.cat([arc_logit_whole, arc_logits.cpu()], dim=0)\n",
    "            rel_logit_whole = torch.cat([rel_logit_whole, rel_logits.cpu()], dim=0)\n",
    "\n",
    "            head_whole, rel_whole = torch.cat([head_whole, heads.cpu()], dim=0), torch.cat([rel_whole, rels.cpu()], dim=0)\n",
    "            mask_whole = torch.cat([mask_whole, masks.cpu()], dim=0)\n",
    "\n",
    "            avg_loss += loss.item() * len(heads)  # times the batch size of data\n",
    "\n",
    "        metrics = self.metrics_fn(arc_logit_whole, rel_logit_whole, head_whole, rel_whole, mask_whole)\n",
    "        uas, las = metrics['UAS'], metrics['LAS']\n",
    "\n",
    "        avg_loss /= len(eval_iter.dataset)  # type: ignore\n",
    "\n",
    "        print(\"--Evaluation:\")\n",
    "        print(\"Avg Loss: {}  UAS: {}  LAS: {} \\n\".format(avg_loss, uas, las))\n",
    "\n",
    "        if save_file != \"\":\n",
    "            results = [save_title, avg_loss, uas, las]  # type: ignore\n",
    "            results = [str(x) for x in results]\n",
    "            with open(save_file, \"a+\") as f:\n",
    "                f.write(\",\".join(results) + \"\\n\")  # type: ignore\n",
    "\n",
    "        return avg_loss, uas, las  # type: ignore\n",
    "    \n",
    "    def save_results(self, save_file, save_title, results):\n",
    "        saves = [save_title] + results\n",
    "        saves = [str(x) for x in saves]\n",
    "        with open(save_file, \"a+\") as f:\n",
    "            f.write(\",\".join(saves) + \"\\n\")  # type: ignore"
   ]
  },
  {
   "cell_type": "markdown",
   "metadata": {},
   "source": [
    "# Training"
   ]
  },
  {
   "cell_type": "code",
   "execution_count": 21,
   "metadata": {},
   "outputs": [
    {
     "name": "stderr",
     "output_type": "stream",
     "text": [
      "/home/jgy/.conda/envs/jgy/lib/python3.8/site-packages/transformers/optimization.py:306: FutureWarning: This implementation of AdamW is deprecated and will be removed in a future version. Use the PyTorch implementation torch.optim.AdamW instead, or set `no_deprecation_warning=True` to disable this warning\n",
      "  warnings.warn(\n",
      "  0%|          | 0/15 [00:00<?, ?it/s]"
     ]
    },
    {
     "name": "stdout",
     "output_type": "stream",
     "text": [
      "--epoch 0, step 0, loss 9.239877700805664\n",
      "  {'UAS': 0.01607717041800643, 'LAS': 0.0}\n"
     ]
    },
    {
     "name": "stderr",
     "output_type": "stream",
     "text": [
      "  7%|▋         | 1/15 [11:00<2:34:05, 660.39s/it]"
     ]
    },
    {
     "name": "stdout",
     "output_type": "stream",
     "text": [
      "--epoch 1, step 2000, loss 0.1817149519920349\n",
      "  {'UAS': 0.9422222222222222, 'LAS': 0.9333333333333333}\n"
     ]
    }
   ],
   "source": [
    "trainer = MyTrainer(model=model, trainset_size=len(train_dataset), loss_fn=arc_rel_loss, metrics_fn=uas_las, config=CFG)\n",
    "best_res, best_state_dict = trainer.train(model=model, train_iter=train_iter, val_iter=None)"
   ]
  },
  {
   "cell_type": "code",
   "execution_count": null,
   "metadata": {},
   "outputs": [],
   "source": [
    "trainer.save_results(save_file='../results/res.txt', save_title='', results=best_res)"
   ]
  },
  {
   "cell_type": "code",
   "execution_count": null,
   "metadata": {},
   "outputs": [],
   "source": [
    "torch.save(best_state_dict, f\"../results/base_par_new.pt\")"
   ]
  },
  {
   "cell_type": "code",
   "execution_count": null,
   "id": "14c91e86",
   "metadata": {},
   "outputs": [],
   "source": [
    "model = None\n",
    "torch.cuda.empty_cache()"
   ]
  }
 ],
 "metadata": {
  "kernelspec": {
   "display_name": "Python 3.8.5 ('jgy')",
   "language": "python",
   "name": "python3"
  },
  "language_info": {
   "codemirror_mode": {
    "name": "ipython",
    "version": 3
   },
   "file_extension": ".py",
   "mimetype": "text/x-python",
   "name": "python",
   "nbconvert_exporter": "python",
   "pygments_lexer": "ipython3",
   "version": "3.8.5 (default, Sep  4 2020, 07:30:14) \n[GCC 7.3.0]"
  },
  "vscode": {
   "interpreter": {
    "hash": "f5970cc3159b15dedb1f3a2bddfb758e67a1721376b7397fa1f3df8941c2f173"
   }
  }
 },
 "nbformat": 4,
 "nbformat_minor": 5
}
