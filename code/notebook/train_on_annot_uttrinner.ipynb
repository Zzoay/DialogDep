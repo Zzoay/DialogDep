{
 "cells": [
  {
   "cell_type": "code",
   "execution_count": 1,
   "id": "3516121e-224c-4ff6-b113-7f0688056924",
   "metadata": {
    "tags": []
   },
   "outputs": [],
   "source": [
    "from collections import Counter\n",
    "from typing import *\n",
    "import random\n",
    "import json"
   ]
  },
  {
   "cell_type": "code",
   "execution_count": 2,
   "id": "6b65642f-6ea7-44bf-bcb5-562aff34f852",
   "metadata": {},
   "outputs": [],
   "source": [
    "from tqdm import tqdm\n",
    "import numpy as np\n",
    "from sklearn.model_selection import KFold\n",
    "\n",
    "import torch\n",
    "from torch import nn\n",
    "from torch.nn import functional as F\n",
    "from torch.utils.data import Dataset, DataLoader, Subset\n",
    "from torch.cuda.amp import autocast, GradScaler\n",
    "\n",
    "from transformers import AutoConfig, AutoModel, AutoTokenizer, AdamW, get_constant_schedule_with_warmup, get_linear_schedule_with_warmup"
   ]
  },
  {
   "cell_type": "code",
   "execution_count": 3,
   "id": "38dea672-6e55-40bf-8b1a-711039e54a34",
   "metadata": {},
   "outputs": [],
   "source": [
    "from trainer import BasicTrainer\n",
    "from model import DepParser\n",
    "from utils import arc_rel_loss, uas_las"
   ]
  },
  {
   "cell_type": "markdown",
   "id": "5364156f-4402-4b34-b357-90cd4683ed92",
   "metadata": {},
   "source": [
    "## Config"
   ]
  },
  {
   "cell_type": "code",
   "execution_count": 4,
   "id": "67c8c13e-2a29-4c4a-a0c0-bc88089e4395",
   "metadata": {},
   "outputs": [],
   "source": [
    "class CFG:\n",
    "    data_file = '/root/diag_dep/data_testset/1to500_1013.json'\n",
    "    plm = 'hfl/chinese-electra-180g-large-discriminator'\n",
    "    num_folds = 5\n",
    "    random_seed = 42\n",
    "    num_epochs = 10\n",
    "    batch_size = 64\n",
    "    lr = 2e-5\n",
    "    weight_decay = 0.01\n",
    "    dropout = 0.2\n",
    "    grad_clip = 1\n",
    "    scheduler = 'linear'\n",
    "    warmup_ratio = 0.1\n",
    "    num_early_stop = 5\n",
    "    max_length = 80\n",
    "    num_labels = 40\n",
    "    hidden_size = 400\n",
    "    print_every = 1e9\n",
    "    eval_every = 50\n",
    "    cuda = True\n",
    "    fp16 = True"
   ]
  },
  {
   "cell_type": "markdown",
   "id": "76bcaccb-18d3-4c60-a99f-c9ba2ac5687b",
   "metadata": {},
   "source": [
    "## Seed and Device"
   ]
  },
  {
   "cell_type": "code",
   "execution_count": 5,
   "id": "6fc6cbe6-687d-423a-a727-b81ea81fed21",
   "metadata": {},
   "outputs": [],
   "source": [
    "def seed_everything(seed=CFG.random_seed):\n",
    "    np.random.seed(seed%(2**32-1))\n",
    "    random.seed(seed)\n",
    "    torch.manual_seed(seed)\n",
    "    torch.cuda.manual_seed(seed)\n",
    "    torch.backends.cudnn.deterministic =True\n",
    "    torch.backends.cudnn.benchmark = False\n",
    "\n",
    "seed_everything()"
   ]
  },
  {
   "cell_type": "code",
   "execution_count": 6,
   "id": "c9ba0a24-f554-4f67-9459-0938a67c58c8",
   "metadata": {},
   "outputs": [
    {
     "name": "stdout",
     "output_type": "stream",
     "text": [
      "Using device: cuda\n"
     ]
    }
   ],
   "source": [
    "if torch.cuda.is_available():\n",
    "    device = torch.device('cuda')\n",
    "else:\n",
    "    device = torch.device('cpu')\n",
    "\n",
    "print(f'Using device: {device}')"
   ]
  },
  {
   "cell_type": "markdown",
   "id": "9e75bf13-f8bf-4f44-9fd3-022f474f1dae",
   "metadata": {},
   "source": [
    "## Data"
   ]
  },
  {
   "cell_type": "code",
   "execution_count": 7,
   "id": "72b2700c-7f24-4014-ba65-2f4fbd5362f1",
   "metadata": {},
   "outputs": [],
   "source": [
    "rel_dct = {\n",
    "    'root': '根节点',\n",
    "    'sasubj-obj': '同主同宾',\n",
    "    'sasubj': '同主语',\n",
    "    'dfsubj': '不同主语',\n",
    "    'subj': '主语',\n",
    "    'subj-in': '内部主语',\n",
    "    'obj': '宾语',\n",
    "    'pred': '谓语',\n",
    "    'att': '定语',\n",
    "    'adv': '状语',\n",
    "    'cmp': '补语',\n",
    "    'coo': '并列',\n",
    "    'pobj': '介宾',\n",
    "    'iobj': '间宾',\n",
    "    'de': '的',\n",
    "    'adjct': '附加',\n",
    "    'app': '称呼',\n",
    "    'exp': '解释',\n",
    "    'punc': '标点',\n",
    "    'frag': '片段',\n",
    "    'repet': '重复',\n",
    "    # rst\n",
    "    'attr': '归属',\n",
    "    'bckg': '背景',\n",
    "    'cause': '因果',\n",
    "    'comp': '比较',\n",
    "    'cond': '状况',\n",
    "    'cont': '对比',\n",
    "    'elbr': '阐述',\n",
    "    'enbm': '目的',\n",
    "    'eval': '评价',\n",
    "    'expl': '解释-例证',\n",
    "    'joint': '联合',\n",
    "    'manner': '方式',\n",
    "    'rstm': '重申',\n",
    "    'temp': '时序',\n",
    "    'tp-chg': '主题变更',\n",
    "    'prob-sol': '问题-解决',\n",
    "    'qst-ans': '疑问-回答',\n",
    "    'stm-rsp': '陈述-回应',\n",
    "    'req-proc': '需求-处理',\n",
    "}"
   ]
  },
  {
   "cell_type": "code",
   "execution_count": 8,
   "id": "35cf9c30-727a-489d-97e6-efc33c2bf5a3",
   "metadata": {
    "tags": []
   },
   "outputs": [
    {
     "name": "stdout",
     "output_type": "stream",
     "text": [
      "{'root': 0, 'sasubj-obj': 1, 'sasubj': 2, 'dfsubj': 3, 'subj': 4, 'subj-in': 5, 'obj': 6, 'pred': 7, 'att': 8, 'adv': 9, 'cmp': 10, 'coo': 11, 'pobj': 12, 'iobj': 13, 'de': 14, 'adjct': 15, 'app': 16, 'exp': 17, 'punc': 18, 'frag': 19, 'repet': 20, 'attr': 21, 'bckg': 22, 'cause': 23, 'comp': 24, 'cond': 25, 'cont': 26, 'elbr': 27, 'enbm': 28, 'eval': 29, 'expl': 30, 'joint': 31, 'manner': 32, 'rstm': 33, 'temp': 34, 'tp-chg': 35, 'prob-sol': 36, 'qst-ans': 37, 'stm-rsp': 38, 'req-proc': 39}\n"
     ]
    }
   ],
   "source": [
    "rel2id = {key:idx for idx, key in enumerate(rel_dct.keys())}\n",
    "print(rel2id)"
   ]
  },
  {
   "cell_type": "code",
   "execution_count": 9,
   "id": "f0d8e193-ac84-4024-9890-3564fe797318",
   "metadata": {},
   "outputs": [
    {
     "name": "stdout",
     "output_type": "stream",
     "text": [
      "21128\n",
      "add token: [root] 21128\n",
      "add token: [qst] 21129\n",
      "add token: [ans] 21130\n",
      "21131\n"
     ]
    }
   ],
   "source": [
    "tokenizer = AutoTokenizer.from_pretrained(CFG.plm)\n",
    "print(len(tokenizer))\n",
    " \n",
    "num_added_toks = tokenizer.add_tokens(['[root]', '[qst]', '[ans]'], special_tokens=True)\n",
    "tokenizer.root_token = '[root]'\n",
    "tokenizer.root_token_ids = tokenizer('[root]')['input_ids'][1]\n",
    "print(f\"add token: {tokenizer.root_token} {tokenizer.root_token_ids}\")\n",
    "\n",
    "tokenizer.qst_token = '[qst]'\n",
    "tokenizer.qst_token_ids = tokenizer('[qst]')['input_ids'][1]\n",
    "print(f\"add token: {tokenizer.qst_token} {tokenizer.qst_token_ids}\")\n",
    "\n",
    "tokenizer.ans_token = '[ans]'\n",
    "tokenizer.ans_token_ids = tokenizer('[ans]')['input_ids'][1]\n",
    "print(f\"add token: {tokenizer.ans_token} {tokenizer.ans_token_ids}\")\n",
    "print(len(tokenizer))\n",
    "\n",
    "CFG.tokenizer = tokenizer"
   ]
  },
  {
   "cell_type": "code",
   "execution_count": 10,
   "id": "88f0dfad-12d1-4546-b05e-ad36bffaa720",
   "metadata": {},
   "outputs": [],
   "source": [
    "class Dependency():\n",
    "    def __init__(self, idx, word, head, rel):\n",
    "        self.id = idx\n",
    "        self.word = word\n",
    "        self.tag = '_'\n",
    "        self.head = head\n",
    "        self.rel = rel\n",
    "\n",
    "    def __str__(self):\n",
    "        # example:  1\t上海\t_\tNR\tNR\t_\t2\tnn\t_\t_\n",
    "        values = [str(self.idx), self.word, \"_\", self.tag, \"_\", \"_\", str(self.head), self.rel, \"_\", \"_\"]\n",
    "        return '\\t'.join(values)\n",
    "\n",
    "    def __repr__(self):\n",
    "        return f\"({self.word}, {self.tag}, {self.head}, {self.rel})\""
   ]
  },
  {
   "cell_type": "code",
   "execution_count": 11,
   "id": "3154859d-3591-4177-94ef-137822dc4caf",
   "metadata": {},
   "outputs": [],
   "source": [
    "def load_annoted(data_file):\n",
    "    with open(CFG.data_file, 'r', encoding='utf-8') as f:\n",
    "        data = json.load(f)[:500]  # have annotated 500 data\n",
    "        \n",
    "    sample_lst:List[List[Dependency]] = []\n",
    "    \n",
    "    for d in data:\n",
    "        rel_dct = {}\n",
    "        for tripple in d['relationship']:\n",
    "            head, rel, tail = tripple\n",
    "            head_uttr_idx, head_word_idx = [int(x) for x in head.split('-')]\n",
    "            tail_uttr_idx, tail_word_idx = [int(x) for x in tail.split('-')]\n",
    "            if head_uttr_idx != tail_uttr_idx:\n",
    "                continue\n",
    "            \n",
    "            if not rel_dct.get(head_uttr_idx, None):\n",
    "                rel_dct[head_uttr_idx] = {tail_word_idx: [head_word_idx, rel]}\n",
    "            else:\n",
    "                rel_dct[head_uttr_idx][tail_word_idx] = [head_word_idx, rel]\n",
    "            \n",
    "        for item in d['dialog']:\n",
    "            turn = item['turn']\n",
    "            utterance = item['utterance']\n",
    "            # dep_lst:List[Dependency] = [Dependency(0, '[root]', -1, '_')]\n",
    "            dep_lst:List[Dependency] = []\n",
    "            \n",
    "            for word_idx, word in enumerate(utterance.split(' ')):\n",
    "                head_word_idx, rel = rel_dct[turn].get(word_idx + 1, [word_idx, 'adjct'])  # some word annoted missed, padded with last word and 'adjct'\n",
    "                dep_lst.append(Dependency(word_idx + 1, word, head_word_idx, rel))  # start from 1\n",
    "            \n",
    "            sample_lst.append(dep_lst)\n",
    "        \n",
    "    return sample_lst"
   ]
  },
  {
   "cell_type": "code",
   "execution_count": 12,
   "id": "13ac09de-1f8b-4614-aab5-ba4f2bc9596a",
   "metadata": {},
   "outputs": [],
   "source": [
    "class DialogDataset(Dataset):\n",
    "    def __init__(self, cfg):\n",
    "        self.cfg = cfg\n",
    "        self.inputs, self.offsets, self.heads, self.rels, self.masks = self.read_data()\n",
    "        \n",
    "    def read_data(self):\n",
    "        inputs, offsets = [], []\n",
    "        tags, heads, rels, masks = [], [], [], []\n",
    "        \n",
    "        for deps in load_annoted(self.cfg.data_file):\n",
    "            # another sentence\n",
    "            seq_len = len(deps)\n",
    "\n",
    "            word_lst = [] \n",
    "#                 head_tokens = np.ones(self.cfg.max_length, dtype=np.int64)*(-1)  # root index is 0, thus using -1 for padding \n",
    "            head_tokens = np.zeros(self.cfg.max_length, dtype=np.int64)  # same as root index is 0, constrainting by mask \n",
    "            rel_tokens = np.zeros(self.cfg.max_length, dtype=np.int64)\n",
    "            mask_tokens = np.zeros(self.cfg.max_length, dtype=np.int64)\n",
    "            for i, dep in enumerate(deps):\n",
    "                if i == seq_len or i + 1== self.cfg.max_length:\n",
    "                    break\n",
    "\n",
    "                word_lst.append(dep.word)\n",
    "\n",
    "                if dep.head == -1 or dep.head + 1 >= self.cfg.max_length:\n",
    "                    head_tokens[i+1] = 0\n",
    "                    mask_tokens[i+1] = 0\n",
    "                else:\n",
    "                    head_tokens[i+1] = int(dep.head)\n",
    "                    mask_tokens[i+1] = 1\n",
    "#                     head_tokens[i] = dep.head if dep.head != '_' else 0\n",
    "                rel_tokens[i+1] = rel2id.get(dep.rel, 0)\n",
    "\n",
    "            tokenized = tokenizer.encode_plus(word_lst, \n",
    "                                              padding='max_length', \n",
    "                                              truncation=True,\n",
    "                                              max_length=self.cfg.max_length, \n",
    "                                              return_offsets_mapping=True, \n",
    "                                              return_tensors='pt',\n",
    "                                              is_split_into_words=True)\n",
    "            inputs.append({\"input_ids\": tokenized['input_ids'][0],\n",
    "                          \"token_type_ids\": tokenized['token_type_ids'][0],\n",
    "                           \"attention_mask\": tokenized['attention_mask'][0]\n",
    "                          })\n",
    "\n",
    "#                 sentence_word_idx = np.zeros(self.cfg.max_length, dtype=np.int64)\n",
    "            sentence_word_idx = []\n",
    "            for idx, (start, end) in enumerate(tokenized.offset_mapping[0][1:]):\n",
    "                if start == 0 and end != 0:\n",
    "                    sentence_word_idx.append(idx)\n",
    "#                         sentence_word_idx[idx] = idx\n",
    "            if len(sentence_word_idx) < self.cfg.max_length - 1:\n",
    "                sentence_word_idx.extend([0]* (self.cfg.max_length - 1 - len(sentence_word_idx)))\n",
    "            offsets.append(torch.as_tensor(sentence_word_idx))\n",
    "#                 offsets.append(sentence_word_idx)\n",
    "\n",
    "            heads.append(head_tokens)\n",
    "            rels.append(rel_tokens)\n",
    "            masks.append(mask_tokens)\n",
    "                    \n",
    "        return inputs, offsets, heads, rels, masks\n",
    "\n",
    "    def __getitem__(self, idx):\n",
    "        return self.inputs[idx], self.offsets[idx], self.heads[idx], self.rels[idx], self.masks[idx]\n",
    "    \n",
    "    def __len__(self):\n",
    "        return len(self.rels)"
   ]
  },
  {
   "cell_type": "code",
   "execution_count": 13,
   "id": "303101a6-a774-456a-bb1d-abc879b0622e",
   "metadata": {},
   "outputs": [],
   "source": [
    "dataset = DialogDataset(CFG)"
   ]
  },
  {
   "cell_type": "markdown",
   "id": "571d8feb-a553-4f93-a76b-70a5869af34a",
   "metadata": {},
   "source": [
    "## Tranining"
   ]
  },
  {
   "cell_type": "code",
   "execution_count": 14,
   "id": "b84fd604-50a5-436a-ac18-3242bb6c489f",
   "metadata": {},
   "outputs": [],
   "source": [
    "kfold = KFold(n_splits=CFG.num_folds, shuffle=True)"
   ]
  },
  {
   "cell_type": "code",
   "execution_count": 15,
   "id": "e60957b5-606b-440b-8b5e-77d9c609b337",
   "metadata": {},
   "outputs": [
    {
     "name": "stdout",
     "output_type": "stream",
     "text": [
      "FOLD 0\n",
      "9988/2497\n",
      "--------------------------------\n"
     ]
    },
    {
     "name": "stderr",
     "output_type": "stream",
     "text": [
      "Some weights of the model checkpoint at hfl/chinese-electra-180g-large-discriminator were not used when initializing ElectraModel: ['discriminator_predictions.dense_prediction.weight', 'discriminator_predictions.dense.bias', 'discriminator_predictions.dense_prediction.bias', 'discriminator_predictions.dense.weight']\n",
      "- This IS expected if you are initializing ElectraModel from the checkpoint of a model trained on another task or with another architecture (e.g. initializing a BertForSequenceClassification model from a BertForPreTraining model).\n",
      "- This IS NOT expected if you are initializing ElectraModel from the checkpoint of a model that you expect to be exactly identical (initializing a BertForSequenceClassification model from a BertForSequenceClassification model).\n",
      "/root/miniconda3/lib/python3.8/site-packages/transformers/optimization.py:306: FutureWarning: This implementation of AdamW is deprecated and will be removed in a future version. Use the PyTorch implementation torch.optim.AdamW instead, or set `no_deprecation_warning=True` to disable this warning\n",
      "  warnings.warn(\n",
      "  0%|          | 0/10 [00:00<?, ?it/s]"
     ]
    },
    {
     "name": "stdout",
     "output_type": "stream",
     "text": [
      "--epoch 0, step 0, loss 12.48440170288086\n",
      "  {'UAS': 0.029143897996357013, 'LAS': 0.0}\n",
      "--Evaluation:\n",
      "-loss: 5.746634006500244  UAS: 0.21628747228269732  LAS: 0.14235672989230103 \n",
      "\n",
      "--Best Evaluation: \n",
      "-loss: 5.746634006500244  UAS: 0.21628747228269732  LAS: 0.14235672989230103 \n",
      "\n",
      "--Evaluation:\n",
      "-loss: 3.9041459560394287  UAS: 0.45574888375386735  LAS: 0.4121431218729301 \n",
      "\n",
      "--Best Evaluation: \n",
      "-loss: 3.9041459560394287  UAS: 0.45574888375386735  LAS: 0.4121431218729301 \n",
      "\n",
      "--Evaluation:\n",
      "-loss: 2.881474494934082  UAS: 0.6247411406799045  LAS: 0.5983832697489353 \n",
      "\n",
      "--Best Evaluation: \n",
      "-loss: 2.881474494934082  UAS: 0.6247411406799045  LAS: 0.5983832697489353 \n",
      "\n"
     ]
    },
    {
     "name": "stderr",
     "output_type": "stream",
     "text": [
      " 10%|█         | 1/10 [01:24<12:36, 84.02s/it]"
     ]
    },
    {
     "name": "stdout",
     "output_type": "stream",
     "text": [
      "--Evaluation:\n",
      "-loss: 1.9541970491409302  UAS: 0.7727363686054901  LAS: 0.743163196687916 \n",
      "\n",
      "--Best Evaluation: \n",
      "-loss: 1.9541970491409302  UAS: 0.7727363686054901  LAS: 0.743163196687916 \n",
      "\n",
      "--Evaluation:\n",
      "-loss: 1.5896639823913574  UAS: 0.8274045206828886  LAS: 0.7998001201430561 \n",
      "\n",
      "--Best Evaluation: \n",
      "-loss: 1.5896639823913574  UAS: 0.8274045206828886  LAS: 0.7998001201430561 \n",
      "\n",
      "--Evaluation:\n",
      "-loss: 1.5325212478637695  UAS: 0.8528775678542752  LAS: 0.8245511262398989 \n",
      "\n",
      "--Best Evaluation: \n",
      "-loss: 1.5325212478637695  UAS: 0.8528775678542752  LAS: 0.8245511262398989 \n",
      "\n"
     ]
    },
    {
     "name": "stderr",
     "output_type": "stream",
     "text": [
      " 20%|██        | 2/10 [02:49<11:17, 84.65s/it]"
     ]
    },
    {
     "name": "stdout",
     "output_type": "stream",
     "text": [
      "--Evaluation:\n",
      "-loss: 1.3750243186950684  UAS: 0.8663015706998187  LAS: 0.8386045014998323 \n",
      "\n",
      "--Best Evaluation: \n",
      "-loss: 1.3750243186950684  UAS: 0.8663015706998187  LAS: 0.8386045014998323 \n",
      "\n",
      "--Evaluation:\n",
      "-loss: 1.3982182741165161  UAS: 0.8768280256908938  LAS: 0.8506549240067878 \n",
      "\n",
      "--Best Evaluation: \n",
      "-loss: 1.3982182741165161  UAS: 0.8768280256908938  LAS: 0.8506549240067878 \n",
      "\n",
      "--Evaluation:\n",
      "-loss: 1.260231375694275  UAS: 0.8854478448435396  LAS: 0.8591977963083924 \n",
      "\n",
      "--Best Evaluation: \n",
      "-loss: 1.260231375694275  UAS: 0.8854478448435396  LAS: 0.8591977963083924 \n",
      "\n"
     ]
    },
    {
     "name": "stderr",
     "output_type": "stream",
     "text": [
      " 30%|███       | 3/10 [04:14<09:53, 84.77s/it]"
     ]
    },
    {
     "name": "stdout",
     "output_type": "stream",
     "text": [
      "--Evaluation:\n",
      "-loss: 1.2658209800720215  UAS: 0.888610991774791  LAS: 0.8631404276055684 \n",
      "\n",
      "--Best Evaluation: \n",
      "-loss: 1.2658209800720215  UAS: 0.888610991774791  LAS: 0.8631404276055684 \n",
      "\n",
      "--Evaluation:\n",
      "-loss: 1.2143877744674683  UAS: 0.8910650733778098  LAS: 0.866115974306757 \n",
      "\n",
      "--Best Evaluation: \n",
      "-loss: 1.2143877744674683  UAS: 0.8910650733778098  LAS: 0.866115974306757 \n",
      "\n",
      "--Evaluation:\n",
      "-loss: 1.1883589029312134  UAS: 0.8956653221299815  LAS: 0.8695149009082542 \n",
      "\n",
      "--Best Evaluation: \n",
      "-loss: 1.1883589029312134  UAS: 0.8956653221299815  LAS: 0.8695149009082542 \n",
      "\n"
     ]
    },
    {
     "name": "stderr",
     "output_type": "stream",
     "text": [
      " 40%|████      | 4/10 [05:38<08:28, 84.79s/it]"
     ]
    },
    {
     "name": "stdout",
     "output_type": "stream",
     "text": [
      "--Evaluation:\n",
      "-loss: 1.1978946924209595  UAS: 0.8978227836790518  LAS: 0.8725857406066289 \n",
      "\n",
      "--Best Evaluation: \n",
      "-loss: 1.1978946924209595  UAS: 0.8978227836790518  LAS: 0.8725857406066289 \n",
      "\n",
      "--Evaluation:\n",
      "-loss: 1.1764860153198242  UAS: 0.9033512862028832  LAS: 0.8782086412617214 \n",
      "\n",
      "--Best Evaluation: \n",
      "-loss: 1.1764860153198242  UAS: 0.9033512862028832  LAS: 0.8782086412617214 \n",
      "\n",
      "--Evaluation:\n",
      "-loss: 1.1967955827713013  UAS: 0.9029925398583031  LAS: 0.8784047383801096 \n",
      "\n",
      "--Best Evaluation: \n",
      "-loss: 1.1967955827713013  UAS: 0.9029925398583031  LAS: 0.8784047383801096 \n",
      "\n"
     ]
    },
    {
     "name": "stderr",
     "output_type": "stream",
     "text": [
      " 50%|█████     | 5/10 [07:03<07:04, 84.81s/it]"
     ]
    },
    {
     "name": "stdout",
     "output_type": "stream",
     "text": [
      "--Evaluation:\n",
      "-loss: 1.170707106590271  UAS: 0.9059841664250716  LAS: 0.8810457338417186 \n",
      "\n",
      "--Best Evaluation: \n",
      "-loss: 1.170707106590271  UAS: 0.9059841664250716  LAS: 0.8810457338417186 \n",
      "\n",
      "--Evaluation:\n",
      "-loss: 1.1870372295379639  UAS: 0.9057538976588627  LAS: 0.8808462519932644 \n",
      "\n",
      "--Best Evaluation: \n",
      "-loss: 1.170707106590271  UAS: 0.9059841664250716  LAS: 0.8810457338417186 \n",
      "\n",
      "--Evaluation:\n",
      "-loss: 1.1939013004302979  UAS: 0.9050844137505143  LAS: 0.8801627421399135 \n",
      "\n",
      "--Best Evaluation: \n",
      "-loss: 1.170707106590271  UAS: 0.9059841664250716  LAS: 0.8810457338417186 \n",
      "\n"
     ]
    },
    {
     "name": "stderr",
     "output_type": "stream",
     "text": [
      " 60%|██████    | 6/10 [08:28<05:39, 84.84s/it]"
     ]
    },
    {
     "name": "stdout",
     "output_type": "stream",
     "text": [
      "--Evaluation:\n",
      "-loss: 1.1789199113845825  UAS: 0.9083659743971704  LAS: 0.8828047298782629 \n",
      "\n",
      "--Best Evaluation: \n",
      "-loss: 1.1789199113845825  UAS: 0.9083659743971704  LAS: 0.8828047298782629 \n",
      "\n",
      "--Evaluation:\n",
      "-loss: 1.1752846240997314  UAS: 0.910187320595002  LAS: 0.8854039237006205 \n",
      "\n",
      "--Best Evaluation: \n",
      "-loss: 1.1752846240997314  UAS: 0.910187320595002  LAS: 0.8854039237006205 \n",
      "\n",
      "--Evaluation:\n",
      "-loss: 1.200128436088562  UAS: 0.9107606156134085  LAS: 0.8853995622632526 \n",
      "\n",
      "--Best Evaluation: \n",
      "-loss: 1.1752846240997314  UAS: 0.910187320595002  LAS: 0.8854039237006205 \n",
      "\n"
     ]
    },
    {
     "name": "stderr",
     "output_type": "stream",
     "text": [
      " 70%|███████   | 7/10 [09:53<04:14, 84.87s/it]"
     ]
    },
    {
     "name": "stdout",
     "output_type": "stream",
     "text": [
      "--Evaluation:\n",
      "-loss: 1.1666827201843262  UAS: 0.9108383253195534  LAS: 0.8857600289418904 \n",
      "\n",
      "--Best Evaluation: \n",
      "-loss: 1.1666827201843262  UAS: 0.9108383253195534  LAS: 0.8857600289418904 \n",
      "\n",
      "--Evaluation:\n",
      "-loss: 1.1646100282669067  UAS: 0.9123057054357392  LAS: 0.8874526019351511 \n",
      "\n",
      "--Best Evaluation: \n",
      "-loss: 1.1646100282669067  UAS: 0.9123057054357392  LAS: 0.8874526019351511 \n",
      "\n",
      "--Evaluation:\n",
      "-loss: 1.1600685119628906  UAS: 0.912246451879384  LAS: 0.8878535881781574 \n",
      "\n",
      "--Best Evaluation: \n",
      "-loss: 1.1600685119628906  UAS: 0.912246451879384  LAS: 0.8878535881781574 \n",
      "\n",
      "--Evaluation:\n",
      "-loss: 1.165381669998169  UAS: 0.909334248109533  LAS: 0.8844950093669424 \n",
      "\n",
      "--Best Evaluation: \n",
      "-loss: 1.1600685119628906  UAS: 0.912246451879384  LAS: 0.8878535881781574 \n",
      "\n"
     ]
    },
    {
     "name": "stderr",
     "output_type": "stream",
     "text": [
      " 80%|████████  | 8/10 [11:23<02:53, 86.57s/it]"
     ]
    },
    {
     "name": "stdout",
     "output_type": "stream",
     "text": [
      "--Evaluation:\n",
      "-loss: 1.1821353435516357  UAS: 0.9102144787421321  LAS: 0.8850171910086816 \n",
      "\n",
      "--Best Evaluation: \n",
      "-loss: 1.1600685119628906  UAS: 0.912246451879384  LAS: 0.8878535881781574 \n",
      "\n",
      "--Evaluation:\n",
      "-loss: 1.1655914783477783  UAS: 0.9123163368224632  LAS: 0.8875200286278054 \n",
      "\n",
      "--Best Evaluation: \n",
      "-loss: 1.1600685119628906  UAS: 0.912246451879384  LAS: 0.8878535881781574 \n",
      "\n",
      "--Evaluation:\n",
      "-loss: 1.168093204498291  UAS: 0.9123320724020237  LAS: 0.8869150972445775 \n",
      "\n",
      "--Best Evaluation: \n",
      "-loss: 1.1600685119628906  UAS: 0.912246451879384  LAS: 0.8878535881781574 \n",
      "\n"
     ]
    },
    {
     "name": "stderr",
     "output_type": "stream",
     "text": [
      " 90%|█████████ | 9/10 [13:10<01:27, 87.80s/it]"
     ]
    },
    {
     "name": "stdout",
     "output_type": "stream",
     "text": [
      "--Evaluation:\n",
      "-loss: 1.1871541738510132  UAS: 0.9131237265439021  LAS: 0.8877065254998554 \n",
      "\n",
      "--Best Evaluation: \n",
      "-loss: 1.1600685119628906  UAS: 0.912246451879384  LAS: 0.8878535881781574 \n",
      "\n",
      "--early stopping, training finished.\n",
      "[1.1600685119628906, 0.912246451879384, 0.8878535881781574]\n"
     ]
    },
    {
     "name": "stderr",
     "output_type": "stream",
     "text": [
      "\n"
     ]
    },
    {
     "name": "stdout",
     "output_type": "stream",
     "text": [
      "FOLD 1\n",
      "9988/2497\n",
      "--------------------------------\n"
     ]
    },
    {
     "name": "stderr",
     "output_type": "stream",
     "text": [
      "Some weights of the model checkpoint at hfl/chinese-electra-180g-large-discriminator were not used when initializing ElectraModel: ['discriminator_predictions.dense_prediction.weight', 'discriminator_predictions.dense.bias', 'discriminator_predictions.dense_prediction.bias', 'discriminator_predictions.dense.weight']\n",
      "- This IS expected if you are initializing ElectraModel from the checkpoint of a model trained on another task or with another architecture (e.g. initializing a BertForSequenceClassification model from a BertForPreTraining model).\n",
      "- This IS NOT expected if you are initializing ElectraModel from the checkpoint of a model that you expect to be exactly identical (initializing a BertForSequenceClassification model from a BertForSequenceClassification model).\n",
      "  0%|          | 0/10 [00:00<?, ?it/s]"
     ]
    },
    {
     "name": "stdout",
     "output_type": "stream",
     "text": [
      "--epoch 0, step 0, loss 12.119668960571289\n",
      "  {'UAS': 0.037422037422037424, 'LAS': 0.0}\n",
      "--Evaluation:\n",
      "-loss: 5.907177925109863  UAS: 0.22048870820137828  LAS: 0.15766536738905407 \n",
      "\n",
      "--Best Evaluation: \n",
      "-loss: 5.907177925109863  UAS: 0.22048870820137828  LAS: 0.15766536738905407 \n",
      "\n",
      "--Evaluation:\n",
      "-loss: 4.036846160888672  UAS: 0.4440117224944476  LAS: 0.39853861919402966 \n",
      "\n",
      "--Best Evaluation: \n",
      "-loss: 4.036846160888672  UAS: 0.4440117224944476  LAS: 0.39853861919402966 \n",
      "\n",
      "--Evaluation:\n",
      "-loss: 2.893026351928711  UAS: 0.6220735922294647  LAS: 0.5953583168314043 \n",
      "\n",
      "--Best Evaluation: \n",
      "-loss: 2.893026351928711  UAS: 0.6220735922294647  LAS: 0.5953583168314043 \n",
      "\n"
     ]
    },
    {
     "name": "stderr",
     "output_type": "stream",
     "text": [
      " 10%|█         | 1/10 [01:24<12:44, 84.94s/it]"
     ]
    },
    {
     "name": "stdout",
     "output_type": "stream",
     "text": [
      "--Evaluation:\n",
      "-loss: 2.0721752643585205  UAS: 0.7496286761280382  LAS: 0.7182132284757309 \n",
      "\n",
      "--Best Evaluation: \n",
      "-loss: 2.0721752643585205  UAS: 0.7496286761280382  LAS: 0.7182132284757309 \n",
      "\n",
      "--Evaluation:\n",
      "-loss: 1.717354655265808  UAS: 0.8065772538234403  LAS: 0.778800410909781 \n",
      "\n",
      "--Best Evaluation: \n",
      "-loss: 1.717354655265808  UAS: 0.8065772538234403  LAS: 0.778800410909781 \n",
      "\n",
      "--Evaluation:\n",
      "-loss: 1.5158298015594482  UAS: 0.8437442253117928  LAS: 0.816230213198375 \n",
      "\n",
      "--Best Evaluation: \n",
      "-loss: 1.5158298015594482  UAS: 0.8437442253117928  LAS: 0.816230213198375 \n",
      "\n"
     ]
    },
    {
     "name": "stderr",
     "output_type": "stream",
     "text": [
      " 20%|██        | 2/10 [02:49<11:20, 85.01s/it]"
     ]
    },
    {
     "name": "stdout",
     "output_type": "stream",
     "text": [
      "--Evaluation:\n",
      "-loss: 1.3810391426086426  UAS: 0.8614247427434674  LAS: 0.8351549877230366 \n",
      "\n",
      "--Best Evaluation: \n",
      "-loss: 1.3810391426086426  UAS: 0.8614247427434674  LAS: 0.8351549877230366 \n",
      "\n",
      "--Evaluation:\n",
      "-loss: 1.4089467525482178  UAS: 0.8664665057306429  LAS: 0.8388042999743837 \n",
      "\n",
      "--Best Evaluation: \n",
      "-loss: 1.4089467525482178  UAS: 0.8664665057306429  LAS: 0.8388042999743837 \n",
      "\n",
      "--Evaluation:\n",
      "-loss: 1.2257263660430908  UAS: 0.8870780886120538  LAS: 0.8586582606594658 \n",
      "\n",
      "--Best Evaluation: \n",
      "-loss: 1.2257263660430908  UAS: 0.8870780886120538  LAS: 0.8586582606594658 \n",
      "\n"
     ]
    },
    {
     "name": "stderr",
     "output_type": "stream",
     "text": [
      " 30%|███       | 3/10 [04:15<09:55, 85.04s/it]"
     ]
    },
    {
     "name": "stdout",
     "output_type": "stream",
     "text": [
      "--Evaluation:\n",
      "-loss: 1.1999554634094238  UAS: 0.8936547811357818  LAS: 0.8663453051766324 \n",
      "\n",
      "--Best Evaluation: \n",
      "-loss: 1.1999554634094238  UAS: 0.8936547811357818  LAS: 0.8663453051766324 \n",
      "\n",
      "--Evaluation:\n",
      "-loss: 1.2007324695587158  UAS: 0.8940192045658382  LAS: 0.8686957693402595 \n",
      "\n",
      "--Best Evaluation: \n",
      "-loss: 1.2007324695587158  UAS: 0.8940192045658382  LAS: 0.8686957693402595 \n",
      "\n",
      "--Evaluation:\n",
      "-loss: 1.1760200262069702  UAS: 0.9003620984332683  LAS: 0.8751417893855296 \n",
      "\n",
      "--Best Evaluation: \n",
      "-loss: 1.1760200262069702  UAS: 0.9003620984332683  LAS: 0.8751417893855296 \n",
      "\n"
     ]
    },
    {
     "name": "stderr",
     "output_type": "stream",
     "text": [
      " 40%|████      | 4/10 [05:40<08:30, 85.01s/it]"
     ]
    },
    {
     "name": "stdout",
     "output_type": "stream",
     "text": [
      "--Evaluation:\n",
      "-loss: 1.150768756866455  UAS: 0.9031265358246308  LAS: 0.8775906033564478 \n",
      "\n",
      "--Best Evaluation: \n",
      "-loss: 1.150768756866455  UAS: 0.9031265358246308  LAS: 0.8775906033564478 \n",
      "\n",
      "--Evaluation:\n",
      "-loss: 1.128247857093811  UAS: 0.9089034516555976  LAS: 0.8829454963469455 \n",
      "\n",
      "--Best Evaluation: \n",
      "-loss: 1.128247857093811  UAS: 0.9089034516555976  LAS: 0.8829454963469455 \n",
      "\n",
      "--Evaluation:\n",
      "-loss: 1.1109331846237183  UAS: 0.9088911299933398  LAS: 0.8830139446912303 \n",
      "\n",
      "--Best Evaluation: \n",
      "-loss: 1.1109331846237183  UAS: 0.9088911299933398  LAS: 0.8830139446912303 \n",
      "\n"
     ]
    },
    {
     "name": "stderr",
     "output_type": "stream",
     "text": [
      " 50%|█████     | 5/10 [07:04<07:04, 84.96s/it]"
     ]
    },
    {
     "name": "stdout",
     "output_type": "stream",
     "text": [
      "--Evaluation:\n",
      "-loss: 1.0847294330596924  UAS: 0.9101721294403001  LAS: 0.8837086017496838 \n",
      "\n",
      "--Best Evaluation: \n",
      "-loss: 1.0847294330596924  UAS: 0.9101721294403001  LAS: 0.8837086017496838 \n",
      "\n",
      "--Evaluation:\n",
      "-loss: 1.093933343887329  UAS: 0.9108419180243202  LAS: 0.8847317740253272 \n",
      "\n",
      "--Best Evaluation: \n",
      "-loss: 1.093933343887329  UAS: 0.9108419180243202  LAS: 0.8847317740253272 \n",
      "\n",
      "--Evaluation:\n",
      "-loss: 1.068822979927063  UAS: 0.9117336001641736  LAS: 0.8859596731096222 \n",
      "\n",
      "--Best Evaluation: \n",
      "-loss: 1.068822979927063  UAS: 0.9117336001641736  LAS: 0.8859596731096222 \n",
      "\n"
     ]
    },
    {
     "name": "stderr",
     "output_type": "stream",
     "text": [
      " 60%|██████    | 6/10 [08:29<05:39, 84.95s/it]"
     ]
    },
    {
     "name": "stdout",
     "output_type": "stream",
     "text": [
      "--Evaluation:\n",
      "-loss: 1.09757399559021  UAS: 0.9149622483839213  LAS: 0.889798823313693 \n",
      "\n",
      "--Best Evaluation: \n",
      "-loss: 1.09757399559021  UAS: 0.9149622483839213  LAS: 0.889798823313693 \n",
      "\n",
      "--Evaluation:\n",
      "-loss: 1.1229772567749023  UAS: 0.9105373336259563  LAS: 0.885336104114973 \n",
      "\n",
      "--Best Evaluation: \n",
      "-loss: 1.09757399559021  UAS: 0.9149622483839213  LAS: 0.889798823313693 \n",
      "\n",
      "--Evaluation:\n",
      "-loss: 1.097947597503662  UAS: 0.9138816177316403  LAS: 0.8883246483708802 \n",
      "\n",
      "--Best Evaluation: \n",
      "-loss: 1.09757399559021  UAS: 0.9149622483839213  LAS: 0.889798823313693 \n",
      "\n"
     ]
    },
    {
     "name": "stderr",
     "output_type": "stream",
     "text": [
      " 70%|███████   | 7/10 [09:54<04:14, 84.91s/it]"
     ]
    },
    {
     "name": "stdout",
     "output_type": "stream",
     "text": [
      "--Evaluation:\n",
      "-loss: 1.1059123277664185  UAS: 0.9170924222653803  LAS: 0.891312422227545 \n",
      "\n",
      "--Best Evaluation: \n",
      "-loss: 1.1059123277664185  UAS: 0.9170924222653803  LAS: 0.891312422227545 \n",
      "\n",
      "--Evaluation:\n",
      "-loss: 1.1051300764083862  UAS: 0.9164135499370709  LAS: 0.8898873897360492 \n",
      "\n",
      "--Best Evaluation: \n",
      "-loss: 1.1059123277664185  UAS: 0.9170924222653803  LAS: 0.891312422227545 \n",
      "\n",
      "--Evaluation:\n",
      "-loss: 1.1196799278259277  UAS: 0.9181761864290404  LAS: 0.8922584454928922 \n",
      "\n",
      "--Best Evaluation: \n",
      "-loss: 1.1196799278259277  UAS: 0.9181761864290404  LAS: 0.8922584454928922 \n",
      "\n",
      "--Evaluation:\n",
      "-loss: 1.1007863283157349  UAS: 0.9195411085167744  LAS: 0.8940347446576941 \n",
      "\n",
      "--Best Evaluation: \n",
      "-loss: 1.1007863283157349  UAS: 0.9195411085167744  LAS: 0.8940347446576941 \n",
      "\n"
     ]
    },
    {
     "name": "stderr",
     "output_type": "stream",
     "text": [
      " 80%|████████  | 8/10 [11:24<02:53, 86.59s/it]"
     ]
    },
    {
     "name": "stdout",
     "output_type": "stream",
     "text": [
      "--Evaluation:\n",
      "-loss: 1.0916019678115845  UAS: 0.9192494777875462  LAS: 0.8927960296042073 \n",
      "\n",
      "--Best Evaluation: \n",
      "-loss: 1.1007863283157349  UAS: 0.9195411085167744  LAS: 0.8940347446576941 \n",
      "\n",
      "--Evaluation:\n",
      "-loss: 1.0769044160842896  UAS: 0.9192322330264785  LAS: 0.8929850435445874 \n",
      "\n",
      "--Best Evaluation: \n",
      "-loss: 1.1007863283157349  UAS: 0.9195411085167744  LAS: 0.8940347446576941 \n",
      "\n",
      "--Evaluation:\n",
      "-loss: 1.092016339302063  UAS: 0.9200813363293016  LAS: 0.8943448573572993 \n",
      "\n",
      "--Best Evaluation: \n",
      "-loss: 1.092016339302063  UAS: 0.9200813363293016  LAS: 0.8943448573572993 \n",
      "\n"
     ]
    },
    {
     "name": "stderr",
     "output_type": "stream",
     "text": [
      " 90%|█████████ | 9/10 [12:49<01:26, 86.10s/it]"
     ]
    },
    {
     "name": "stdout",
     "output_type": "stream",
     "text": [
      "--Evaluation:\n",
      "-loss: 1.0823379755020142  UAS: 0.9203559065313502  LAS: 0.8949600622139633 \n",
      "\n",
      "--Best Evaluation: \n",
      "-loss: 1.0823379755020142  UAS: 0.9203559065313502  LAS: 0.8949600622139633 \n",
      "\n",
      "--Evaluation:\n",
      "-loss: 1.0836344957351685  UAS: 0.9201665899159545  LAS: 0.8947464570016186 \n",
      "\n",
      "--Best Evaluation: \n",
      "-loss: 1.0823379755020142  UAS: 0.9203559065313502  LAS: 0.8949600622139633 \n",
      "\n",
      "--Evaluation:\n",
      "-loss: 1.0894182920455933  UAS: 0.9200012186597618  LAS: 0.8947867987476064 \n",
      "\n",
      "--Best Evaluation: \n",
      "-loss: 1.0823379755020142  UAS: 0.9203559065313502  LAS: 0.8949600622139633 \n",
      "\n"
     ]
    },
    {
     "name": "stderr",
     "output_type": "stream",
     "text": [
      "100%|██████████| 10/10 [14:14<00:00, 85.49s/it]\n"
     ]
    },
    {
     "name": "stdout",
     "output_type": "stream",
     "text": [
      "--training finished.\n",
      "[1.0823379755020142, 0.9203559065313502, 0.8949600622139633]\n",
      "FOLD 2\n",
      "9988/2497\n",
      "--------------------------------\n"
     ]
    },
    {
     "name": "stderr",
     "output_type": "stream",
     "text": [
      "Some weights of the model checkpoint at hfl/chinese-electra-180g-large-discriminator were not used when initializing ElectraModel: ['discriminator_predictions.dense_prediction.weight', 'discriminator_predictions.dense.bias', 'discriminator_predictions.dense_prediction.bias', 'discriminator_predictions.dense.weight']\n",
      "- This IS expected if you are initializing ElectraModel from the checkpoint of a model trained on another task or with another architecture (e.g. initializing a BertForSequenceClassification model from a BertForPreTraining model).\n",
      "- This IS NOT expected if you are initializing ElectraModel from the checkpoint of a model that you expect to be exactly identical (initializing a BertForSequenceClassification model from a BertForSequenceClassification model).\n",
      "  0%|          | 0/10 [00:00<?, ?it/s]"
     ]
    },
    {
     "name": "stdout",
     "output_type": "stream",
     "text": [
      "--epoch 0, step 0, loss 11.927385330200195\n",
      "  {'UAS': 0.03206412825651302, 'LAS': 0.0}\n",
      "--Evaluation:\n",
      "-loss: 5.554752349853516  UAS: 0.21642105889821847  LAS: 0.14041485110970192 \n",
      "\n",
      "--Best Evaluation: \n",
      "-loss: 5.554752349853516  UAS: 0.21642105889821847  LAS: 0.14041485110970192 \n",
      "\n",
      "--Evaluation:\n",
      "-loss: 3.9769082069396973  UAS: 0.4402693187332621  LAS: 0.3986943710960296 \n",
      "\n",
      "--Best Evaluation: \n",
      "-loss: 3.9769082069396973  UAS: 0.4402693187332621  LAS: 0.3986943710960296 \n",
      "\n",
      "--Evaluation:\n",
      "-loss: 2.847323179244995  UAS: 0.6258732655297812  LAS: 0.5986051297035058 \n",
      "\n",
      "--Best Evaluation: \n",
      "-loss: 2.847323179244995  UAS: 0.6258732655297812  LAS: 0.5986051297035058 \n",
      "\n"
     ]
    },
    {
     "name": "stderr",
     "output_type": "stream",
     "text": [
      " 10%|█         | 1/10 [01:25<12:45, 85.07s/it]"
     ]
    },
    {
     "name": "stdout",
     "output_type": "stream",
     "text": [
      "--Evaluation:\n",
      "-loss: 2.110053300857544  UAS: 0.7533474675878659  LAS: 0.7242431904368365 \n",
      "\n",
      "--Best Evaluation: \n",
      "-loss: 2.110053300857544  UAS: 0.7533474675878659  LAS: 0.7242431904368365 \n",
      "\n",
      "--Evaluation:\n",
      "-loss: 1.6753031015396118  UAS: 0.8094130880151306  LAS: 0.7784956551998948 \n",
      "\n",
      "--Best Evaluation: \n",
      "-loss: 1.6753031015396118  UAS: 0.8094130880151306  LAS: 0.7784956551998948 \n",
      "\n",
      "--Evaluation:\n",
      "-loss: 1.5487282276153564  UAS: 0.839407364497031  LAS: 0.8086232399439542 \n",
      "\n",
      "--Best Evaluation: \n",
      "-loss: 1.5487282276153564  UAS: 0.839407364497031  LAS: 0.8086232399439542 \n",
      "\n"
     ]
    },
    {
     "name": "stderr",
     "output_type": "stream",
     "text": [
      " 20%|██        | 2/10 [02:50<11:20, 85.05s/it]"
     ]
    },
    {
     "name": "stdout",
     "output_type": "stream",
     "text": [
      "--Evaluation:\n",
      "-loss: 1.4803733825683594  UAS: 0.8550165245384541  LAS: 0.8272154655048836 \n",
      "\n",
      "--Best Evaluation: \n",
      "-loss: 1.4803733825683594  UAS: 0.8550165245384541  LAS: 0.8272154655048836 \n",
      "\n",
      "--Evaluation:\n",
      "-loss: 1.3487017154693604  UAS: 0.8684949013514268  LAS: 0.8405962995645406 \n",
      "\n",
      "--Best Evaluation: \n",
      "-loss: 1.3487017154693604  UAS: 0.8684949013514268  LAS: 0.8405962995645406 \n",
      "\n",
      "--Evaluation:\n",
      "-loss: 1.393399953842163  UAS: 0.8723797647614083  LAS: 0.8457179239238097 \n",
      "\n",
      "--Best Evaluation: \n",
      "-loss: 1.393399953842163  UAS: 0.8723797647614083  LAS: 0.8457179239238097 \n",
      "\n"
     ]
    },
    {
     "name": "stderr",
     "output_type": "stream",
     "text": [
      " 30%|███       | 3/10 [04:15<09:55, 85.03s/it]"
     ]
    },
    {
     "name": "stdout",
     "output_type": "stream",
     "text": [
      "--Evaluation:\n",
      "-loss: 1.2407268285751343  UAS: 0.8903253509641585  LAS: 0.8619463191605972 \n",
      "\n",
      "--Best Evaluation: \n",
      "-loss: 1.2407268285751343  UAS: 0.8903253509641585  LAS: 0.8619463191605972 \n",
      "\n",
      "--Evaluation:\n",
      "-loss: 1.25491201877594  UAS: 0.8933566715752985  LAS: 0.865145171745076 \n",
      "\n",
      "--Best Evaluation: \n",
      "-loss: 1.25491201877594  UAS: 0.8933566715752985  LAS: 0.865145171745076 \n",
      "\n",
      "--Evaluation:\n",
      "-loss: 1.2165993452072144  UAS: 0.8958860688961943  LAS: 0.8676234818080911 \n",
      "\n",
      "--Best Evaluation: \n",
      "-loss: 1.2165993452072144  UAS: 0.8958860688961943  LAS: 0.8676234818080911 \n",
      "\n"
     ]
    },
    {
     "name": "stderr",
     "output_type": "stream",
     "text": [
      " 40%|████      | 4/10 [05:40<08:30, 85.00s/it]"
     ]
    },
    {
     "name": "stdout",
     "output_type": "stream",
     "text": [
      "--Evaluation:\n",
      "-loss: 1.1774487495422363  UAS: 0.8995486750213956  LAS: 0.8701839567324632 \n",
      "\n",
      "--Best Evaluation: \n",
      "-loss: 1.1774487495422363  UAS: 0.8995486750213956  LAS: 0.8701839567324632 \n",
      "\n",
      "--Evaluation:\n",
      "-loss: 1.1633238792419434  UAS: 0.9057859252450785  LAS: 0.8774196965610412 \n",
      "\n",
      "--Best Evaluation: \n",
      "-loss: 1.1633238792419434  UAS: 0.9057859252450785  LAS: 0.8774196965610412 \n",
      "\n",
      "--Evaluation:\n",
      "-loss: 1.139679193496704  UAS: 0.907080019701317  LAS: 0.879109340452051 \n",
      "\n",
      "--Best Evaluation: \n",
      "-loss: 1.139679193496704  UAS: 0.907080019701317  LAS: 0.879109340452051 \n",
      "\n"
     ]
    },
    {
     "name": "stderr",
     "output_type": "stream",
     "text": [
      " 50%|█████     | 5/10 [07:04<07:04, 84.95s/it]"
     ]
    },
    {
     "name": "stdout",
     "output_type": "stream",
     "text": [
      "--Evaluation:\n",
      "-loss: 1.1874316930770874  UAS: 0.9035263388903276  LAS: 0.8760559025558277 \n",
      "\n",
      "--Best Evaluation: \n",
      "-loss: 1.139679193496704  UAS: 0.907080019701317  LAS: 0.879109340452051 \n",
      "\n",
      "--Evaluation:\n",
      "-loss: 1.158015251159668  UAS: 0.908773337771951  LAS: 0.8806860089520256 \n",
      "\n",
      "--Best Evaluation: \n",
      "-loss: 1.158015251159668  UAS: 0.908773337771951  LAS: 0.8806860089520256 \n",
      "\n",
      "--Evaluation:\n",
      "-loss: 1.1764236688613892  UAS: 0.9088428518888223  LAS: 0.8809885150781156 \n",
      "\n",
      "--Best Evaluation: \n",
      "-loss: 1.1764236688613892  UAS: 0.9088428518888223  LAS: 0.8809885150781156 \n",
      "\n"
     ]
    },
    {
     "name": "stderr",
     "output_type": "stream",
     "text": [
      " 60%|██████    | 6/10 [08:29<05:39, 84.93s/it]"
     ]
    },
    {
     "name": "stdout",
     "output_type": "stream",
     "text": [
      "--Evaluation:\n",
      "-loss: 1.1520694494247437  UAS: 0.9091357242077256  LAS: 0.881706300397268 \n",
      "\n",
      "--Best Evaluation: \n",
      "-loss: 1.1520694494247437  UAS: 0.9091357242077256  LAS: 0.881706300397268 \n",
      "\n",
      "--Evaluation:\n",
      "-loss: 1.1523665189743042  UAS: 0.9102190959421407  LAS: 0.8827156081967781 \n",
      "\n",
      "--Best Evaluation: \n",
      "-loss: 1.1523665189743042  UAS: 0.9102190959421407  LAS: 0.8827156081967781 \n",
      "\n",
      "--Evaluation:\n",
      "-loss: 1.1394261121749878  UAS: 0.9125924944298986  LAS: 0.884976272721687 \n",
      "\n",
      "--Best Evaluation: \n",
      "-loss: 1.1394261121749878  UAS: 0.9125924944298986  LAS: 0.884976272721687 \n",
      "\n"
     ]
    },
    {
     "name": "stderr",
     "output_type": "stream",
     "text": [
      " 70%|███████   | 7/10 [09:54<04:14, 84.86s/it]"
     ]
    },
    {
     "name": "stdout",
     "output_type": "stream",
     "text": [
      "--Evaluation:\n",
      "-loss: 1.13454008102417  UAS: 0.911678708489796  LAS: 0.8839328709907208 \n",
      "\n",
      "--Best Evaluation: \n",
      "-loss: 1.1394261121749878  UAS: 0.9125924944298986  LAS: 0.884976272721687 \n",
      "\n",
      "--Evaluation:\n",
      "-loss: 1.161439299583435  UAS: 0.9125148471064669  LAS: 0.8856906118250402 \n",
      "\n",
      "--Best Evaluation: \n",
      "-loss: 1.161439299583435  UAS: 0.9125148471064669  LAS: 0.8856906118250402 \n",
      "\n",
      "--Evaluation:\n",
      "-loss: 1.152514934539795  UAS: 0.9142840858172859  LAS: 0.8866033360205873 \n",
      "\n",
      "--Best Evaluation: \n",
      "-loss: 1.152514934539795  UAS: 0.9142840858172859  LAS: 0.8866033360205873 \n",
      "\n",
      "--Evaluation:\n",
      "-loss: 1.1414563655853271  UAS: 0.9141575738401063  LAS: 0.8867212388922804 \n",
      "\n",
      "--Best Evaluation: \n",
      "-loss: 1.1414563655853271  UAS: 0.9141575738401063  LAS: 0.8867212388922804 \n",
      "\n"
     ]
    },
    {
     "name": "stderr",
     "output_type": "stream",
     "text": [
      " 80%|████████  | 8/10 [11:24<02:53, 86.54s/it]"
     ]
    },
    {
     "name": "stdout",
     "output_type": "stream",
     "text": [
      "--Evaluation:\n",
      "-loss: 1.1506189107894897  UAS: 0.9130648456488092  LAS: 0.8866390860087163 \n",
      "\n",
      "--Best Evaluation: \n",
      "-loss: 1.1414563655853271  UAS: 0.9141575738401063  LAS: 0.8867212388922804 \n",
      "\n",
      "--Evaluation:\n",
      "-loss: 1.1589581966400146  UAS: 0.9149771819092682  LAS: 0.8880433985823152 \n",
      "\n",
      "--Best Evaluation: \n",
      "-loss: 1.1589581966400146  UAS: 0.9149771819092682  LAS: 0.8880433985823152 \n",
      "\n",
      "--Evaluation:\n",
      "-loss: 1.154518485069275  UAS: 0.9157314563552509  LAS: 0.8880511884285927 \n",
      "\n",
      "--Best Evaluation: \n",
      "-loss: 1.154518485069275  UAS: 0.9157314563552509  LAS: 0.8880511884285927 \n",
      "\n"
     ]
    },
    {
     "name": "stderr",
     "output_type": "stream",
     "text": [
      " 90%|█████████ | 9/10 [12:49<01:25, 85.95s/it]"
     ]
    },
    {
     "name": "stdout",
     "output_type": "stream",
     "text": [
      "--Evaluation:\n",
      "-loss: 1.1604574918746948  UAS: 0.9147245215325551  LAS: 0.8881251991524636 \n",
      "\n",
      "--Best Evaluation: \n",
      "-loss: 1.1604574918746948  UAS: 0.9147245215325551  LAS: 0.8881251991524636 \n",
      "\n",
      "--Evaluation:\n",
      "-loss: 1.158319115638733  UAS: 0.9157789567878022  LAS: 0.8892334204598814 \n",
      "\n",
      "--Best Evaluation: \n",
      "-loss: 1.158319115638733  UAS: 0.9157789567878022  LAS: 0.8892334204598814 \n",
      "\n",
      "--Evaluation:\n",
      "-loss: 1.1578172445297241  UAS: 0.9166002845825507  LAS: 0.8899630503259024 \n",
      "\n",
      "--Best Evaluation: \n",
      "-loss: 1.1578172445297241  UAS: 0.9166002845825507  LAS: 0.8899630503259024 \n",
      "\n"
     ]
    },
    {
     "name": "stderr",
     "output_type": "stream",
     "text": [
      "100%|██████████| 10/10 [14:14<00:00, 85.41s/it]\n"
     ]
    },
    {
     "name": "stdout",
     "output_type": "stream",
     "text": [
      "--training finished.\n",
      "[1.1578172445297241, 0.9166002845825507, 0.8899630503259024]\n",
      "FOLD 3\n",
      "9988/2497\n",
      "--------------------------------\n"
     ]
    },
    {
     "name": "stderr",
     "output_type": "stream",
     "text": [
      "Some weights of the model checkpoint at hfl/chinese-electra-180g-large-discriminator were not used when initializing ElectraModel: ['discriminator_predictions.dense_prediction.weight', 'discriminator_predictions.dense.bias', 'discriminator_predictions.dense_prediction.bias', 'discriminator_predictions.dense.weight']\n",
      "- This IS expected if you are initializing ElectraModel from the checkpoint of a model trained on another task or with another architecture (e.g. initializing a BertForSequenceClassification model from a BertForPreTraining model).\n",
      "- This IS NOT expected if you are initializing ElectraModel from the checkpoint of a model that you expect to be exactly identical (initializing a BertForSequenceClassification model from a BertForSequenceClassification model).\n",
      "  0%|          | 0/10 [00:00<?, ?it/s]"
     ]
    },
    {
     "name": "stdout",
     "output_type": "stream",
     "text": [
      "--epoch 0, step 0, loss 11.601288795471191\n",
      "  {'UAS': 0.02092050209205021, 'LAS': 0.0}\n",
      "--Evaluation:\n",
      "-loss: 6.2674455642700195  UAS: 0.19686602298862685  LAS: 0.13908262996956444 \n",
      "\n",
      "--Best Evaluation: \n",
      "-loss: 6.2674455642700195  UAS: 0.19686602298862685  LAS: 0.13908262996956444 \n",
      "\n",
      "--Evaluation:\n",
      "-loss: 4.060400009155273  UAS: 0.4346893673042161  LAS: 0.3880838163951574 \n",
      "\n",
      "--Best Evaluation: \n",
      "-loss: 4.060400009155273  UAS: 0.4346893673042161  LAS: 0.3880838163951574 \n",
      "\n",
      "--Evaluation:\n",
      "-loss: 2.899322509765625  UAS: 0.6100254243508192  LAS: 0.5857240822811293 \n",
      "\n",
      "--Best Evaluation: \n",
      "-loss: 2.899322509765625  UAS: 0.6100254243508192  LAS: 0.5857240822811293 \n",
      "\n"
     ]
    },
    {
     "name": "stderr",
     "output_type": "stream",
     "text": [
      " 10%|█         | 1/10 [01:24<12:42, 84.68s/it]"
     ]
    },
    {
     "name": "stdout",
     "output_type": "stream",
     "text": [
      "--Evaluation:\n",
      "-loss: 1.967405080795288  UAS: 0.7504875014328946  LAS: 0.722481124698275 \n",
      "\n",
      "--Best Evaluation: \n",
      "-loss: 1.967405080795288  UAS: 0.7504875014328946  LAS: 0.722481124698275 \n",
      "\n",
      "--Evaluation:\n",
      "-loss: 1.865120768547058  UAS: 0.8063608932067005  LAS: 0.7801761847203753 \n",
      "\n",
      "--Best Evaluation: \n",
      "-loss: 1.865120768547058  UAS: 0.8063608932067005  LAS: 0.7801761847203753 \n",
      "\n",
      "--Evaluation:\n",
      "-loss: 1.5034565925598145  UAS: 0.8424321458932026  LAS: 0.8157495901495043 \n",
      "\n",
      "--Best Evaluation: \n",
      "-loss: 1.5034565925598145  UAS: 0.8424321458932026  LAS: 0.8157495901495043 \n",
      "\n"
     ]
    },
    {
     "name": "stderr",
     "output_type": "stream",
     "text": [
      " 20%|██        | 2/10 [02:49<11:17, 84.72s/it]"
     ]
    },
    {
     "name": "stdout",
     "output_type": "stream",
     "text": [
      "--Evaluation:\n",
      "-loss: 1.439486026763916  UAS: 0.8604051457773454  LAS: 0.8346100414102544 \n",
      "\n",
      "--Best Evaluation: \n",
      "-loss: 1.439486026763916  UAS: 0.8604051457773454  LAS: 0.8346100414102544 \n",
      "\n",
      "--Evaluation:\n",
      "-loss: 1.4368647336959839  UAS: 0.866640575851679  LAS: 0.8410647889133785 \n",
      "\n",
      "--Best Evaluation: \n",
      "-loss: 1.4368647336959839  UAS: 0.866640575851679  LAS: 0.8410647889133785 \n",
      "\n",
      "--Evaluation:\n",
      "-loss: 1.3684102296829224  UAS: 0.8785545815759224  LAS: 0.8514826157325007 \n",
      "\n",
      "--Best Evaluation: \n",
      "-loss: 1.3684102296829224  UAS: 0.8785545815759224  LAS: 0.8514826157325007 \n",
      "\n"
     ]
    },
    {
     "name": "stderr",
     "output_type": "stream",
     "text": [
      " 30%|███       | 3/10 [04:14<09:52, 84.71s/it]"
     ]
    },
    {
     "name": "stdout",
     "output_type": "stream",
     "text": [
      "--Evaluation:\n",
      "-loss: 1.322923183441162  UAS: 0.8898108972808092  LAS: 0.8635465895461831 \n",
      "\n",
      "--Best Evaluation: \n",
      "-loss: 1.322923183441162  UAS: 0.8898108972808092  LAS: 0.8635465895461831 \n",
      "\n",
      "--Evaluation:\n",
      "-loss: 1.2758820056915283  UAS: 0.8890659506928561  LAS: 0.8620556437923589 \n",
      "\n",
      "--Best Evaluation: \n",
      "-loss: 1.322923183441162  UAS: 0.8898108972808092  LAS: 0.8635465895461831 \n",
      "\n",
      "--Evaluation:\n",
      "-loss: 1.2525831460952759  UAS: 0.8961317698758625  LAS: 0.8684792622201962 \n",
      "\n",
      "--Best Evaluation: \n",
      "-loss: 1.2525831460952759  UAS: 0.8961317698758625  LAS: 0.8684792622201962 \n",
      "\n"
     ]
    },
    {
     "name": "stderr",
     "output_type": "stream",
     "text": [
      " 40%|████      | 4/10 [05:38<08:28, 84.74s/it]"
     ]
    },
    {
     "name": "stdout",
     "output_type": "stream",
     "text": [
      "--Evaluation:\n",
      "-loss: 1.2435920238494873  UAS: 0.897740543702626  LAS: 0.869774191581902 \n",
      "\n",
      "--Best Evaluation: \n",
      "-loss: 1.2435920238494873  UAS: 0.897740543702626  LAS: 0.869774191581902 \n",
      "\n",
      "--Evaluation:\n",
      "-loss: 1.2191853523254395  UAS: 0.9028433742266915  LAS: 0.8757363510536531 \n",
      "\n",
      "--Best Evaluation: \n",
      "-loss: 1.2191853523254395  UAS: 0.9028433742266915  LAS: 0.8757363510536531 \n",
      "\n",
      "--Evaluation:\n",
      "-loss: 1.2062904834747314  UAS: 0.9041147838716885  LAS: 0.877275392558757 \n",
      "\n",
      "--Best Evaluation: \n",
      "-loss: 1.2062904834747314  UAS: 0.9041147838716885  LAS: 0.877275392558757 \n",
      "\n"
     ]
    },
    {
     "name": "stderr",
     "output_type": "stream",
     "text": [
      " 50%|█████     | 5/10 [07:03<07:03, 84.71s/it]"
     ]
    },
    {
     "name": "stdout",
     "output_type": "stream",
     "text": [
      "--Evaluation:\n",
      "-loss: 1.2119927406311035  UAS: 0.9062118374366055  LAS: 0.8788591600788701 \n",
      "\n",
      "--Best Evaluation: \n",
      "-loss: 1.2119927406311035  UAS: 0.9062118374366055  LAS: 0.8788591600788701 \n",
      "\n",
      "--Evaluation:\n",
      "-loss: 1.1670113801956177  UAS: 0.908936071623557  LAS: 0.8818650759389595 \n",
      "\n",
      "--Best Evaluation: \n",
      "-loss: 1.1670113801956177  UAS: 0.908936071623557  LAS: 0.8818650759389595 \n",
      "\n",
      "--Evaluation:\n",
      "-loss: 1.1494710445404053  UAS: 0.9093196829341097  LAS: 0.8818600790928437 \n",
      "\n",
      "--Best Evaluation: \n",
      "-loss: 1.1670113801956177  UAS: 0.908936071623557  LAS: 0.8818650759389595 \n",
      "\n"
     ]
    },
    {
     "name": "stderr",
     "output_type": "stream",
     "text": [
      " 60%|██████    | 6/10 [08:28<05:38, 84.72s/it]"
     ]
    },
    {
     "name": "stdout",
     "output_type": "stream",
     "text": [
      "--Evaluation:\n",
      "-loss: 1.1803704500198364  UAS: 0.9092697377410566  LAS: 0.8834704499882051 \n",
      "\n",
      "--Best Evaluation: \n",
      "-loss: 1.1803704500198364  UAS: 0.9092697377410566  LAS: 0.8834704499882051 \n",
      "\n",
      "--Evaluation:\n",
      "-loss: 1.1976077556610107  UAS: 0.9100586246504608  LAS: 0.883530538485491 \n",
      "\n",
      "--Best Evaluation: \n",
      "-loss: 1.1976077556610107  UAS: 0.9100586246504608  LAS: 0.883530538485491 \n",
      "\n",
      "--Evaluation:\n",
      "-loss: 1.1530638933181763  UAS: 0.9110707044178352  LAS: 0.8844561907501038 \n",
      "\n",
      "--Best Evaluation: \n",
      "-loss: 1.1530638933181763  UAS: 0.9110707044178352  LAS: 0.8844561907501038 \n",
      "\n"
     ]
    },
    {
     "name": "stderr",
     "output_type": "stream",
     "text": [
      " 70%|███████   | 7/10 [09:53<04:14, 84.72s/it]"
     ]
    },
    {
     "name": "stdout",
     "output_type": "stream",
     "text": [
      "--Evaluation:\n",
      "-loss: 1.1718052625656128  UAS: 0.9110875494785234  LAS: 0.8841455315747215 \n",
      "\n",
      "--Best Evaluation: \n",
      "-loss: 1.1530638933181763  UAS: 0.9110707044178352  LAS: 0.8844561907501038 \n",
      "\n",
      "--Evaluation:\n",
      "-loss: 1.1937066316604614  UAS: 0.9121472014689431  LAS: 0.8844575575395612 \n",
      "\n",
      "--Best Evaluation: \n",
      "-loss: 1.1937066316604614  UAS: 0.9121472014689431  LAS: 0.8844575575395612 \n",
      "\n",
      "--Evaluation:\n",
      "-loss: 1.1699999570846558  UAS: 0.9111336023584417  LAS: 0.8844123402707214 \n",
      "\n",
      "--Best Evaluation: \n",
      "-loss: 1.1937066316604614  UAS: 0.9121472014689431  LAS: 0.8844575575395612 \n",
      "\n",
      "--Evaluation:\n",
      "-loss: 1.201255440711975  UAS: 0.9117833032752849  LAS: 0.8852615358683289 \n",
      "\n",
      "--Best Evaluation: \n",
      "-loss: 1.201255440711975  UAS: 0.9117833032752849  LAS: 0.8852615358683289 \n",
      "\n"
     ]
    },
    {
     "name": "stderr",
     "output_type": "stream",
     "text": [
      " 80%|████████  | 8/10 [11:22<02:52, 86.36s/it]"
     ]
    },
    {
     "name": "stdout",
     "output_type": "stream",
     "text": [
      "--Evaluation:\n",
      "-loss: 1.1894842386245728  UAS: 0.9148203027942594  LAS: 0.8879722033228654 \n",
      "\n",
      "--Best Evaluation: \n",
      "-loss: 1.1894842386245728  UAS: 0.9148203027942594  LAS: 0.8879722033228654 \n",
      "\n",
      "--Evaluation:\n",
      "-loss: 1.1871442794799805  UAS: 0.9138190378613531  LAS: 0.8876255892615775 \n",
      "\n",
      "--Best Evaluation: \n",
      "-loss: 1.1894842386245728  UAS: 0.9148203027942594  LAS: 0.8879722033228654 \n",
      "\n",
      "--Evaluation:\n",
      "-loss: 1.191157579421997  UAS: 0.9129392206144135  LAS: 0.8869925387043457 \n",
      "\n",
      "--Best Evaluation: \n",
      "-loss: 1.1894842386245728  UAS: 0.9148203027942594  LAS: 0.8879722033228654 \n",
      "\n"
     ]
    },
    {
     "name": "stderr",
     "output_type": "stream",
     "text": [
      " 90%|█████████ | 9/10 [12:47<01:25, 85.87s/it]"
     ]
    },
    {
     "name": "stdout",
     "output_type": "stream",
     "text": [
      "--Evaluation:\n",
      "-loss: 1.18968665599823  UAS: 0.9147206369997559  LAS: 0.888509183037752 \n",
      "\n",
      "--Best Evaluation: \n",
      "-loss: 1.18968665599823  UAS: 0.9147206369997559  LAS: 0.888509183037752 \n",
      "\n",
      "--Evaluation:\n",
      "-loss: 1.1909281015396118  UAS: 0.9156567412226464  LAS: 0.8894889887090223 \n",
      "\n",
      "--Best Evaluation: \n",
      "-loss: 1.1909281015396118  UAS: 0.9156567412226464  LAS: 0.8894889887090223 \n",
      "\n",
      "--Evaluation:\n",
      "-loss: 1.1856646537780762  UAS: 0.9153214731693653  LAS: 0.8891587387850813 \n",
      "\n",
      "--Best Evaluation: \n",
      "-loss: 1.1909281015396118  UAS: 0.9156567412226464  LAS: 0.8894889887090223 \n",
      "\n"
     ]
    },
    {
     "name": "stderr",
     "output_type": "stream",
     "text": [
      "100%|██████████| 10/10 [14:12<00:00, 85.24s/it]\n"
     ]
    },
    {
     "name": "stdout",
     "output_type": "stream",
     "text": [
      "--training finished.\n",
      "[1.1909281015396118, 0.9156567412226464, 0.8894889887090223]\n",
      "FOLD 4\n",
      "9988/2497\n",
      "--------------------------------\n"
     ]
    },
    {
     "name": "stderr",
     "output_type": "stream",
     "text": [
      "Some weights of the model checkpoint at hfl/chinese-electra-180g-large-discriminator were not used when initializing ElectraModel: ['discriminator_predictions.dense_prediction.weight', 'discriminator_predictions.dense.bias', 'discriminator_predictions.dense_prediction.bias', 'discriminator_predictions.dense.weight']\n",
      "- This IS expected if you are initializing ElectraModel from the checkpoint of a model trained on another task or with another architecture (e.g. initializing a BertForSequenceClassification model from a BertForPreTraining model).\n",
      "- This IS NOT expected if you are initializing ElectraModel from the checkpoint of a model that you expect to be exactly identical (initializing a BertForSequenceClassification model from a BertForSequenceClassification model).\n",
      "  0%|          | 0/10 [00:00<?, ?it/s]"
     ]
    },
    {
     "name": "stdout",
     "output_type": "stream",
     "text": [
      "--epoch 0, step 0, loss 12.343706130981445\n",
      "  {'UAS': 0.048879837067209775, 'LAS': 0.0}\n",
      "--Evaluation:\n",
      "-loss: 6.089404582977295  UAS: 0.21617890063360243  LAS: 0.14369135054748144 \n",
      "\n",
      "--Best Evaluation: \n",
      "-loss: 6.089404582977295  UAS: 0.21617890063360243  LAS: 0.14369135054748144 \n",
      "\n",
      "--Evaluation:\n",
      "-loss: 3.9046108722686768  UAS: 0.4365997956267718  LAS: 0.38750280457647746 \n",
      "\n",
      "--Best Evaluation: \n",
      "-loss: 3.9046108722686768  UAS: 0.4365997956267718  LAS: 0.38750280457647746 \n",
      "\n",
      "--Evaluation:\n",
      "-loss: 2.843172311782837  UAS: 0.6174521983312731  LAS: 0.5881951050364129 \n",
      "\n",
      "--Best Evaluation: \n",
      "-loss: 2.843172311782837  UAS: 0.6174521983312731  LAS: 0.5881951050364129 \n",
      "\n"
     ]
    },
    {
     "name": "stderr",
     "output_type": "stream",
     "text": [
      " 10%|█         | 1/10 [01:24<12:41, 84.59s/it]"
     ]
    },
    {
     "name": "stdout",
     "output_type": "stream",
     "text": [
      "--Evaluation:\n",
      "-loss: 2.047179937362671  UAS: 0.7455836672901783  LAS: 0.7172803712136764 \n",
      "\n",
      "--Best Evaluation: \n",
      "-loss: 2.047179937362671  UAS: 0.7455836672901783  LAS: 0.7172803712136764 \n",
      "\n",
      "--Evaluation:\n",
      "-loss: 1.8255021572113037  UAS: 0.8010613460694622  LAS: 0.7722085546448663 \n",
      "\n",
      "--Best Evaluation: \n",
      "-loss: 1.8255021572113037  UAS: 0.8010613460694622  LAS: 0.7722085546448663 \n",
      "\n",
      "--Evaluation:\n",
      "-loss: 1.51848566532135  UAS: 0.8440022892829874  LAS: 0.81512135429448 \n",
      "\n",
      "--Best Evaluation: \n",
      "-loss: 1.51848566532135  UAS: 0.8440022892829874  LAS: 0.81512135429448 \n",
      "\n"
     ]
    },
    {
     "name": "stderr",
     "output_type": "stream",
     "text": [
      " 20%|██        | 2/10 [02:49<11:16, 84.62s/it]"
     ]
    },
    {
     "name": "stdout",
     "output_type": "stream",
     "text": [
      "--Evaluation:\n",
      "-loss: 1.4715056419372559  UAS: 0.8568291081624244  LAS: 0.827491059185625 \n",
      "\n",
      "--Best Evaluation: \n",
      "-loss: 1.4715056419372559  UAS: 0.8568291081624244  LAS: 0.827491059185625 \n",
      "\n",
      "--Evaluation:\n",
      "-loss: 1.3410851955413818  UAS: 0.8731319121480499  LAS: 0.8444971911180926 \n",
      "\n",
      "--Best Evaluation: \n",
      "-loss: 1.3410851955413818  UAS: 0.8731319121480499  LAS: 0.8444971911180926 \n",
      "\n",
      "--Evaluation:\n",
      "-loss: 1.2804311513900757  UAS: 0.8793769837264699  LAS: 0.8519355120859523 \n",
      "\n",
      "--Best Evaluation: \n",
      "-loss: 1.2804311513900757  UAS: 0.8793769837264699  LAS: 0.8519355120859523 \n",
      "\n"
     ]
    },
    {
     "name": "stderr",
     "output_type": "stream",
     "text": [
      " 30%|███       | 3/10 [04:14<09:53, 84.72s/it]"
     ]
    },
    {
     "name": "stdout",
     "output_type": "stream",
     "text": [
      "--Evaluation:\n",
      "-loss: 1.2406094074249268  UAS: 0.8911605670432416  LAS: 0.8631825055746348 \n",
      "\n",
      "--Best Evaluation: \n",
      "-loss: 1.2406094074249268  UAS: 0.8911605670432416  LAS: 0.8631825055746348 \n",
      "\n",
      "--Evaluation:\n",
      "-loss: 1.2643330097198486  UAS: 0.8846414217391025  LAS: 0.8573563738241726 \n",
      "\n",
      "--Best Evaluation: \n",
      "-loss: 1.2406094074249268  UAS: 0.8911605670432416  LAS: 0.8631825055746348 \n",
      "\n",
      "--Evaluation:\n",
      "-loss: 1.2124613523483276  UAS: 0.8968341294742822  LAS: 0.8687988086608991 \n",
      "\n",
      "--Best Evaluation: \n",
      "-loss: 1.2124613523483276  UAS: 0.8968341294742822  LAS: 0.8687988086608991 \n",
      "\n"
     ]
    },
    {
     "name": "stderr",
     "output_type": "stream",
     "text": [
      " 40%|████      | 4/10 [05:38<08:28, 84.72s/it]"
     ]
    },
    {
     "name": "stdout",
     "output_type": "stream",
     "text": [
      "--Evaluation:\n",
      "-loss: 1.1998474597930908  UAS: 0.9008945440229085  LAS: 0.8722743892348501 \n",
      "\n",
      "--Best Evaluation: \n",
      "-loss: 1.1998474597930908  UAS: 0.9008945440229085  LAS: 0.8722743892348501 \n",
      "\n",
      "--Evaluation:\n",
      "-loss: 1.1845993995666504  UAS: 0.8982523618671318  LAS: 0.871184729095826 \n",
      "\n",
      "--Best Evaluation: \n",
      "-loss: 1.1998474597930908  UAS: 0.9008945440229085  LAS: 0.8722743892348501 \n",
      "\n",
      "--Evaluation:\n",
      "-loss: 1.1819638013839722  UAS: 0.9002763217573135  LAS: 0.8732201605693293 \n",
      "\n",
      "--Best Evaluation: \n",
      "-loss: 1.1819638013839722  UAS: 0.9002763217573135  LAS: 0.8732201605693293 \n",
      "\n"
     ]
    },
    {
     "name": "stderr",
     "output_type": "stream",
     "text": [
      " 50%|█████     | 5/10 [07:03<07:03, 84.70s/it]"
     ]
    },
    {
     "name": "stdout",
     "output_type": "stream",
     "text": [
      "--Evaluation:\n",
      "-loss: 1.1897050142288208  UAS: 0.9012188949734569  LAS: 0.873935804900238 \n",
      "\n",
      "--Best Evaluation: \n",
      "-loss: 1.1897050142288208  UAS: 0.9012188949734569  LAS: 0.873935804900238 \n",
      "\n",
      "--Evaluation:\n",
      "-loss: 1.1639513969421387  UAS: 0.9058684457087092  LAS: 0.8784088549834466 \n",
      "\n",
      "--Best Evaluation: \n",
      "-loss: 1.1639513969421387  UAS: 0.9058684457087092  LAS: 0.8784088549834466 \n",
      "\n",
      "--Evaluation:\n",
      "-loss: 1.1420053243637085  UAS: 0.9054892614254104  LAS: 0.8776867350340452 \n",
      "\n",
      "--Best Evaluation: \n",
      "-loss: 1.1639513969421387  UAS: 0.9058684457087092  LAS: 0.8784088549834466 \n",
      "\n"
     ]
    },
    {
     "name": "stderr",
     "output_type": "stream",
     "text": [
      " 60%|██████    | 6/10 [08:28<05:38, 84.68s/it]"
     ]
    },
    {
     "name": "stdout",
     "output_type": "stream",
     "text": [
      "--Evaluation:\n",
      "-loss: 1.171096682548523  UAS: 0.9077192911598034  LAS: 0.8812538847562057 \n",
      "\n",
      "--Best Evaluation: \n",
      "-loss: 1.171096682548523  UAS: 0.9077192911598034  LAS: 0.8812538847562057 \n",
      "\n",
      "--Evaluation:\n",
      "-loss: 1.1252961158752441  UAS: 0.9105119297799014  LAS: 0.882577624617855 \n",
      "\n",
      "--Best Evaluation: \n",
      "-loss: 1.1252961158752441  UAS: 0.9105119297799014  LAS: 0.882577624617855 \n",
      "\n",
      "--Evaluation:\n",
      "-loss: 1.1399565935134888  UAS: 0.9113925262260484  LAS: 0.8839179655080117 \n",
      "\n",
      "--Best Evaluation: \n",
      "-loss: 1.1399565935134888  UAS: 0.9113925262260484  LAS: 0.8839179655080117 \n",
      "\n"
     ]
    },
    {
     "name": "stderr",
     "output_type": "stream",
     "text": [
      " 70%|███████   | 7/10 [09:52<04:13, 84.65s/it]"
     ]
    },
    {
     "name": "stdout",
     "output_type": "stream",
     "text": [
      "--Evaluation:\n",
      "-loss: 1.12858247756958  UAS: 0.9112316514198734  LAS: 0.8836155673938347 \n",
      "\n",
      "--Best Evaluation: \n",
      "-loss: 1.1399565935134888  UAS: 0.9113925262260484  LAS: 0.8839179655080117 \n",
      "\n",
      "--Evaluation:\n",
      "-loss: 1.1597115993499756  UAS: 0.9125286787468045  LAS: 0.8851265273764841 \n",
      "\n",
      "--Best Evaluation: \n",
      "-loss: 1.1597115993499756  UAS: 0.9125286787468045  LAS: 0.8851265273764841 \n",
      "\n",
      "--Evaluation:\n",
      "-loss: 1.148713231086731  UAS: 0.9127723990551335  LAS: 0.885498020347863 \n",
      "\n",
      "--Best Evaluation: \n",
      "-loss: 1.148713231086731  UAS: 0.9127723990551335  LAS: 0.885498020347863 \n",
      "\n",
      "--Evaluation:\n",
      "-loss: 1.1654762029647827  UAS: 0.9119770847870027  LAS: 0.8854656372923285 \n",
      "\n",
      "--Best Evaluation: \n",
      "-loss: 1.148713231086731  UAS: 0.9127723990551335  LAS: 0.885498020347863 \n",
      "\n"
     ]
    },
    {
     "name": "stderr",
     "output_type": "stream",
     "text": [
      " 80%|████████  | 8/10 [11:22<02:52, 86.35s/it]"
     ]
    },
    {
     "name": "stdout",
     "output_type": "stream",
     "text": [
      "--Evaluation:\n",
      "-loss: 1.1629225015640259  UAS: 0.9150400818827422  LAS: 0.8877007370138673 \n",
      "\n",
      "--Best Evaluation: \n",
      "-loss: 1.1629225015640259  UAS: 0.9150400818827422  LAS: 0.8877007370138673 \n",
      "\n",
      "--Evaluation:\n",
      "-loss: 1.1503024101257324  UAS: 0.9145265990765675  LAS: 0.8875098560897979 \n",
      "\n",
      "--Best Evaluation: \n",
      "-loss: 1.1629225015640259  UAS: 0.9150400818827422  LAS: 0.8877007370138673 \n",
      "\n",
      "--Evaluation:\n",
      "-loss: 1.1319113969802856  UAS: 0.9146804494568904  LAS: 0.8877384259433594 \n",
      "\n",
      "--Best Evaluation: \n",
      "-loss: 1.1319113969802856  UAS: 0.9146804494568904  LAS: 0.8877384259433594 \n",
      "\n"
     ]
    },
    {
     "name": "stderr",
     "output_type": "stream",
     "text": [
      " 90%|█████████ | 9/10 [12:47<01:25, 85.84s/it]"
     ]
    },
    {
     "name": "stdout",
     "output_type": "stream",
     "text": [
      "--Evaluation:\n",
      "-loss: 1.1490609645843506  UAS: 0.9145987017320885  LAS: 0.8874926147692626 \n",
      "\n",
      "--Best Evaluation: \n",
      "-loss: 1.1319113969802856  UAS: 0.9146804494568904  LAS: 0.8877384259433594 \n",
      "\n",
      "--Evaluation:\n",
      "-loss: 1.1492280960083008  UAS: 0.9153546908173654  LAS: 0.8877205735099376 \n",
      "\n",
      "--Best Evaluation: \n",
      "-loss: 1.1319113969802856  UAS: 0.9146804494568904  LAS: 0.8877384259433594 \n",
      "\n",
      "--Evaluation:\n",
      "-loss: 1.148605465888977  UAS: 0.9150865520404247  LAS: 0.8878615341804678 \n",
      "\n",
      "--Best Evaluation: \n",
      "-loss: 1.148605465888977  UAS: 0.9150865520404247  LAS: 0.8878615341804678 \n",
      "\n"
     ]
    },
    {
     "name": "stderr",
     "output_type": "stream",
     "text": [
      "100%|██████████| 10/10 [14:12<00:00, 85.20s/it]\n"
     ]
    },
    {
     "name": "stdout",
     "output_type": "stream",
     "text": [
      "--training finished.\n",
      "[1.148605465888977, 0.9150865520404247, 0.8878615341804678]\n"
     ]
    }
   ],
   "source": [
    "for fold, (train_ids, val_ids) in enumerate(kfold.split(dataset)):\n",
    "    print(f'FOLD {fold}')\n",
    "    print(f'{len(train_ids)}/{len(val_ids)}')\n",
    "    print('--------------------------------')\n",
    "\n",
    "    if CFG.cuda and torch.cuda.is_available:\n",
    "        torch.cuda.empty_cache()\n",
    "\n",
    "    random.shuffle(train_ids)\n",
    "    random.shuffle(val_ids)\n",
    "\n",
    "    tr_dataset = Subset(dataset, train_ids)\n",
    "    va_dataset = Subset(dataset, val_ids)\n",
    "    \n",
    "    tr_iter = DataLoader(tr_dataset, batch_size=CFG.batch_size)\n",
    "    va_iter = DataLoader(va_dataset, batch_size=CFG.batch_size)\n",
    "    \n",
    "    model = DepParser(CFG)\n",
    "    \n",
    "    optim = AdamW(model.parameters(), \n",
    "                      lr=CFG.lr,\n",
    "                      weight_decay=CFG.weight_decay\n",
    "                      )\n",
    "\n",
    "    training_step = int(CFG.num_epochs * (len(train_ids) / CFG.batch_size))\n",
    "    warmup_step = int(CFG.warmup_ratio * training_step)  \n",
    "    lr_scheduler = get_linear_schedule_with_warmup(optimizer=optim, \n",
    "                                                        num_warmup_steps=warmup_step, \n",
    "                                                        num_training_steps=training_step)\n",
    "\n",
    "    trainer = BasicTrainer(optim=optim, \n",
    "                        lr_scheduler=lr_scheduler,\n",
    "                        trainset_size=len(train_ids), \n",
    "                        loss_fn=arc_rel_loss, \n",
    "                        metrics_fn=uas_las, \n",
    "                        config=CFG)\n",
    "    \n",
    "    best_res, best_state_dict = trainer.train(model=model, train_iter=tr_iter, val_iter=va_iter)\n",
    "    print(best_res)\n",
    "    with open(\"/root/autodl-tmp/diag_dep/k-fold/res.txt\", 'a+') as f:\n",
    "        f.write(f'{fold}\\t {str(best_res)}\\n')\n",
    "    \n",
    "    torch.save(best_state_dict, f\"/root/autodl-tmp/diag_dep/k-fold/{fold}/model.bin\")"
   ]
  },
  {
   "cell_type": "code",
   "execution_count": null,
   "id": "f8476e76-8f43-43cd-b642-31272ad253a1",
   "metadata": {},
   "outputs": [],
   "source": [
    "import os\n",
    "os.system(\"shutdown\")"
   ]
  }
 ],
 "metadata": {
  "kernelspec": {
   "display_name": "Python 3.8.5 ('jgy')",
   "language": "python",
   "name": "python3"
  },
  "language_info": {
   "codemirror_mode": {
    "name": "ipython",
    "version": 3
   },
   "file_extension": ".py",
   "mimetype": "text/x-python",
   "name": "python",
   "nbconvert_exporter": "python",
   "pygments_lexer": "ipython3",
   "version": "3.8.5"
  },
  "vscode": {
   "interpreter": {
    "hash": "f5970cc3159b15dedb1f3a2bddfb758e67a1721376b7397fa1f3df8941c2f173"
   }
  }
 },
 "nbformat": 4,
 "nbformat_minor": 5
}
