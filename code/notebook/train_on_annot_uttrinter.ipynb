{
 "cells": [
  {
   "cell_type": "code",
   "execution_count": 1,
   "id": "3516121e-224c-4ff6-b113-7f0688056924",
   "metadata": {
    "tags": []
   },
   "outputs": [],
   "source": [
    "import os\n",
    "from collections import Counter\n",
    "from typing import *\n",
    "import random\n",
    "import json"
   ]
  },
  {
   "cell_type": "code",
   "execution_count": 2,
   "id": "6b65642f-6ea7-44bf-bcb5-562aff34f852",
   "metadata": {},
   "outputs": [],
   "source": [
    "from tqdm import tqdm\n",
    "import numpy as np\n",
    "from sklearn.model_selection import KFold\n",
    "\n",
    "import torch\n",
    "from torch import nn\n",
    "from torch.nn import functional as F\n",
    "from torch.utils.data import Dataset, DataLoader, Subset\n",
    "from torch.cuda.amp import autocast, GradScaler\n",
    "\n",
    "from transformers import AutoConfig, AutoModel, AutoTokenizer, AdamW, get_constant_schedule_with_warmup, get_linear_schedule_with_warmup"
   ]
  },
  {
   "cell_type": "code",
   "execution_count": 3,
   "id": "38dea672-6e55-40bf-8b1a-711039e54a34",
   "metadata": {},
   "outputs": [],
   "source": [
    "from trainer import BasicTrainer\n",
    "from model import DepParser\n",
    "from utils import arc_rel_loss, uas_las"
   ]
  },
  {
   "cell_type": "markdown",
   "id": "5364156f-4402-4b34-b357-90cd4683ed92",
   "metadata": {},
   "source": [
    "## Config"
   ]
  },
  {
   "cell_type": "code",
   "execution_count": 4,
   "id": "67c8c13e-2a29-4c4a-a0c0-bc88089e4395",
   "metadata": {},
   "outputs": [],
   "source": [
    "class CFG:\n",
    "    data_file = '/root/diag_dep/data_new/1to200_0923.json'\n",
    "    plm = 'hfl/chinese-electra-180g-large-discriminator'\n",
    "    num_folds = 5\n",
    "    trn_folds = [0, 1, 2, 3, 4]\n",
    "    random_seed = 42\n",
    "    num_epochs = 30\n",
    "    batch_size = 4\n",
    "    lr = 2e-5\n",
    "    weight_decay = 0.01\n",
    "    dropout = 0.2\n",
    "    grad_clip = 1\n",
    "    scheduler = 'linear'\n",
    "    warmup_ratio = 0.12\n",
    "    num_early_stop = 5\n",
    "    max_length = 512\n",
    "    num_labels = 40\n",
    "    hidden_size = 400\n",
    "    print_every = 1e9\n",
    "    eval_every = 30\n",
    "    cuda = True\n",
    "    fp16 = True"
   ]
  },
  {
   "cell_type": "markdown",
   "id": "76bcaccb-18d3-4c60-a99f-c9ba2ac5687b",
   "metadata": {},
   "source": [
    "## Seed and Device"
   ]
  },
  {
   "cell_type": "code",
   "execution_count": 5,
   "id": "6fc6cbe6-687d-423a-a727-b81ea81fed21",
   "metadata": {},
   "outputs": [],
   "source": [
    "def seed_everything(seed=CFG.random_seed):\n",
    "    np.random.seed(seed%(2**32-1))\n",
    "    random.seed(seed)\n",
    "    torch.manual_seed(seed)\n",
    "    torch.cuda.manual_seed(seed)\n",
    "    torch.backends.cudnn.deterministic =True\n",
    "    torch.backends.cudnn.benchmark = False\n",
    "\n",
    "seed_everything()"
   ]
  },
  {
   "cell_type": "code",
   "execution_count": 6,
   "id": "c9ba0a24-f554-4f67-9459-0938a67c58c8",
   "metadata": {},
   "outputs": [
    {
     "name": "stdout",
     "output_type": "stream",
     "text": [
      "Using device: cuda\n"
     ]
    }
   ],
   "source": [
    "if torch.cuda.is_available():\n",
    "    device = torch.device('cuda')\n",
    "else:\n",
    "    device = torch.device('cpu')\n",
    "\n",
    "print(f'Using device: {device}')"
   ]
  },
  {
   "cell_type": "markdown",
   "id": "9e75bf13-f8bf-4f44-9fd3-022f474f1dae",
   "metadata": {},
   "source": [
    "## Data"
   ]
  },
  {
   "cell_type": "code",
   "execution_count": 7,
   "id": "72b2700c-7f24-4014-ba65-2f4fbd5362f1",
   "metadata": {},
   "outputs": [],
   "source": [
    "rel_dct = {\n",
    "    'root': '根节点',\n",
    "    'sasubj-obj': '同主同宾',\n",
    "    'sasubj': '同主语',\n",
    "    'dfsubj': '不同主语',\n",
    "    'subj': '主语',\n",
    "    'subj-in': '内部主语',\n",
    "    'obj': '宾语',\n",
    "    'pred': '谓语',\n",
    "    'att': '定语',\n",
    "    'adv': '状语',\n",
    "    'cmp': '补语',\n",
    "    'coo': '并列',\n",
    "    'pobj': '介宾',\n",
    "    'iobj': '间宾',\n",
    "    'de': '的',\n",
    "    'adjct': '附加',\n",
    "    'app': '称呼',\n",
    "    'exp': '解释',\n",
    "    'punc': '标点',\n",
    "    'frag': '片段',\n",
    "    'repet': '重复',\n",
    "    # rst\n",
    "    'attr': '归属',\n",
    "    'bckg': '背景',\n",
    "    'cause': '因果',\n",
    "    'comp': '比较',\n",
    "    'cond': '状况',\n",
    "    'cont': '对比',\n",
    "    'elbr': '阐述',\n",
    "    'enbm': '目的',\n",
    "    'eval': '评价',\n",
    "    'expl': '解释-例证',\n",
    "    'joint': '联合',\n",
    "    'manner': '方式',\n",
    "    'rstm': '重申',\n",
    "    'temp': '时序',\n",
    "    'tp-chg': '主题变更',\n",
    "    'prob-sol': '问题-解决',\n",
    "    'qst-ans': '疑问-回答',\n",
    "    'stm-rsp': '陈述-回应',\n",
    "    'req-proc': '需求-处理',\n",
    "}"
   ]
  },
  {
   "cell_type": "code",
   "execution_count": 8,
   "id": "75bf12c6-e493-453b-a3ca-a4eb15b24bab",
   "metadata": {},
   "outputs": [],
   "source": [
    "rst_lst = [\n",
    "    'attr','bckg','cause','comp','cond','cont','elbr','enbm','eval','expl','joint',\n",
    "    'manner','rstm','temp','tp-chg','prob-sol','qst-ans','stm-rsp','req-proc',\n",
    "]"
   ]
  },
  {
   "cell_type": "code",
   "execution_count": 9,
   "id": "35cf9c30-727a-489d-97e6-efc33c2bf5a3",
   "metadata": {
    "tags": []
   },
   "outputs": [
    {
     "name": "stdout",
     "output_type": "stream",
     "text": [
      "{'root': 0, 'sasubj-obj': 1, 'sasubj': 2, 'dfsubj': 3, 'subj': 4, 'subj-in': 5, 'obj': 6, 'pred': 7, 'att': 8, 'adv': 9, 'cmp': 10, 'coo': 11, 'pobj': 12, 'iobj': 13, 'de': 14, 'adjct': 15, 'app': 16, 'exp': 17, 'punc': 18, 'frag': 19, 'repet': 20, 'attr': 21, 'bckg': 22, 'cause': 23, 'comp': 24, 'cond': 25, 'cont': 26, 'elbr': 27, 'enbm': 28, 'eval': 29, 'expl': 30, 'joint': 31, 'manner': 32, 'rstm': 33, 'temp': 34, 'tp-chg': 35, 'prob-sol': 36, 'qst-ans': 37, 'stm-rsp': 38, 'req-proc': 39}\n"
     ]
    }
   ],
   "source": [
    "rel2id = {key:idx for idx, key in enumerate(rel_dct.keys())}\n",
    "print(rel2id)"
   ]
  },
  {
   "cell_type": "code",
   "execution_count": 10,
   "id": "f0d8e193-ac84-4024-9890-3564fe797318",
   "metadata": {},
   "outputs": [
    {
     "name": "stdout",
     "output_type": "stream",
     "text": [
      "21128\n",
      "add token: [root] 21128\n",
      "add token: [qst] 21129\n",
      "add token: [ans] 138\n",
      "21131\n"
     ]
    }
   ],
   "source": [
    "tokenizer = AutoTokenizer.from_pretrained(CFG.plm)\n",
    "print(len(tokenizer))\n",
    " \n",
    "num_added_toks = tokenizer.add_tokens(['[root]', '[qst]', '[aws]'], special_tokens=True)\n",
    "tokenizer.root_token = '[root]'\n",
    "tokenizer.root_token_ids = tokenizer('[root]')['input_ids'][1]\n",
    "print(f\"add token: {tokenizer.root_token} {tokenizer.root_token_ids}\")\n",
    "\n",
    "tokenizer.root_token = '[qst]'\n",
    "tokenizer.root_token_ids = tokenizer('[qst]')['input_ids'][1]\n",
    "print(f\"add token: {tokenizer.root_token} {tokenizer.root_token_ids}\")\n",
    "\n",
    "tokenizer.root_token = '[ans]'\n",
    "tokenizer.root_token_ids = tokenizer('[ans]')['input_ids'][1]\n",
    "print(f\"add token: {tokenizer.root_token} {tokenizer.root_token_ids}\")\n",
    "print(len(tokenizer))\n",
    "\n",
    "CFG.tokenizer = tokenizer"
   ]
  },
  {
   "cell_type": "code",
   "execution_count": 11,
   "id": "c037592f-c982-46c3-a294-87c076c7d9ca",
   "metadata": {},
   "outputs": [
    {
     "name": "stdout",
     "output_type": "stream",
     "text": [
      "1\n",
      "626\n",
      "209.725\n"
     ]
    }
   ],
   "source": [
    "with open(CFG.data_file, 'r', encoding='utf-8') as f:\n",
    "    data = json.load(f)[:200]  # have annotated 200 data\n",
    "\n",
    "sent_lst = []\n",
    "max_len, trun_cnt = 0, 0\n",
    "for d in data:\n",
    "    word_lst = []\n",
    "    for item in d['dialog']:\n",
    "        word_lst.extend(item['utterance'].split(' '))\n",
    "    if len(word_lst) > max_len:\n",
    "        max_len = len(word_lst)\n",
    "    if len(word_lst) > 450:\n",
    "        trun_cnt += 1\n",
    "    sent_lst.append(len(word_lst))\n",
    "\n",
    "print(trun_cnt)\n",
    "print(max_len)\n",
    "print(np.mean(sent_lst))"
   ]
  },
  {
   "cell_type": "code",
   "execution_count": 12,
   "id": "88f0dfad-12d1-4546-b05e-ad36bffaa720",
   "metadata": {},
   "outputs": [],
   "source": [
    "class Dependency():\n",
    "    def __init__(self, idx, word, head, rel):\n",
    "        self.id = idx\n",
    "        self.word = word\n",
    "        self.tag = '_'\n",
    "        self.head = head\n",
    "        self.rel = rel\n",
    "\n",
    "    def __str__(self):\n",
    "        # example:  1\t上海\t_\tNR\tNR\t_\t2\tnn\t_\t_\n",
    "        values = [str(self.idx), self.word, \"_\", self.tag, \"_\", \"_\", str(self.head), self.rel, \"_\", \"_\"]\n",
    "        return '\\t'.join(values)\n",
    "\n",
    "    def __repr__(self):\n",
    "        return f\"({self.id}, {self.word}, {self.tag}, {self.head}, {self.rel})\""
   ]
  },
  {
   "cell_type": "code",
   "execution_count": 17,
   "id": "3154859d-3591-4177-94ef-137822dc4caf",
   "metadata": {},
   "outputs": [],
   "source": [
    "def load_annoted(data_file):\n",
    "    with open(CFG.data_file, 'r', encoding='utf-8') as f:\n",
    "        data = json.load(f)[:200]  # have annotated 200 data\n",
    "        \n",
    "    sample_lst:List[List[Dependency]] = []\n",
    "    \n",
    "    for d in data:\n",
    "        rel_dct = {}\n",
    "        for tripple in d['relationship']:\n",
    "            head, rel, tail = tripple\n",
    "            head_uttr_idx, head_word_idx = [int(x) for x in head.split('-')]\n",
    "            tail_uttr_idx, tail_word_idx = [int(x) for x in tail.split('-')]\n",
    "            \n",
    "            if rel == 'root' and head_uttr_idx != 0: # ignore root\n",
    "                continue\n",
    "                 \n",
    "            if not rel_dct.get(tail_uttr_idx, None):\n",
    "                rel_dct[tail_uttr_idx] = {tail_word_idx: [head, rel]}\n",
    "            else:\n",
    "                rel_dct[tail_uttr_idx][tail_word_idx] = [head, rel]\n",
    "                \n",
    "        sent_lens_accum = [0]\n",
    "        for i, item in enumerate(d['dialog']):\n",
    "            utterance = item['utterance']\n",
    "            sent_lens_accum.append(sent_lens_accum[i] + len(utterance.split(' ')) + 1)\n",
    "        \n",
    "        dep_lst:List[Dependency] = []\n",
    "        role_lst:List[str] = []\n",
    "        for item in d['dialog']:\n",
    "            turn = item['turn']\n",
    "            utterance = item['utterance']\n",
    "            # dep_lst:List[Dependency] = [Dependency(0, '[root]', -1, '_')]\n",
    "            \n",
    "            role = '[ans]' if item['speaker'] == 'A' else '[qst]'\n",
    "            dep_lst.append(Dependency(sent_lens_accum[turn], role, -1, '_'))  \n",
    "            \n",
    "            for word_idx, word in enumerate(utterance.split(' ')):\n",
    "                tail2head = rel_dct.get(turn, {1: [f'{turn}-{word_idx}', 'adjct']})\n",
    "                head, rel = tail2head.get(word_idx + 1, [f'{turn}-{word_idx}', 'adjct'])  # some word annoted missed, padded with last word and 'adjct'\n",
    "                head_uttr_idx, head_word_idx = [int(x) for x in head.split('-')]\n",
    "                \n",
    "                # only parse cross-utterance\n",
    "                if turn != head_uttr_idx:\n",
    "                    dep_lst.append(Dependency(sent_lens_accum[turn] + word_idx + 1, word, sent_lens_accum[head_uttr_idx] + head_word_idx, rel))  # add with accumulated length\n",
    "                else:\n",
    "                    dep_lst.append(Dependency(sent_lens_accum[turn] + word_idx + 1, word, -1, '_')) \n",
    "                \n",
    "                # only parse rst relation\n",
    "                # if rel not in rst_lst:\n",
    "                #     dep_lst.append(Dependency(sent_lens_accum[turn] + word_idx + 1, word, -1, '_')) \n",
    "                # else:\n",
    "                #     dep_lst.append(Dependency(sent_lens_accum[turn] + word_idx + 1, word, sent_lens_accum[head_uttr_idx] + head_word_idx, rel))  # add with accumulated length\n",
    "        \n",
    "            role_lst.append(item['speaker'])        \n",
    "        sample_lst.append(dep_lst)\n",
    "        \n",
    "    return sample_lst"
   ]
  },
  {
   "cell_type": "code",
   "execution_count": 18,
   "id": "d424fc76-bc43-46ca-9852-9823d8f9ad24",
   "metadata": {
    "collapsed": true,
    "jupyter": {
     "outputs_hidden": true
    },
    "tags": []
   },
   "outputs": [
    {
     "data": {
      "text/plain": [
       "[(0, [ans], _, -1, _),\n",
       " (1, 有, _, -1, _),\n",
       " (2, 什么, _, -1, _),\n",
       " (3, 问题, _, -1, _),\n",
       " (4, 我, _, -1, _),\n",
       " (5, 可以, _, -1, _),\n",
       " (6, 帮, _, -1, _),\n",
       " (7, 您, _, -1, _),\n",
       " (8, 处理, _, -1, _),\n",
       " (9, 或, _, -1, _),\n",
       " (10, 解决, _, -1, _),\n",
       " (11, 呢, _, -1, _),\n",
       " (12, ?, _, -1, _),\n",
       " (13, [qst], _, -1, _),\n",
       " (14, 你, _, -1, _),\n",
       " (15, 好, _, 1, qst-ans),\n",
       " (16, [qst], _, -1, _),\n",
       " (17, 以前, _, -1, _),\n",
       " (18, 的, _, -1, _),\n",
       " (19, 手机, _, -1, _),\n",
       " (20, 号码, _, -1, _),\n",
       " (21, 销, _, 15, elbr),\n",
       " (22, 号, _, -1, _),\n",
       " (23, 了, _, -1, _),\n",
       " (24, ，, _, -1, _),\n",
       " (25, 密码, _, -1, _),\n",
       " (26, 也, _, -1, _),\n",
       " (27, 忘, _, -1, _),\n",
       " (28, 了, _, -1, _),\n",
       " (29, [qst], _, -1, _),\n",
       " (30, 改, _, 27, bckg),\n",
       " (31, 密码, _, -1, _),\n",
       " (32, 需要, _, -1, _),\n",
       " (33, 手机, _, -1, _),\n",
       " (34, 验证码, _, -1, _),\n",
       " (35, [ans], _, -1, _),\n",
       " (36, 还, _, -1, _),\n",
       " (37, 记得, _, 30, stm-rsp),\n",
       " (38, 您, _, -1, _),\n",
       " (39, 以前, _, -1, _),\n",
       " (40, 的, _, -1, _),\n",
       " (41, 手机, _, -1, _),\n",
       " (42, 号码, _, -1, _),\n",
       " (43, 吗, _, -1, _),\n",
       " (44, [qst], _, -1, _),\n",
       " (45, [, _, -1, _),\n",
       " (46, 数字, _, 37, qst-ans),\n",
       " (47, ], _, -1, _),\n",
       " (48, [ans], _, -1, _),\n",
       " (49, 稍, _, -1, _),\n",
       " (50, 等, _, 46, stm-rsp),\n",
       " (51, [qst], _, -1, _),\n",
       " (52, 注册, _, -1, _),\n",
       " (53, 邮箱, _, 50, stm-rsp),\n",
       " (54, [, _, -1, _),\n",
       " (55, 邮箱, _, -1, _),\n",
       " (56, ], _, -1, _),\n",
       " (57, [ans], _, -1, _),\n",
       " (58, 若晨, _, 53, stm-rsp),\n",
       " (59, [, _, -1, _),\n",
       " (60, 数字, _, -1, _),\n",
       " (61, ], _, -1, _),\n",
       " (62, [ans], _, -1, _),\n",
       " (63, 是, _, 58, elbr),\n",
       " (64, 这个, _, -1, _),\n",
       " (65, 用户名, _, -1, _),\n",
       " (66, 吗, _, -1, _),\n",
       " (67, [qst], _, -1, _),\n",
       " (68, 嗯, _, 63, qst-ans),\n",
       " (69, 嗯, _, -1, _),\n",
       " (70, [ans], _, -1, _),\n",
       " (71, 这边, _, -1, _),\n",
       " (72, 帮, _, 68, stm-rsp),\n",
       " (73, 您, _, -1, _),\n",
       " (74, 升级, _, -1, _),\n",
       " (75, 专员, _, -1, _),\n",
       " (76, 会, _, -1, _),\n",
       " (77, 在, _, -1, _),\n",
       " (78, 明天, _, -1, _),\n",
       " (79, [, _, -1, _),\n",
       " (80, 数字, _, -1, _),\n",
       " (81, ], _, -1, _),\n",
       " (82, 点, _, -1, _),\n",
       " (83, 前, _, -1, _),\n",
       " (84, 给, _, -1, _),\n",
       " (85, 您, _, -1, _),\n",
       " (86, 回电, _, -1, _),\n",
       " (87, 方便, _, -1, _),\n",
       " (88, 提供, _, -1, _),\n",
       " (89, 下, _, -1, _),\n",
       " (90, 您, _, -1, _),\n",
       " (91, 要, _, -1, _),\n",
       " (92, 绑定, _, -1, _),\n",
       " (93, 的, _, -1, _),\n",
       " (94, 手机, _, -1, _),\n",
       " (95, 号码, _, -1, _),\n",
       " (96, 吗, _, -1, _),\n",
       " (97, [qst], _, -1, _),\n",
       " (98, [, _, -1, _),\n",
       " (99, 数字, _, 88, req-proc),\n",
       " (100, ], _, -1, _),\n",
       " (101, [qst], _, -1, _),\n",
       " (102, 其实, _, -1, _),\n",
       " (103, 个人, _, -1, _),\n",
       " (104, 觉得, _, 99, elbr),\n",
       " (105, 通过, _, -1, _),\n",
       " (106, 注册, _, -1, _),\n",
       " (107, 邮箱, _, -1, _),\n",
       " (108, 验证, _, -1, _),\n",
       " (109, 挺, _, -1, _),\n",
       " (110, 方便, _, -1, _),\n",
       " (111, 的, _, -1, _),\n",
       " (112, [ans], _, -1, _),\n",
       " (113, 已经, _, -1, _),\n",
       " (114, 为, _, -1, _),\n",
       " (115, 您, _, -1, _),\n",
       " (116, 反馈, _, 104, stm-rsp),\n",
       " (117, 专员, _, -1, _),\n",
       " (118, ，, _, -1, _),\n",
       " (119, 请, _, -1, _),\n",
       " (120, 您, _, -1, _),\n",
       " (121, 保持, _, -1, _),\n",
       " (122, 电话, _, -1, _),\n",
       " (123, 畅通, _, -1, _),\n",
       " (124, 哦, _, -1, _),\n",
       " (125, ，, _, -1, _),\n",
       " (126, 会, _, -1, _),\n",
       " (127, 尽快, _, -1, _),\n",
       " (128, 联系, _, -1, _),\n",
       " (129, 您, _, -1, _),\n",
       " (130, 的, _, -1, _),\n",
       " (131, 呢, _, -1, _),\n",
       " (132, [ans], _, -1, _),\n",
       " (133, 请问, _, 116, elbr),\n",
       " (134, 还, _, -1, _),\n",
       " (135, 有, _, -1, _),\n",
       " (136, 其他, _, -1, _),\n",
       " (137, 还, _, -1, _),\n",
       " (138, 可以, _, -1, _),\n",
       " (139, 帮到, _, -1, _),\n",
       " (140, 您, _, -1, _),\n",
       " (141, 的, _, -1, _),\n",
       " (142, 吗, _, -1, _),\n",
       " (143, ?, _, -1, _),\n",
       " (144, [qst], _, -1, _),\n",
       " (145, 好, _, 133, qst-ans),\n",
       " (146, 的, _, -1, _),\n",
       " (147, ，, _, -1, _),\n",
       " (148, 没, _, -1, _),\n",
       " (149, 了, _, -1, _),\n",
       " (150, ，, _, -1, _),\n",
       " (151, 谢谢, _, -1, _),\n",
       " (152, [ans], _, -1, _),\n",
       " (153, 妹子, _, -1, _),\n",
       " (154, 怠慢, _, -1, _),\n",
       " (155, 的, _, -1, _),\n",
       " (156, 地方, _, -1, _),\n",
       " (157, ，, _, -1, _),\n",
       " (158, 您, _, -1, _),\n",
       " (159, 多多, _, -1, _),\n",
       " (160, 包含, _, 145, elbr),\n",
       " (161, 哦, _, -1, _),\n",
       " (162, ，, _, -1, _),\n",
       " (163, 辛苦, _, -1, _),\n",
       " (164, 您, _, -1, _),\n",
       " (165, 点击, _, -1, _),\n",
       " (166, 聊天框, _, -1, _),\n",
       " (167, 中, _, -1, _),\n",
       " (168, 的, _, -1, _),\n",
       " (169, [, _, -1, _),\n",
       " (170, 站点, _, -1, _),\n",
       " (171, ], _, -1, _),\n",
       " (172, 给, _, -1, _),\n",
       " (173, 我, _, -1, _),\n",
       " (174, 一, _, -1, _),\n",
       " (175, 个, _, -1, _),\n",
       " (176, 评价, _, -1, _),\n",
       " (177, 哦, _, -1, _),\n",
       " (178, ，, _, -1, _),\n",
       " (179, 妹子, _, -1, _),\n",
       " (180, 期待, _, -1, _),\n",
       " (181, 再次, _, -1, _),\n",
       " (182, 为, _, -1, _),\n",
       " (183, 您, _, -1, _),\n",
       " (184, 服务, _, -1, _),\n",
       " (185, [ans], _, -1, _),\n",
       " (186, 亲, _, -1, _),\n",
       " (187, 请问, _, 160, elbr),\n",
       " (188, 还, _, -1, _),\n",
       " (189, 有, _, -1, _),\n",
       " (190, 什么, _, -1, _),\n",
       " (191, 我, _, -1, _),\n",
       " (192, 能, _, -1, _),\n",
       " (193, 帮助, _, -1, _),\n",
       " (194, 到, _, -1, _),\n",
       " (195, 您, _, -1, _),\n",
       " (196, 的, _, -1, _),\n",
       " (197, 呢, _, -1, _),\n",
       " (198, [qst], _, -1, _),\n",
       " (199, 你, _, -1, _),\n",
       " (200, 好, _, -1, _),\n",
       " (201, ，, _, -1, _),\n",
       " (202, 您, _, -1, _),\n",
       " (203, 可以, _, -1, _),\n",
       " (204, 看见, _, 187, qst-ans),\n",
       " (205, 我, _, -1, _),\n",
       " (206, 之前, _, -1, _),\n",
       " (207, 反馈, _, -1, _),\n",
       " (208, 的, _, -1, _),\n",
       " (209, 问题, _, -1, _),\n",
       " (210, 吗, _, -1, _),\n",
       " (211, [ans], _, -1, _),\n",
       " (212, 可以, _, 204, qst-ans),\n",
       " (213, 的, _, -1, _),\n",
       " (214, 亲, _, -1, _),\n",
       " (215, [qst], _, -1, _),\n",
       " (216, 嗯, _, -1, _),\n",
       " (217, ，, _, -1, _),\n",
       " (218, 我, _, -1, _),\n",
       " (219, 现在, _, -1, _),\n",
       " (220, 终于, _, -1, _),\n",
       " (221, 想起, _, 212, stm-rsp),\n",
       " (222, 密码, _, -1, _),\n",
       " (223, 了, _, -1, _),\n",
       " (224, ，, _, -1, _),\n",
       " (225, 登录, _, -1, _),\n",
       " (226, 进来, _, -1, _),\n",
       " (227, 了, _, -1, _),\n",
       " (228, ，, _, -1, _),\n",
       " (229, 但, _, -1, _),\n",
       " (230, 还是, _, -1, _),\n",
       " (231, 要, _, -1, _),\n",
       " (232, 验证, _, -1, _),\n",
       " (233, 我, _, -1, _),\n",
       " (234, 以前, _, -1, _),\n",
       " (235, 的, _, -1, _),\n",
       " (236, 手机, _, -1, _),\n",
       " (237, 号码, _, -1, _),\n",
       " (238, [ans], _, -1, _),\n",
       " (239, 没, _, 221, stm-rsp),\n",
       " (240, 事, _, -1, _),\n",
       " (241, 的, _, -1, _),\n",
       " (242, 哦, _, -1, _),\n",
       " (243, 亲, _, -1, _),\n",
       " (244, [ans], _, -1, _),\n",
       " (245, 我们, _, -1, _),\n",
       " (246, 这边, _, -1, _),\n",
       " (247, 已经, _, -1, _),\n",
       " (248, 帮, _, 239, elbr),\n",
       " (249, 您, _, -1, _),\n",
       " (250, 反馈, _, -1, _),\n",
       " (251, 专员, _, -1, _),\n",
       " (252, 了, _, -1, _),\n",
       " (253, [qst], _, -1, _),\n",
       " (254, 不能, _, -1, _),\n",
       " (255, 邮箱, _, -1, _),\n",
       " (256, 改, _, -1, _),\n",
       " (257, 密码, _, -1, _),\n",
       " (258, 就, _, -1, _),\n",
       " (259, 算, _, 248, stm-rsp),\n",
       " (260, 了, _, -1, _),\n",
       " (261, ，, _, -1, _),\n",
       " (262, 找到, _, -1, _),\n",
       " (263, 密码, _, -1, _),\n",
       " (264, 还, _, -1, _),\n",
       " (265, 必须, _, -1, _),\n",
       " (266, 验证, _, -1, _),\n",
       " (267, 以前, _, -1, _),\n",
       " (268, 的, _, -1, _),\n",
       " (269, 手机, _, -1, _),\n",
       " (270, 号码, _, -1, _),\n",
       " (271, [qst], _, -1, _),\n",
       " (272, 不, _, -1, _),\n",
       " (273, 验证, _, -1, _),\n",
       " (274, 现在, _, -1, _),\n",
       " (275, 可以, _, -1, _),\n",
       " (276, 买, _, 266, elbr),\n",
       " (277, 东西, _, -1, _),\n",
       " (278, 吗, _, -1, _),\n",
       " (279, [ans], _, -1, _),\n",
       " (280, 还, _, -1, _),\n",
       " (281, 请, _, 276, qst-ans),\n",
       " (282, 您, _, -1, _),\n",
       " (283, 耐心, _, -1, _),\n",
       " (284, 等待, _, -1, _),\n",
       " (285, 下, _, -1, _),\n",
       " (286, [qst], _, -1, _),\n",
       " (287, 好, _, 281, stm-rsp),\n",
       " (288, 吧, _, -1, _),\n",
       " (289, ，, _, -1, _),\n",
       " (290, 这么, _, -1, _),\n",
       " (291, 麻烦, _, -1, _),\n",
       " (292, ，, _, -1, _),\n",
       " (293, 不, _, -1, _),\n",
       " (294, 合理, _, -1, _),\n",
       " (295, ，, _, -1, _),\n",
       " (296, 再见, _, -1, _),\n",
       " (297, [ans], _, -1, _),\n",
       " (298, 亲, _, -1, _),\n",
       " (299, 这个, _, -1, _),\n",
       " (300, 是, _, 287, stm-rsp),\n",
       " (301, 要, _, -1, _),\n",
       " (302, 按照, _, -1, _),\n",
       " (303, 流程, _, -1, _),\n",
       " (304, 走, _, -1, _),\n",
       " (305, 的, _, -1, _),\n",
       " (306, 哦, _, -1, _),\n",
       " (307, 也, _, -1, _),\n",
       " (308, 是, _, -1, _),\n",
       " (309, 为, _, -1, _),\n",
       " (310, 您, _, -1, _),\n",
       " (311, 账户, _, -1, _),\n",
       " (312, 安全, _, -1, _),\n",
       " (313, 着想, _, -1, _),\n",
       " (314, [ans], _, -1, _),\n",
       " (315, 小妹, _, -1, _),\n",
       " (316, 也, _, -1, _),\n",
       " (317, 理解, _, 300, elbr),\n",
       " (318, 您, _, -1, _),\n",
       " (319, 的, _, -1, _),\n",
       " (320, 着急, _, -1, _)]"
      ]
     },
     "execution_count": 18,
     "metadata": {},
     "output_type": "execute_result"
    }
   ],
   "source": [
    "data = load_annoted(CFG.data_file)\n",
    "data[0]"
   ]
  },
  {
   "cell_type": "code",
   "execution_count": 19,
   "id": "13ac09de-1f8b-4614-aab5-ba4f2bc9596a",
   "metadata": {},
   "outputs": [],
   "source": [
    "class DialogDataset(Dataset):\n",
    "    def __init__(self, cfg):\n",
    "        self.cfg = cfg\n",
    "        self.inputs, self.offsets, self.heads, self.rels, self.masks = self.read_data()\n",
    "        \n",
    "    def read_data(self):\n",
    "        inputs, offsets = [], []\n",
    "        tags, heads, rels, masks = [], [], [], []\n",
    "        \n",
    "        for idx, deps in enumerate(load_annoted(self.cfg.data_file)):\n",
    "            seq_len = len(deps)\n",
    "\n",
    "            word_lst = [] \n",
    "            head_tokens = np.zeros(self.cfg.max_length, dtype=np.int64)  # same as root index is 0, constrainting by mask \n",
    "            rel_tokens = np.zeros(self.cfg.max_length, dtype=np.int64)\n",
    "            mask_tokens = np.zeros(self.cfg.max_length, dtype=np.int64)\n",
    "            for i, dep in enumerate(deps):\n",
    "                if i == seq_len or i + 1== self.cfg.max_length:\n",
    "                    break\n",
    "\n",
    "                word_lst.append(dep.word)\n",
    "                \n",
    "                if int(dep.head) == -1 or int(dep.head) + 1 >= self.cfg.max_length:\n",
    "                    head_tokens[i+1] = 0\n",
    "                    mask_tokens[i+1] = 0\n",
    "                else:\n",
    "                    head_tokens[i+1] = int(dep.head)\n",
    "                    mask_tokens[i+1] = 1\n",
    "#                     head_tokens[i] = dep.head if dep.head != '_' else 0\n",
    "                rel_tokens[i+1] = rel2id.get(dep.rel, 0)\n",
    "\n",
    "            tokenized = tokenizer.encode_plus(word_lst, \n",
    "                                              padding='max_length', \n",
    "                                              truncation=True,\n",
    "                                              max_length=self.cfg.max_length, \n",
    "                                              return_offsets_mapping=True, \n",
    "                                              return_tensors='pt',\n",
    "                                              is_split_into_words=True)\n",
    "            inputs.append({\"input_ids\": tokenized['input_ids'][0],\n",
    "                          \"token_type_ids\": tokenized['token_type_ids'][0],\n",
    "                           \"attention_mask\": tokenized['attention_mask'][0]\n",
    "                          })\n",
    "\n",
    "#                 sentence_word_idx = np.zeros(self.cfg.max_length, dtype=np.int64)\n",
    "            sentence_word_idx = []\n",
    "            for idx, (start, end) in enumerate(tokenized.offset_mapping[0][1:]):\n",
    "                if start == 0 and end != 0:\n",
    "                    sentence_word_idx.append(idx)\n",
    "#                         sentence_word_idx[idx] = idx\n",
    "            if len(sentence_word_idx) < self.cfg.max_length - 1:\n",
    "                sentence_word_idx.extend([0]* (self.cfg.max_length - 1 - len(sentence_word_idx)))\n",
    "            offsets.append(torch.as_tensor(sentence_word_idx))\n",
    "#                 offsets.append(sentence_word_idx)\n",
    "\n",
    "            heads.append(head_tokens)\n",
    "            rels.append(rel_tokens)\n",
    "            masks.append(mask_tokens)\n",
    "                    \n",
    "        return inputs, offsets, heads, rels, masks\n",
    "\n",
    "    def __getitem__(self, idx):\n",
    "        return self.inputs[idx], self.offsets[idx], self.heads[idx], self.rels[idx], self.masks[idx]\n",
    "    \n",
    "    def __len__(self):\n",
    "        return len(self.rels)"
   ]
  },
  {
   "cell_type": "code",
   "execution_count": 20,
   "id": "303101a6-a774-456a-bb1d-abc879b0622e",
   "metadata": {},
   "outputs": [],
   "source": [
    "dataset = DialogDataset(CFG)"
   ]
  },
  {
   "cell_type": "markdown",
   "id": "571d8feb-a553-4f93-a76b-70a5869af34a",
   "metadata": {},
   "source": [
    "## Tranining"
   ]
  },
  {
   "cell_type": "code",
   "execution_count": 21,
   "id": "b84fd604-50a5-436a-ac18-3242bb6c489f",
   "metadata": {},
   "outputs": [],
   "source": [
    "kfold = KFold(n_splits=CFG.num_folds, shuffle=True, random_state=CFG.random_seed)"
   ]
  },
  {
   "cell_type": "code",
   "execution_count": null,
   "id": "e60957b5-606b-440b-8b5e-77d9c609b337",
   "metadata": {
    "tags": []
   },
   "outputs": [
    {
     "name": "stdout",
     "output_type": "stream",
     "text": [
      "FOLD 0\n",
      "160/40\n",
      "--------------------------------\n"
     ]
    },
    {
     "name": "stderr",
     "output_type": "stream",
     "text": [
      "Some weights of the model checkpoint at hfl/chinese-electra-180g-large-discriminator were not used when initializing ElectraModel: ['discriminator_predictions.dense_prediction.weight', 'discriminator_predictions.dense.bias', 'discriminator_predictions.dense_prediction.bias', 'discriminator_predictions.dense.weight']\n",
      "- This IS expected if you are initializing ElectraModel from the checkpoint of a model trained on another task or with another architecture (e.g. initializing a BertForSequenceClassification model from a BertForPreTraining model).\n",
      "- This IS NOT expected if you are initializing ElectraModel from the checkpoint of a model that you expect to be exactly identical (initializing a BertForSequenceClassification model from a BertForSequenceClassification model).\n",
      "/root/miniconda3/lib/python3.8/site-packages/transformers/optimization.py:306: FutureWarning: This implementation of AdamW is deprecated and will be removed in a future version. Use the PyTorch implementation torch.optim.AdamW instead, or set `no_deprecation_warning=True` to disable this warning\n",
      "  warnings.warn(\n",
      "  0%|          | 0/30 [00:00<?, ?it/s]"
     ]
    },
    {
     "name": "stdout",
     "output_type": "stream",
     "text": [
      "--epoch 0, step 0, loss 12.420459747314453\n",
      "  {'UAS': 0.0125, 'LAS': 0.0}\n",
      "--Evaluation:\n",
      "-loss: 9.237998008728027  UAS: 0.008326508477819662  LAS: 0.002053794829024187 \n",
      "\n",
      "--Best Evaluation: \n",
      "-loss: 9.237998008728027  UAS: 0.008326508477819662  LAS: 0.002053794829024187 \n",
      "\n"
     ]
    },
    {
     "name": "stderr",
     "output_type": "stream",
     "text": [
      "  3%|▎         | 1/30 [00:11<05:19, 11.02s/it]"
     ]
    },
    {
     "name": "stdout",
     "output_type": "stream",
     "text": [
      "--Evaluation:\n",
      "-loss: 7.5951433181762695  UAS: 0.014968235494453905  LAS: 0.003648139685141119 \n",
      "\n",
      "--Best Evaluation: \n",
      "-loss: 7.5951433181762695  UAS: 0.014968235494453905  LAS: 0.003648139685141119 \n",
      "\n"
     ]
    },
    {
     "name": "stderr",
     "output_type": "stream",
     "text": [
      "  7%|▋         | 2/30 [00:22<05:09, 11.05s/it]"
     ]
    },
    {
     "name": "stdout",
     "output_type": "stream",
     "text": [
      "--Evaluation:\n",
      "-loss: 7.254802227020264  UAS: 0.019747059709605656  LAS: 0.008428947720345891 \n",
      "\n",
      "--Best Evaluation: \n",
      "-loss: 7.254802227020264  UAS: 0.019747059709605656  LAS: 0.008428947720345891 \n",
      "\n"
     ]
    },
    {
     "name": "stderr",
     "output_type": "stream",
     "text": [
      " 10%|█         | 3/30 [00:33<05:07, 11.39s/it]"
     ]
    },
    {
     "name": "stdout",
     "output_type": "stream",
     "text": [
      "--Evaluation:\n",
      "-loss: 6.797461986541748  UAS: 0.032368498725389605  LAS: 0.02264526990387783 \n",
      "\n",
      "--Best Evaluation: \n",
      "-loss: 6.797461986541748  UAS: 0.032368498725389605  LAS: 0.02264526990387783 \n",
      "\n",
      "--Evaluation:\n",
      "-loss: 6.511073589324951  UAS: 0.04527492351320245  LAS: 0.03110681599102032 \n",
      "\n",
      "--Best Evaluation: \n",
      "-loss: 6.511073589324951  UAS: 0.04527492351320245  LAS: 0.03110681599102032 \n",
      "\n"
     ]
    },
    {
     "name": "stderr",
     "output_type": "stream",
     "text": [
      " 13%|█▎        | 4/30 [00:44<04:53, 11.28s/it]"
     ]
    },
    {
     "name": "stdout",
     "output_type": "stream",
     "text": [
      "--Evaluation:\n",
      "-loss: 6.219823837280273  UAS: 0.06567313657064543  LAS: 0.041370523011696816 \n",
      "\n",
      "--Best Evaluation: \n",
      "-loss: 6.219823837280273  UAS: 0.06567313657064543  LAS: 0.041370523011696816 \n",
      "\n"
     ]
    },
    {
     "name": "stderr",
     "output_type": "stream",
     "text": [
      " 17%|█▋        | 5/30 [00:56<04:40, 11.20s/it]"
     ]
    },
    {
     "name": "stdout",
     "output_type": "stream",
     "text": [
      "--Evaluation:\n",
      "-loss: 6.09735107421875  UAS: 0.09978383106436965  LAS: 0.066307697604354 \n",
      "\n",
      "--Best Evaluation: \n",
      "-loss: 6.09735107421875  UAS: 0.09978383106436965  LAS: 0.066307697604354 \n",
      "\n"
     ]
    },
    {
     "name": "stderr",
     "output_type": "stream",
     "text": [
      " 20%|██        | 6/30 [01:07<04:33, 11.40s/it]"
     ]
    },
    {
     "name": "stdout",
     "output_type": "stream",
     "text": [
      "--Evaluation:\n",
      "-loss: 5.697291374206543  UAS: 0.1376150929653745  LAS: 0.09725508860124996 \n",
      "\n",
      "--Best Evaluation: \n",
      "-loss: 5.697291374206543  UAS: 0.1376150929653745  LAS: 0.09725508860124996 \n",
      "\n",
      "--Evaluation:\n",
      "-loss: 5.3638153076171875  UAS: 0.19795325278351394  LAS: 0.14035270370371938 \n",
      "\n",
      "--Best Evaluation: \n",
      "-loss: 5.3638153076171875  UAS: 0.19795325278351394  LAS: 0.14035270370371938 \n",
      "\n"
     ]
    },
    {
     "name": "stderr",
     "output_type": "stream",
     "text": [
      " 23%|██▎       | 7/30 [01:18<04:19, 11.30s/it]"
     ]
    },
    {
     "name": "stdout",
     "output_type": "stream",
     "text": [
      "--Evaluation:\n",
      "-loss: 5.113751411437988  UAS: 0.24372962693036354  LAS: 0.17387291645032982 \n",
      "\n",
      "--Best Evaluation: \n",
      "-loss: 5.113751411437988  UAS: 0.24372962693036354  LAS: 0.17387291645032982 \n",
      "\n"
     ]
    },
    {
     "name": "stderr",
     "output_type": "stream",
     "text": [
      " 27%|██▋       | 8/30 [01:30<04:07, 11.24s/it]"
     ]
    },
    {
     "name": "stdout",
     "output_type": "stream",
     "text": [
      "--Evaluation:\n",
      "-loss: 4.912578582763672  UAS: 0.2971943021772584  LAS: 0.21641598272515689 \n",
      "\n",
      "--Best Evaluation: \n",
      "-loss: 4.912578582763672  UAS: 0.2971943021772584  LAS: 0.21641598272515689 \n",
      "\n"
     ]
    },
    {
     "name": "stderr",
     "output_type": "stream",
     "text": [
      " 30%|███       | 9/30 [01:41<04:00, 11.44s/it]"
     ]
    },
    {
     "name": "stdout",
     "output_type": "stream",
     "text": [
      "--Evaluation:\n",
      "-loss: 4.473930358886719  UAS: 0.3684698394185705  LAS: 0.261989951609268 \n",
      "\n",
      "--Best Evaluation: \n",
      "-loss: 4.473930358886719  UAS: 0.3684698394185705  LAS: 0.261989951609268 \n",
      "\n",
      "--Evaluation:\n",
      "-loss: 4.67720890045166  UAS: 0.3563118299546073  LAS: 0.26322321824696326 \n",
      "\n",
      "--Best Evaluation: \n",
      "-loss: 4.67720890045166  UAS: 0.3563118299546073  LAS: 0.26322321824696326 \n",
      "\n"
     ]
    },
    {
     "name": "stderr",
     "output_type": "stream",
     "text": [
      " 33%|███▎      | 10/30 [01:53<03:47, 11.35s/it]"
     ]
    },
    {
     "name": "stdout",
     "output_type": "stream",
     "text": [
      "--Evaluation:\n",
      "-loss: 4.476113319396973  UAS: 0.3854136713170101  LAS: 0.2754854944622339 \n",
      "\n",
      "--Best Evaluation: \n",
      "-loss: 4.476113319396973  UAS: 0.3854136713170101  LAS: 0.2754854944622339 \n",
      "\n"
     ]
    },
    {
     "name": "stderr",
     "output_type": "stream",
     "text": [
      " 37%|███▋      | 11/30 [02:04<03:34, 11.29s/it]"
     ]
    },
    {
     "name": "stdout",
     "output_type": "stream",
     "text": [
      "--Evaluation:\n",
      "-loss: 4.435065269470215  UAS: 0.3923501326802664  LAS: 0.279731772148866 \n",
      "\n",
      "--Best Evaluation: \n",
      "-loss: 4.435065269470215  UAS: 0.3923501326802664  LAS: 0.279731772148866 \n",
      "\n"
     ]
    },
    {
     "name": "stderr",
     "output_type": "stream",
     "text": [
      " 40%|████      | 12/30 [02:16<03:26, 11.46s/it]"
     ]
    },
    {
     "name": "stdout",
     "output_type": "stream",
     "text": [
      "--Evaluation:\n",
      "-loss: 4.368740558624268  UAS: 0.4267327053475757  LAS: 0.3172822635871172 \n",
      "\n",
      "--Best Evaluation: \n",
      "-loss: 4.368740558624268  UAS: 0.4267327053475757  LAS: 0.3172822635871172 \n",
      "\n",
      "--Evaluation:\n",
      "-loss: 4.581450939178467  UAS: 0.4087768294250834  LAS: 0.30202121572150553 \n",
      "\n",
      "--Best Evaluation: \n",
      "-loss: 4.368740558624268  UAS: 0.4267327053475757  LAS: 0.3172822635871172 \n",
      "\n"
     ]
    },
    {
     "name": "stderr",
     "output_type": "stream",
     "text": [
      " 43%|████▎     | 13/30 [02:27<03:13, 11.37s/it]"
     ]
    },
    {
     "name": "stdout",
     "output_type": "stream",
     "text": [
      "--Evaluation:\n",
      "-loss: 4.643443584442139  UAS: 0.42184379729828025  LAS: 0.31499776148787595 \n",
      "\n",
      "--Best Evaluation: \n",
      "-loss: 4.368740558624268  UAS: 0.4267327053475757  LAS: 0.3172822635871172 \n",
      "\n"
     ]
    },
    {
     "name": "stderr",
     "output_type": "stream",
     "text": [
      " 47%|████▋     | 14/30 [02:38<03:00, 11.29s/it]"
     ]
    },
    {
     "name": "stdout",
     "output_type": "stream",
     "text": [
      "--Evaluation:\n",
      "-loss: 4.539865016937256  UAS: 0.44768208763723755  LAS: 0.3326306435095214 \n",
      "\n",
      "--Best Evaluation: \n",
      "-loss: 4.539865016937256  UAS: 0.44768208763723755  LAS: 0.3326306435095214 \n",
      "\n"
     ]
    },
    {
     "name": "stderr",
     "output_type": "stream",
     "text": [
      " 50%|█████     | 15/30 [02:50<02:51, 11.46s/it]"
     ]
    },
    {
     "name": "stdout",
     "output_type": "stream",
     "text": [
      "--Evaluation:\n",
      "-loss: 4.5826334953308105  UAS: 0.4371837106835824  LAS: 0.3367162119208257 \n",
      "\n",
      "--Best Evaluation: \n",
      "-loss: 4.5826334953308105  UAS: 0.4371837106835824  LAS: 0.3367162119208257 \n",
      "\n",
      "--Evaluation:\n",
      "-loss: 4.725501537322998  UAS: 0.4339385354158963  LAS: 0.3262780792039266 \n",
      "\n",
      "--Best Evaluation: \n",
      "-loss: 4.5826334953308105  UAS: 0.4371837106835824  LAS: 0.3367162119208257 \n",
      "\n"
     ]
    },
    {
     "name": "stderr",
     "output_type": "stream",
     "text": [
      " 53%|█████▎    | 16/30 [03:01<02:39, 11.36s/it]"
     ]
    },
    {
     "name": "stdout",
     "output_type": "stream",
     "text": [
      "--Evaluation:\n",
      "-loss: 4.790196895599365  UAS: 0.44920866107582114  LAS: 0.3363960327214688 \n",
      "\n",
      "--Best Evaluation: \n",
      "-loss: 4.5826334953308105  UAS: 0.4371837106835824  LAS: 0.3367162119208257 \n",
      "\n"
     ]
    },
    {
     "name": "stderr",
     "output_type": "stream",
     "text": [
      " 57%|█████▋    | 17/30 [03:12<02:26, 11.31s/it]"
     ]
    },
    {
     "name": "stdout",
     "output_type": "stream",
     "text": [
      "--Evaluation:\n",
      "-loss: 4.740580081939697  UAS: 0.4419349931532855  LAS: 0.34131311781396406 \n",
      "\n",
      "--Best Evaluation: \n",
      "-loss: 4.740580081939697  UAS: 0.4419349931532855  LAS: 0.34131311781396406 \n",
      "\n"
     ]
    },
    {
     "name": "stderr",
     "output_type": "stream",
     "text": [
      " 60%|██████    | 18/30 [03:24<02:17, 11.49s/it]"
     ]
    },
    {
     "name": "stdout",
     "output_type": "stream",
     "text": [
      "--Evaluation:\n",
      "-loss: 4.697535991668701  UAS: 0.44055634585822023  LAS: 0.344872498494059 \n",
      "\n",
      "--Best Evaluation: \n",
      "-loss: 4.697535991668701  UAS: 0.44055634585822023  LAS: 0.344872498494059 \n",
      "\n",
      "--Evaluation:\n",
      "-loss: 5.196976184844971  UAS: 0.43695474191276185  LAS: 0.3295741022942424 \n",
      "\n",
      "--Best Evaluation: \n",
      "-loss: 4.697535991668701  UAS: 0.44055634585822023  LAS: 0.344872498494059 \n",
      "\n"
     ]
    },
    {
     "name": "stderr",
     "output_type": "stream",
     "text": [
      " 63%|██████▎   | 19/30 [03:35<02:05, 11.39s/it]"
     ]
    },
    {
     "name": "stdout",
     "output_type": "stream",
     "text": [
      "--Evaluation:\n",
      "-loss: 5.091578960418701  UAS: 0.44453150466677027  LAS: 0.3466463983899431 \n",
      "\n",
      "--Best Evaluation: \n",
      "-loss: 5.091578960418701  UAS: 0.44453150466677027  LAS: 0.3466463983899431 \n",
      "\n"
     ]
    },
    {
     "name": "stderr",
     "output_type": "stream",
     "text": [
      " 67%|██████▋   | 20/30 [03:46<01:53, 11.31s/it]"
     ]
    },
    {
     "name": "stdout",
     "output_type": "stream",
     "text": [
      "--Evaluation:\n",
      "-loss: 4.980196475982666  UAS: 0.4592716842542842  LAS: 0.36068383320972325 \n",
      "\n",
      "--Best Evaluation: \n",
      "-loss: 4.980196475982666  UAS: 0.4592716842542842  LAS: 0.36068383320972325 \n",
      "\n"
     ]
    },
    {
     "name": "stderr",
     "output_type": "stream",
     "text": [
      " 70%|███████   | 21/30 [03:58<01:43, 11.48s/it]"
     ]
    },
    {
     "name": "stdout",
     "output_type": "stream",
     "text": [
      "--Evaluation:\n",
      "-loss: 4.98553991317749  UAS: 0.44577063357778357  LAS: 0.3492707245180393 \n",
      "\n",
      "--Best Evaluation: \n",
      "-loss: 4.980196475982666  UAS: 0.4592716842542842  LAS: 0.36068383320972325 \n",
      "\n",
      "--Evaluation:\n",
      "-loss: 5.220759868621826  UAS: 0.44370445799561775  LAS: 0.3444256849070025 \n",
      "\n",
      "--Best Evaluation: \n",
      "-loss: 4.980196475982666  UAS: 0.4592716842542842  LAS: 0.36068383320972325 \n",
      "\n"
     ]
    },
    {
     "name": "stderr",
     "output_type": "stream",
     "text": [
      " 73%|███████▎  | 22/30 [04:09<01:31, 11.38s/it]"
     ]
    },
    {
     "name": "stdout",
     "output_type": "stream",
     "text": [
      "--Evaluation:\n",
      "-loss: 5.102668285369873  UAS: 0.4535242939929435  LAS: 0.35605969745633387 \n",
      "\n",
      "--Best Evaluation: \n",
      "-loss: 4.980196475982666  UAS: 0.4592716842542842  LAS: 0.36068383320972325 \n",
      "\n"
     ]
    },
    {
     "name": "stderr",
     "output_type": "stream",
     "text": [
      " 77%|███████▋  | 23/30 [04:20<01:19, 11.30s/it]"
     ]
    },
    {
     "name": "stdout",
     "output_type": "stream",
     "text": [
      "--Evaluation:\n",
      "-loss: 5.18153715133667  UAS: 0.4623294686694884  LAS: 0.3578992218979399 \n",
      "\n",
      "--Best Evaluation: \n",
      "-loss: 4.980196475982666  UAS: 0.4592716842542842  LAS: 0.36068383320972325 \n",
      "\n"
     ]
    },
    {
     "name": "stderr",
     "output_type": "stream",
     "text": [
      " 77%|███████▋  | 23/30 [04:32<01:23, 11.86s/it]"
     ]
    },
    {
     "name": "stdout",
     "output_type": "stream",
     "text": [
      "--Evaluation:\n",
      "-loss: 5.302924633026123  UAS: 0.4656514945929328  LAS: 0.3603365414112995 \n",
      "\n",
      "--Best Evaluation: \n",
      "-loss: 4.980196475982666  UAS: 0.4592716842542842  LAS: 0.36068383320972325 \n",
      "\n",
      "--early stopping, training finished.\n",
      "[4.980196475982666, 0.4592716842542842, 0.36068383320972325]\n"
     ]
    },
    {
     "name": "stderr",
     "output_type": "stream",
     "text": [
      "\n"
     ]
    },
    {
     "name": "stdout",
     "output_type": "stream",
     "text": [
      "FOLD 1\n",
      "160/40\n",
      "--------------------------------\n"
     ]
    },
    {
     "name": "stderr",
     "output_type": "stream",
     "text": [
      "Some weights of the model checkpoint at hfl/chinese-electra-180g-large-discriminator were not used when initializing ElectraModel: ['discriminator_predictions.dense_prediction.weight', 'discriminator_predictions.dense.bias', 'discriminator_predictions.dense_prediction.bias', 'discriminator_predictions.dense.weight']\n",
      "- This IS expected if you are initializing ElectraModel from the checkpoint of a model trained on another task or with another architecture (e.g. initializing a BertForSequenceClassification model from a BertForPreTraining model).\n",
      "- This IS NOT expected if you are initializing ElectraModel from the checkpoint of a model that you expect to be exactly identical (initializing a BertForSequenceClassification model from a BertForSequenceClassification model).\n",
      "  0%|          | 0/30 [00:00<?, ?it/s]"
     ]
    },
    {
     "name": "stdout",
     "output_type": "stream",
     "text": [
      "--epoch 0, step 0, loss 15.344053268432617\n",
      "  {'UAS': 0.008695652173913044, 'LAS': 0.0}\n",
      "--Evaluation:\n",
      "-loss: 9.593108177185059  UAS: 0.005233870273064002  LAS: 0.002379619260918253 \n",
      "\n",
      "--Best Evaluation: \n",
      "-loss: 9.593108177185059  UAS: 0.005233870273064002  LAS: 0.002379619260918253 \n",
      "\n"
     ]
    },
    {
     "name": "stderr",
     "output_type": "stream",
     "text": [
      "  3%|▎         | 1/30 [00:11<05:23, 11.17s/it]"
     ]
    },
    {
     "name": "stdout",
     "output_type": "stream",
     "text": [
      "--Evaluation:\n",
      "-loss: 7.6217041015625  UAS: 0.013465050191246362  LAS: 0.005646319132731605 \n",
      "\n",
      "--Best Evaluation: \n",
      "-loss: 7.6217041015625  UAS: 0.013465050191246362  LAS: 0.005646319132731605 \n",
      "\n"
     ]
    },
    {
     "name": "stderr",
     "output_type": "stream",
     "text": [
      "  7%|▋         | 2/30 [00:22<05:12, 11.15s/it]"
     ]
    },
    {
     "name": "stdout",
     "output_type": "stream",
     "text": [
      "--Evaluation:\n",
      "-loss: 7.2412309646606445  UAS: 0.017910814451985457  LAS: 0.009935006185005296 \n",
      "\n",
      "--Best Evaluation: \n",
      "-loss: 7.2412309646606445  UAS: 0.017910814451985457  LAS: 0.009935006185005296 \n",
      "\n"
     ]
    },
    {
     "name": "stderr",
     "output_type": "stream",
     "text": [
      " 10%|█         | 3/30 [00:34<05:10, 11.48s/it]"
     ]
    },
    {
     "name": "stdout",
     "output_type": "stream",
     "text": [
      "--Evaluation:\n",
      "-loss: 6.896188259124756  UAS: 0.03269326225756096  LAS: 0.015012289630893811 \n",
      "\n",
      "--Best Evaluation: \n",
      "-loss: 6.896188259124756  UAS: 0.03269326225756096  LAS: 0.015012289630893811 \n",
      "\n",
      "--Evaluation:\n",
      "-loss: 6.640693664550781  UAS: 0.057229758225381865  LAS: 0.03657131880847076 \n",
      "\n",
      "--Best Evaluation: \n",
      "-loss: 6.640693664550781  UAS: 0.057229758225381865  LAS: 0.03657131880847076 \n",
      "\n"
     ]
    },
    {
     "name": "stderr",
     "output_type": "stream",
     "text": [
      " 13%|█▎        | 4/30 [00:45<04:55, 11.37s/it]"
     ]
    },
    {
     "name": "stdout",
     "output_type": "stream",
     "text": [
      "--Evaluation:\n",
      "-loss: 6.469535827636719  UAS: 0.080576559987242  LAS: 0.05915361375736923 \n",
      "\n",
      "--Best Evaluation: \n",
      "-loss: 6.469535827636719  UAS: 0.080576559987242  LAS: 0.05915361375736923 \n",
      "\n"
     ]
    },
    {
     "name": "stderr",
     "output_type": "stream",
     "text": [
      " 17%|█▋        | 5/30 [00:56<04:42, 11.29s/it]"
     ]
    },
    {
     "name": "stdout",
     "output_type": "stream",
     "text": [
      "--Evaluation:\n",
      "-loss: 5.957596302032471  UAS: 0.14630266062353764  LAS: 0.10037627253648676 \n",
      "\n",
      "--Best Evaluation: \n",
      "-loss: 5.957596302032471  UAS: 0.14630266062353764  LAS: 0.10037627253648676 \n",
      "\n"
     ]
    },
    {
     "name": "stderr",
     "output_type": "stream",
     "text": [
      " 20%|██        | 6/30 [01:08<04:35, 11.49s/it]"
     ]
    },
    {
     "name": "stdout",
     "output_type": "stream",
     "text": [
      "--Evaluation:\n",
      "-loss: 5.756810665130615  UAS: 0.17869955506891705  LAS: 0.121845769032863 \n",
      "\n",
      "--Best Evaluation: \n",
      "-loss: 5.756810665130615  UAS: 0.17869955506891705  LAS: 0.121845769032863 \n",
      "\n",
      "--Evaluation:\n",
      "-loss: 4.493098735809326  UAS: 0.2562944348903574  LAS: 0.16988305426372544 \n",
      "\n",
      "--Best Evaluation: \n",
      "-loss: 4.493098735809326  UAS: 0.2562944348903574  LAS: 0.16988305426372544 \n",
      "\n"
     ]
    },
    {
     "name": "stderr",
     "output_type": "stream",
     "text": [
      " 23%|██▎       | 7/30 [01:19<04:21, 11.38s/it]"
     ]
    },
    {
     "name": "stdout",
     "output_type": "stream",
     "text": [
      "--Evaluation:\n",
      "-loss: 4.138582229614258  UAS: 0.33457797636535064  LAS: 0.2193959412203823 \n",
      "\n",
      "--Best Evaluation: \n",
      "-loss: 4.138582229614258  UAS: 0.33457797636535064  LAS: 0.2193959412203823 \n",
      "\n"
     ]
    },
    {
     "name": "stderr",
     "output_type": "stream",
     "text": [
      " 27%|██▋       | 8/30 [01:30<04:08, 11.31s/it]"
     ]
    },
    {
     "name": "stdout",
     "output_type": "stream",
     "text": [
      "--Evaluation:\n",
      "-loss: 3.7621376514434814  UAS: 0.4170655903261478  LAS: 0.2795938848565704 \n",
      "\n",
      "--Best Evaluation: \n",
      "-loss: 3.7621376514434814  UAS: 0.4170655903261478  LAS: 0.2795938848565704 \n",
      "\n"
     ]
    },
    {
     "name": "stderr",
     "output_type": "stream",
     "text": [
      " 30%|███       | 9/30 [01:42<04:01, 11.50s/it]"
     ]
    },
    {
     "name": "stdout",
     "output_type": "stream",
     "text": [
      "--Evaluation:\n",
      "-loss: 3.639458417892456  UAS: 0.45339765603214416  LAS: 0.3244622891754768 \n",
      "\n",
      "--Best Evaluation: \n",
      "-loss: 3.639458417892456  UAS: 0.45339765603214416  LAS: 0.3244622891754768 \n",
      "\n",
      "--Evaluation:\n",
      "-loss: 4.092998027801514  UAS: 0.45896093822570905  LAS: 0.3384335225121316 \n",
      "\n",
      "--Best Evaluation: \n",
      "-loss: 4.092998027801514  UAS: 0.45896093822570905  LAS: 0.3384335225121316 \n",
      "\n"
     ]
    },
    {
     "name": "stderr",
     "output_type": "stream",
     "text": [
      " 33%|███▎      | 10/30 [01:53<03:48, 11.40s/it]"
     ]
    },
    {
     "name": "stdout",
     "output_type": "stream",
     "text": [
      "--Evaluation:\n",
      "-loss: 4.0768232345581055  UAS: 0.4543949133489624  LAS: 0.35176675668722546 \n",
      "\n",
      "--Best Evaluation: \n",
      "-loss: 4.0768232345581055  UAS: 0.4543949133489624  LAS: 0.35176675668722546 \n",
      "\n"
     ]
    },
    {
     "name": "stderr",
     "output_type": "stream",
     "text": [
      " 37%|███▋      | 11/30 [02:04<03:35, 11.33s/it]"
     ]
    },
    {
     "name": "stdout",
     "output_type": "stream",
     "text": [
      "--Evaluation:\n",
      "-loss: 3.85015869140625  UAS: 0.4875190222540023  LAS: 0.37453331641932697 \n",
      "\n",
      "--Best Evaluation: \n",
      "-loss: 3.85015869140625  UAS: 0.4875190222540023  LAS: 0.37453331641932697 \n",
      "\n"
     ]
    },
    {
     "name": "stderr",
     "output_type": "stream",
     "text": [
      " 40%|████      | 12/30 [02:16<03:26, 11.50s/it]"
     ]
    },
    {
     "name": "stdout",
     "output_type": "stream",
     "text": [
      "--Evaluation:\n",
      "-loss: 3.794692277908325  UAS: 0.5186799917001232  LAS: 0.3957129072816587 \n",
      "\n",
      "--Best Evaluation: \n",
      "-loss: 3.794692277908325  UAS: 0.5186799917001232  LAS: 0.3957129072816587 \n",
      "\n",
      "--Evaluation:\n",
      "-loss: 3.672844648361206  UAS: 0.5241887726588745  LAS: 0.41932861889398376 \n",
      "\n",
      "--Best Evaluation: \n",
      "-loss: 3.672844648361206  UAS: 0.5241887726588745  LAS: 0.41932861889398376 \n",
      "\n"
     ]
    },
    {
     "name": "stderr",
     "output_type": "stream",
     "text": [
      " 43%|████▎     | 13/30 [02:28<03:13, 11.39s/it]"
     ]
    },
    {
     "name": "stdout",
     "output_type": "stream",
     "text": [
      "--Evaluation:\n",
      "-loss: 3.5800912380218506  UAS: 0.5434040082789529  LAS: 0.4469169605468729 \n",
      "\n",
      "--Best Evaluation: \n",
      "-loss: 3.5800912380218506  UAS: 0.5434040082789529  LAS: 0.4469169605468729 \n",
      "\n"
     ]
    },
    {
     "name": "stderr",
     "output_type": "stream",
     "text": [
      " 47%|████▋     | 14/30 [02:39<03:01, 11.32s/it]"
     ]
    },
    {
     "name": "stdout",
     "output_type": "stream",
     "text": [
      "--Evaluation:\n",
      "-loss: 3.3812217712402344  UAS: 0.5841552574817654  LAS: 0.4923132014810319 \n",
      "\n",
      "--Best Evaluation: \n",
      "-loss: 3.3812217712402344  UAS: 0.5841552574817654  LAS: 0.4923132014810319 \n",
      "\n"
     ]
    },
    {
     "name": "stderr",
     "output_type": "stream",
     "text": [
      " 50%|█████     | 15/30 [02:51<02:52, 11.50s/it]"
     ]
    },
    {
     "name": "stdout",
     "output_type": "stream",
     "text": [
      "--Evaluation:\n",
      "-loss: 3.671177387237549  UAS: 0.5701353581929208  LAS: 0.47169560529326315 \n",
      "\n",
      "--Best Evaluation: \n",
      "-loss: 3.3812217712402344  UAS: 0.5841552574817654  LAS: 0.4923132014810319 \n",
      "\n",
      "--Evaluation:\n",
      "-loss: 3.5767743587493896  UAS: 0.5817544879714955  LAS: 0.4970615287935127 \n",
      "\n",
      "--Best Evaluation: \n",
      "-loss: 3.5767743587493896  UAS: 0.5817544879714955  LAS: 0.4970615287935127 \n",
      "\n"
     ]
    },
    {
     "name": "stderr",
     "output_type": "stream",
     "text": [
      " 53%|█████▎    | 16/30 [03:02<02:39, 11.40s/it]"
     ]
    },
    {
     "name": "stdout",
     "output_type": "stream",
     "text": [
      "--Evaluation:\n",
      "-loss: 3.500401258468628  UAS: 0.5924283148797607  LAS: 0.49568573205868294 \n",
      "\n",
      "--Best Evaluation: \n",
      "-loss: 3.5767743587493896  UAS: 0.5817544879714955  LAS: 0.4970615287935127 \n",
      "\n"
     ]
    },
    {
     "name": "stderr",
     "output_type": "stream",
     "text": [
      " 57%|█████▋    | 17/30 [03:13<02:27, 11.33s/it]"
     ]
    },
    {
     "name": "stdout",
     "output_type": "stream",
     "text": [
      "--Evaluation:\n",
      "-loss: 3.7648704051971436  UAS: 0.589237952332072  LAS: 0.4827067039755605 \n",
      "\n",
      "--Best Evaluation: \n",
      "-loss: 3.5767743587493896  UAS: 0.5817544879714955  LAS: 0.4970615287935127 \n",
      "\n"
     ]
    },
    {
     "name": "stderr",
     "output_type": "stream",
     "text": [
      " 60%|██████    | 18/30 [03:25<02:17, 11.50s/it]"
     ]
    },
    {
     "name": "stdout",
     "output_type": "stream",
     "text": [
      "--Evaluation:\n",
      "-loss: 3.71319317817688  UAS: 0.5990381598232771  LAS: 0.4994183704652948 \n",
      "\n",
      "--Best Evaluation: \n",
      "-loss: 3.71319317817688  UAS: 0.5990381598232771  LAS: 0.4994183704652948 \n",
      "\n",
      "--Evaluation:\n",
      "-loss: 3.688588857650757  UAS: 0.6062447445629073  LAS: 0.5110202683044189 \n",
      "\n",
      "--Best Evaluation: \n",
      "-loss: 3.688588857650757  UAS: 0.6062447445629073  LAS: 0.5110202683044189 \n",
      "\n"
     ]
    },
    {
     "name": "stderr",
     "output_type": "stream",
     "text": [
      " 63%|██████▎   | 19/30 [03:36<02:05, 11.40s/it]"
     ]
    },
    {
     "name": "stdout",
     "output_type": "stream",
     "text": [
      "--Evaluation:\n",
      "-loss: 3.618373155593872  UAS: 0.6183148966598788  LAS: 0.5187055255893938 \n",
      "\n",
      "--Best Evaluation: \n",
      "-loss: 3.618373155593872  UAS: 0.6183148966598788  LAS: 0.5187055255893938 \n",
      "\n"
     ]
    },
    {
     "name": "stderr",
     "output_type": "stream",
     "text": [
      " 67%|██████▋   | 20/30 [03:47<01:53, 11.34s/it]"
     ]
    },
    {
     "name": "stdout",
     "output_type": "stream",
     "text": [
      "--Evaluation:\n",
      "-loss: 3.971498966217041  UAS: 0.6036957107752869  LAS: 0.505636185691241 \n",
      "\n",
      "--Best Evaluation: \n",
      "-loss: 3.618373155593872  UAS: 0.6183148966598788  LAS: 0.5187055255893938 \n",
      "\n"
     ]
    },
    {
     "name": "stderr",
     "output_type": "stream",
     "text": [
      " 70%|███████   | 21/30 [03:59<01:43, 11.50s/it]"
     ]
    },
    {
     "name": "stdout",
     "output_type": "stream",
     "text": [
      "--Evaluation:\n",
      "-loss: 3.9098453521728516  UAS: 0.6140714378060135  LAS: 0.5197324076810272 \n",
      "\n",
      "--Best Evaluation: \n",
      "-loss: 3.9098453521728516  UAS: 0.6140714378060135  LAS: 0.5197324076810272 \n",
      "\n",
      "--Evaluation:\n",
      "-loss: 3.703080415725708  UAS: 0.6282482596743104  LAS: 0.5275644770912983 \n",
      "\n",
      "--Best Evaluation: \n",
      "-loss: 3.703080415725708  UAS: 0.6282482596743104  LAS: 0.5275644770912983 \n",
      "\n"
     ]
    },
    {
     "name": "stderr",
     "output_type": "stream",
     "text": [
      " 73%|███████▎  | 22/30 [04:10<01:31, 11.39s/it]"
     ]
    },
    {
     "name": "stdout",
     "output_type": "stream",
     "text": [
      "--Evaluation:\n",
      "-loss: 3.9925363063812256  UAS: 0.6262031482659087  LAS: 0.5275732944800317 \n",
      "\n",
      "--Best Evaluation: \n",
      "-loss: 3.9925363063812256  UAS: 0.6262031482659087  LAS: 0.5275732944800317 \n",
      "\n"
     ]
    },
    {
     "name": "stderr",
     "output_type": "stream",
     "text": [
      " 77%|███████▋  | 23/30 [04:21<01:19, 11.32s/it]"
     ]
    },
    {
     "name": "stdout",
     "output_type": "stream",
     "text": [
      "--Evaluation:\n",
      "-loss: 3.88346266746521  UAS: 0.6294773344752199  LAS: 0.532953988474173 \n",
      "\n",
      "--Best Evaluation: \n",
      "-loss: 3.88346266746521  UAS: 0.6294773344752199  LAS: 0.532953988474173 \n",
      "\n"
     ]
    },
    {
     "name": "stderr",
     "output_type": "stream",
     "text": [
      " 80%|████████  | 24/30 [04:33<01:08, 11.48s/it]"
     ]
    },
    {
     "name": "stdout",
     "output_type": "stream",
     "text": [
      "--Evaluation:\n",
      "-loss: 4.023767948150635  UAS: 0.6236511402060441  LAS: 0.5274977554209729 \n",
      "\n",
      "--Best Evaluation: \n",
      "-loss: 3.88346266746521  UAS: 0.6294773344752199  LAS: 0.532953988474173 \n",
      "\n",
      "--Evaluation:\n",
      "-loss: 4.039734363555908  UAS: 0.6235936871796721  LAS: 0.5165194468280736 \n",
      "\n",
      "--Best Evaluation: \n",
      "-loss: 3.88346266746521  UAS: 0.6294773344752199  LAS: 0.532953988474173 \n",
      "\n"
     ]
    },
    {
     "name": "stderr",
     "output_type": "stream",
     "text": [
      " 83%|████████▎ | 25/30 [04:44<00:56, 11.38s/it]"
     ]
    },
    {
     "name": "stdout",
     "output_type": "stream",
     "text": [
      "--Evaluation:\n",
      "-loss: 4.113306045532227  UAS: 0.6279559502646642  LAS: 0.5281545214841128 \n",
      "\n",
      "--Best Evaluation: \n",
      "-loss: 3.88346266746521  UAS: 0.6294773344752199  LAS: 0.532953988474173 \n",
      "\n"
     ]
    },
    {
     "name": "stderr",
     "output_type": "stream",
     "text": [
      " 87%|████████▋ | 26/30 [04:55<00:45, 11.31s/it]"
     ]
    },
    {
     "name": "stdout",
     "output_type": "stream",
     "text": [
      "--Evaluation:\n",
      "-loss: 4.093360424041748  UAS: 0.6282744650589878  LAS: 0.5277270865261585 \n",
      "\n",
      "--Best Evaluation: \n",
      "-loss: 3.88346266746521  UAS: 0.6294773344752199  LAS: 0.532953988474173 \n",
      "\n"
     ]
    },
    {
     "name": "stderr",
     "output_type": "stream",
     "text": [
      " 87%|████████▋ | 26/30 [05:07<00:47, 11.84s/it]"
     ]
    },
    {
     "name": "stdout",
     "output_type": "stream",
     "text": [
      "--Evaluation:\n",
      "-loss: 4.153302192687988  UAS: 0.6351307970317447  LAS: 0.5266019115109917 \n",
      "\n",
      "--Best Evaluation: \n",
      "-loss: 3.88346266746521  UAS: 0.6294773344752199  LAS: 0.532953988474173 \n",
      "\n",
      "--early stopping, training finished.\n",
      "[3.88346266746521, 0.6294773344752199, 0.532953988474173]\n"
     ]
    },
    {
     "name": "stderr",
     "output_type": "stream",
     "text": [
      "\n"
     ]
    },
    {
     "name": "stdout",
     "output_type": "stream",
     "text": [
      "FOLD 2\n",
      "160/40\n",
      "--------------------------------\n"
     ]
    },
    {
     "name": "stderr",
     "output_type": "stream",
     "text": [
      "Some weights of the model checkpoint at hfl/chinese-electra-180g-large-discriminator were not used when initializing ElectraModel: ['discriminator_predictions.dense_prediction.weight', 'discriminator_predictions.dense.bias', 'discriminator_predictions.dense_prediction.bias', 'discriminator_predictions.dense.weight']\n",
      "- This IS expected if you are initializing ElectraModel from the checkpoint of a model trained on another task or with another architecture (e.g. initializing a BertForSequenceClassification model from a BertForPreTraining model).\n",
      "- This IS NOT expected if you are initializing ElectraModel from the checkpoint of a model that you expect to be exactly identical (initializing a BertForSequenceClassification model from a BertForSequenceClassification model).\n",
      "  0%|          | 0/30 [00:00<?, ?it/s]"
     ]
    },
    {
     "name": "stdout",
     "output_type": "stream",
     "text": [
      "--epoch 0, step 0, loss 13.579277038574219\n",
      "  {'UAS': 0.0, 'LAS': 0.0}\n",
      "--Evaluation:\n",
      "-loss: 9.040756225585938  UAS: 0.006117381475472118  LAS: 0.0 \n",
      "\n",
      "--Best Evaluation: \n",
      "-loss: 0  UAS: 0  LAS: 0 \n",
      "\n"
     ]
    },
    {
     "name": "stderr",
     "output_type": "stream",
     "text": [
      "  3%|▎         | 1/30 [00:11<05:25, 11.22s/it]"
     ]
    },
    {
     "name": "stdout",
     "output_type": "stream",
     "text": [
      "--Evaluation:\n",
      "-loss: 7.602872371673584  UAS: 0.022426182167243066  LAS: 0.005869673436877738 \n",
      "\n",
      "--Best Evaluation: \n",
      "-loss: 7.602872371673584  UAS: 0.022426182167243066  LAS: 0.005869673436877738 \n",
      "\n"
     ]
    },
    {
     "name": "stderr",
     "output_type": "stream",
     "text": [
      "  7%|▋         | 2/30 [00:22<05:12, 11.16s/it]"
     ]
    },
    {
     "name": "stdout",
     "output_type": "stream",
     "text": [
      "--Evaluation:\n",
      "-loss: 7.241939067840576  UAS: 0.026077918274109248  LAS: 0.014286777588124504 \n",
      "\n",
      "--Best Evaluation: \n",
      "-loss: 7.241939067840576  UAS: 0.026077918274109248  LAS: 0.014286777588124504 \n",
      "\n"
     ]
    },
    {
     "name": "stderr",
     "output_type": "stream",
     "text": [
      " 10%|█         | 3/30 [00:34<05:09, 11.48s/it]"
     ]
    },
    {
     "name": "stdout",
     "output_type": "stream",
     "text": [
      "--Evaluation:\n",
      "-loss: 6.825639247894287  UAS: 0.036714181339251625  LAS: 0.017157213524694653 \n",
      "\n",
      "--Best Evaluation: \n",
      "-loss: 6.825639247894287  UAS: 0.036714181339251625  LAS: 0.017157213524694653 \n",
      "\n",
      "--Evaluation:\n",
      "-loss: 5.935297966003418  UAS: 0.08246960836118891  LAS: 0.04345040921451759 \n",
      "\n",
      "--Best Evaluation: \n",
      "-loss: 5.935297966003418  UAS: 0.08246960836118891  LAS: 0.04345040921451759 \n",
      "\n"
     ]
    },
    {
     "name": "stderr",
     "output_type": "stream",
     "text": [
      " 13%|█▎        | 4/30 [00:45<04:54, 11.34s/it]"
     ]
    },
    {
     "name": "stdout",
     "output_type": "stream",
     "text": [
      "--Evaluation:\n",
      "-loss: 5.0018439292907715  UAS: 0.16234126870910864  LAS: 0.10580226583889571 \n",
      "\n",
      "--Best Evaluation: \n",
      "-loss: 5.0018439292907715  UAS: 0.16234126870910864  LAS: 0.10580226583889571 \n",
      "\n"
     ]
    },
    {
     "name": "stderr",
     "output_type": "stream",
     "text": [
      " 17%|█▋        | 5/30 [00:56<04:41, 11.26s/it]"
     ]
    },
    {
     "name": "stdout",
     "output_type": "stream",
     "text": [
      "--Evaluation:\n",
      "-loss: 4.411702632904053  UAS: 0.24781224671626473  LAS: 0.1417016987483561 \n",
      "\n",
      "--Best Evaluation: \n",
      "-loss: 4.411702632904053  UAS: 0.24781224671626473  LAS: 0.1417016987483561 \n",
      "\n"
     ]
    },
    {
     "name": "stderr",
     "output_type": "stream",
     "text": [
      " 20%|██        | 6/30 [01:08<04:35, 11.47s/it]"
     ]
    },
    {
     "name": "stdout",
     "output_type": "stream",
     "text": [
      "--Evaluation:\n",
      "-loss: 4.214660167694092  UAS: 0.2969055438533055  LAS: 0.1860666603663143 \n",
      "\n",
      "--Best Evaluation: \n",
      "-loss: 4.214660167694092  UAS: 0.2969055438533055  LAS: 0.1860666603663143 \n",
      "\n",
      "--Evaluation:\n",
      "-loss: 3.936551809310913  UAS: 0.3597274148433352  LAS: 0.23123454361371146 \n",
      "\n",
      "--Best Evaluation: \n",
      "-loss: 3.936551809310913  UAS: 0.3597274148433352  LAS: 0.23123454361371146 \n",
      "\n"
     ]
    },
    {
     "name": "stderr",
     "output_type": "stream",
     "text": [
      " 23%|██▎       | 7/30 [01:19<04:21, 11.37s/it]"
     ]
    },
    {
     "name": "stdout",
     "output_type": "stream",
     "text": [
      "--Evaluation:\n",
      "-loss: 3.688556671142578  UAS: 0.41187075099147574  LAS: 0.2783759245985598 \n",
      "\n",
      "--Best Evaluation: \n",
      "-loss: 3.688556671142578  UAS: 0.41187075099147574  LAS: 0.2783759245985598 \n",
      "\n"
     ]
    },
    {
     "name": "stderr",
     "output_type": "stream",
     "text": [
      " 27%|██▋       | 8/30 [01:30<04:08, 11.31s/it]"
     ]
    },
    {
     "name": "stdout",
     "output_type": "stream",
     "text": [
      "--Evaluation:\n",
      "-loss: 3.4497878551483154  UAS: 0.48100469352082414  LAS: 0.33154117309878883 \n",
      "\n",
      "--Best Evaluation: \n",
      "-loss: 3.4497878551483154  UAS: 0.48100469352082414  LAS: 0.33154117309878883 \n",
      "\n"
     ]
    },
    {
     "name": "stderr",
     "output_type": "stream",
     "text": [
      " 30%|███       | 9/30 [01:42<04:01, 11.50s/it]"
     ]
    },
    {
     "name": "stdout",
     "output_type": "stream",
     "text": [
      "--Evaluation:\n",
      "-loss: 3.192493438720703  UAS: 0.5414466252350192  LAS: 0.39755755034790713 \n",
      "\n",
      "--Best Evaluation: \n",
      "-loss: 3.192493438720703  UAS: 0.5414466252350192  LAS: 0.39755755034790713 \n",
      "\n",
      "--Evaluation:\n",
      "-loss: 3.226663589477539  UAS: 0.5309244268584623  LAS: 0.41057526366315134 \n",
      "\n",
      "--Best Evaluation: \n",
      "-loss: 3.226663589477539  UAS: 0.5309244268584623  LAS: 0.41057526366315134 \n",
      "\n"
     ]
    },
    {
     "name": "stderr",
     "output_type": "stream",
     "text": [
      " 33%|███▎      | 10/30 [01:53<03:47, 11.40s/it]"
     ]
    },
    {
     "name": "stdout",
     "output_type": "stream",
     "text": [
      "--Evaluation:\n",
      "-loss: 2.951122760772705  UAS: 0.590912427201504  LAS: 0.44986835664690206 \n",
      "\n",
      "--Best Evaluation: \n",
      "-loss: 2.951122760772705  UAS: 0.590912427201504  LAS: 0.44986835664690206 \n",
      "\n"
     ]
    },
    {
     "name": "stderr",
     "output_type": "stream",
     "text": [
      " 37%|███▋      | 11/30 [02:04<03:35, 11.33s/it]"
     ]
    },
    {
     "name": "stdout",
     "output_type": "stream",
     "text": [
      "--Evaluation:\n",
      "-loss: 2.951988458633423  UAS: 0.595829470012997  LAS: 0.46388064239927607 \n",
      "\n",
      "--Best Evaluation: \n",
      "-loss: 2.951988458633423  UAS: 0.595829470012997  LAS: 0.46388064239927607 \n",
      "\n"
     ]
    },
    {
     "name": "stderr",
     "output_type": "stream",
     "text": [
      " 40%|████      | 12/30 [02:16<03:27, 11.50s/it]"
     ]
    },
    {
     "name": "stdout",
     "output_type": "stream",
     "text": [
      "--Evaluation:\n",
      "-loss: 3.0204856395721436  UAS: 0.6145231666690847  LAS: 0.4846705316020585 \n",
      "\n",
      "--Best Evaluation: \n",
      "-loss: 3.0204856395721436  UAS: 0.6145231666690847  LAS: 0.4846705316020585 \n",
      "\n",
      "--Evaluation:\n",
      "-loss: 2.9875566959381104  UAS: 0.6189866599186453  LAS: 0.5026981956832759 \n",
      "\n",
      "--Best Evaluation: \n",
      "-loss: 2.9875566959381104  UAS: 0.6189866599186453  LAS: 0.5026981956832759 \n",
      "\n"
     ]
    },
    {
     "name": "stderr",
     "output_type": "stream",
     "text": [
      " 43%|████▎     | 13/30 [02:27<03:13, 11.40s/it]"
     ]
    },
    {
     "name": "stdout",
     "output_type": "stream",
     "text": [
      "--Evaluation:\n",
      "-loss: 2.9966869354248047  UAS: 0.6237675067930277  LAS: 0.5088315219492969 \n",
      "\n",
      "--Best Evaluation: \n",
      "-loss: 2.9966869354248047  UAS: 0.6237675067930277  LAS: 0.5088315219492969 \n",
      "\n"
     ]
    },
    {
     "name": "stderr",
     "output_type": "stream",
     "text": [
      " 47%|████▋     | 14/30 [02:39<03:01, 11.33s/it]"
     ]
    },
    {
     "name": "stdout",
     "output_type": "stream",
     "text": [
      "--Evaluation:\n",
      "-loss: 2.916478395462036  UAS: 0.6672833203417562  LAS: 0.5454064890379732 \n",
      "\n",
      "--Best Evaluation: \n",
      "-loss: 2.916478395462036  UAS: 0.6672833203417562  LAS: 0.5454064890379732 \n",
      "\n"
     ]
    },
    {
     "name": "stderr",
     "output_type": "stream",
     "text": [
      " 50%|█████     | 15/30 [02:51<02:52, 11.50s/it]"
     ]
    },
    {
     "name": "stdout",
     "output_type": "stream",
     "text": [
      "--Evaluation:\n",
      "-loss: 3.0277204513549805  UAS: 0.6407685145662981  LAS: 0.5290551339755877 \n",
      "\n",
      "--Best Evaluation: \n",
      "-loss: 2.916478395462036  UAS: 0.6672833203417562  LAS: 0.5454064890379732 \n",
      "\n",
      "--Evaluation:\n",
      "-loss: 2.913745403289795  UAS: 0.666976983798276  LAS: 0.5591909402774979 \n",
      "\n",
      "--Best Evaluation: \n",
      "-loss: 2.913745403289795  UAS: 0.666976983798276  LAS: 0.5591909402774979 \n",
      "\n"
     ]
    },
    {
     "name": "stderr",
     "output_type": "stream",
     "text": [
      " 53%|█████▎    | 16/30 [03:02<02:39, 11.40s/it]"
     ]
    },
    {
     "name": "stdout",
     "output_type": "stream",
     "text": [
      "--Evaluation:\n",
      "-loss: 2.8823962211608887  UAS: 0.6889108965331208  LAS: 0.5749471645945412 \n",
      "\n",
      "--Best Evaluation: \n",
      "-loss: 2.8823962211608887  UAS: 0.6889108965331208  LAS: 0.5749471645945412 \n",
      "\n"
     ]
    },
    {
     "name": "stderr",
     "output_type": "stream",
     "text": [
      " 57%|█████▋    | 17/30 [03:13<02:27, 11.33s/it]"
     ]
    },
    {
     "name": "stdout",
     "output_type": "stream",
     "text": [
      "--Evaluation:\n",
      "-loss: 3.1718201637268066  UAS: 0.6567635185024294  LAS: 0.5478470766317038 \n",
      "\n",
      "--Best Evaluation: \n",
      "-loss: 2.8823962211608887  UAS: 0.6889108965331208  LAS: 0.5749471645945412 \n",
      "\n"
     ]
    },
    {
     "name": "stderr",
     "output_type": "stream",
     "text": [
      " 60%|██████    | 18/30 [03:25<02:18, 11.51s/it]"
     ]
    },
    {
     "name": "stdout",
     "output_type": "stream",
     "text": [
      "--Evaluation:\n",
      "-loss: 3.1069211959838867  UAS: 0.6764945013597974  LAS: 0.5550836631418481 \n",
      "\n",
      "--Best Evaluation: \n",
      "-loss: 2.8823962211608887  UAS: 0.6889108965331208  LAS: 0.5749471645945412 \n",
      "\n",
      "--Evaluation:\n",
      "-loss: 3.190096616744995  UAS: 0.6819459055182369  LAS: 0.5577603847026762 \n",
      "\n",
      "--Best Evaluation: \n",
      "-loss: 2.8823962211608887  UAS: 0.6889108965331208  LAS: 0.5749471645945412 \n",
      "\n"
     ]
    },
    {
     "name": "stderr",
     "output_type": "stream",
     "text": [
      " 63%|██████▎   | 19/30 [03:36<02:05, 11.40s/it]"
     ]
    },
    {
     "name": "stdout",
     "output_type": "stream",
     "text": [
      "--Evaluation:\n",
      "-loss: 3.1591219902038574  UAS: 0.6830018953881235  LAS: 0.5615565008592693 \n",
      "\n",
      "--Best Evaluation: \n",
      "-loss: 2.8823962211608887  UAS: 0.6889108965331208  LAS: 0.5749471645945412 \n",
      "\n"
     ]
    },
    {
     "name": "stderr",
     "output_type": "stream",
     "text": [
      " 67%|██████▋   | 20/30 [03:47<01:53, 11.34s/it]"
     ]
    },
    {
     "name": "stdout",
     "output_type": "stream",
     "text": [
      "--Evaluation:\n",
      "-loss: 3.296130895614624  UAS: 0.688365580375629  LAS: 0.5798421111650134 \n",
      "\n",
      "--Best Evaluation: \n",
      "-loss: 3.296130895614624  UAS: 0.688365580375629  LAS: 0.5798421111650134 \n",
      "\n"
     ]
    },
    {
     "name": "stderr",
     "output_type": "stream",
     "text": [
      " 70%|███████   | 21/30 [03:59<01:43, 11.50s/it]"
     ]
    },
    {
     "name": "stdout",
     "output_type": "stream",
     "text": [
      "--Evaluation:\n",
      "-loss: 3.2786526679992676  UAS: 0.6899198291153212  LAS: 0.5772904407371535 \n",
      "\n",
      "--Best Evaluation: \n",
      "-loss: 3.296130895614624  UAS: 0.688365580375629  LAS: 0.5798421111650134 \n",
      "\n",
      "--Evaluation:\n",
      "-loss: 3.3262925148010254  UAS: 0.6923846792344099  LAS: 0.5804535257681327 \n",
      "\n",
      "--Best Evaluation: \n",
      "-loss: 3.3262925148010254  UAS: 0.6923846792344099  LAS: 0.5804535257681327 \n",
      "\n"
     ]
    },
    {
     "name": "stderr",
     "output_type": "stream",
     "text": [
      " 73%|███████▎  | 22/30 [04:10<01:31, 11.41s/it]"
     ]
    },
    {
     "name": "stdout",
     "output_type": "stream",
     "text": [
      "--Evaluation:\n",
      "-loss: 3.3750576972961426  UAS: 0.6998137476648666  LAS: 0.5862947332897301 \n",
      "\n",
      "--Best Evaluation: \n",
      "-loss: 3.3750576972961426  UAS: 0.6998137476648666  LAS: 0.5862947332897301 \n",
      "\n"
     ]
    },
    {
     "name": "stderr",
     "output_type": "stream",
     "text": [
      " 77%|███████▋  | 23/30 [04:21<01:19, 11.32s/it]"
     ]
    },
    {
     "name": "stdout",
     "output_type": "stream",
     "text": [
      "--Evaluation:\n",
      "-loss: 3.410722494125366  UAS: 0.684790974376389  LAS: 0.5756877283893401 \n",
      "\n",
      "--Best Evaluation: \n",
      "-loss: 3.3750576972961426  UAS: 0.6998137476648666  LAS: 0.5862947332897301 \n",
      "\n"
     ]
    },
    {
     "name": "stderr",
     "output_type": "stream",
     "text": [
      " 80%|████████  | 24/30 [04:33<01:08, 11.48s/it]"
     ]
    },
    {
     "name": "stdout",
     "output_type": "stream",
     "text": [
      "--Evaluation:\n",
      "-loss: 3.413269519805908  UAS: 0.6912649911487984  LAS: 0.5855343171939629 \n",
      "\n",
      "--Best Evaluation: \n",
      "-loss: 3.3750576972961426  UAS: 0.6998137476648666  LAS: 0.5862947332897301 \n",
      "\n",
      "--Evaluation:\n",
      "-loss: 3.4641880989074707  UAS: 0.7002526625470588  LAS: 0.5966465125367684 \n",
      "\n",
      "--Best Evaluation: \n",
      "-loss: 3.4641880989074707  UAS: 0.7002526625470588  LAS: 0.5966465125367684 \n",
      "\n"
     ]
    },
    {
     "name": "stderr",
     "output_type": "stream",
     "text": [
      " 83%|████████▎ | 25/30 [04:44<00:56, 11.38s/it]"
     ]
    },
    {
     "name": "stdout",
     "output_type": "stream",
     "text": [
      "--Evaluation:\n",
      "-loss: 3.5556862354278564  UAS: 0.7038430753630631  LAS: 0.5889287883733048 \n",
      "\n",
      "--Best Evaluation: \n",
      "-loss: 3.4641880989074707  UAS: 0.7002526625470588  LAS: 0.5966465125367684 \n",
      "\n"
     ]
    },
    {
     "name": "stderr",
     "output_type": "stream",
     "text": [
      " 87%|████████▋ | 26/30 [04:56<00:45, 11.32s/it]"
     ]
    },
    {
     "name": "stdout",
     "output_type": "stream",
     "text": [
      "--Evaluation:\n",
      "-loss: 3.525531768798828  UAS: 0.7022213736041978  LAS: 0.5879602702715545 \n",
      "\n",
      "--Best Evaluation: \n",
      "-loss: 3.4641880989074707  UAS: 0.7002526625470588  LAS: 0.5966465125367684 \n",
      "\n"
     ]
    },
    {
     "name": "stderr",
     "output_type": "stream",
     "text": [
      " 90%|█████████ | 27/30 [05:07<00:34, 11.48s/it]"
     ]
    },
    {
     "name": "stdout",
     "output_type": "stream",
     "text": [
      "--Evaluation:\n",
      "-loss: 3.520514726638794  UAS: 0.7118414233340481  LAS: 0.5979324867428811 \n",
      "\n",
      "--Best Evaluation: \n",
      "-loss: 3.520514726638794  UAS: 0.7118414233340481  LAS: 0.5979324867428811 \n",
      "\n",
      "--Evaluation:\n",
      "-loss: 3.5702531337738037  UAS: 0.708996053363937  LAS: 0.5940504129303517 \n",
      "\n",
      "--Best Evaluation: \n",
      "-loss: 3.520514726638794  UAS: 0.7118414233340481  LAS: 0.5979324867428811 \n",
      "\n"
     ]
    },
    {
     "name": "stderr",
     "output_type": "stream",
     "text": [
      " 93%|█████████▎| 28/30 [05:19<00:22, 11.38s/it]"
     ]
    },
    {
     "name": "stdout",
     "output_type": "stream",
     "text": [
      "--Evaluation:\n",
      "-loss: 3.538168430328369  UAS: 0.7113252481530596  LAS: 0.5965681446727171 \n",
      "\n",
      "--Best Evaluation: \n",
      "-loss: 3.520514726638794  UAS: 0.7118414233340481  LAS: 0.5979324867428811 \n",
      "\n"
     ]
    },
    {
     "name": "stderr",
     "output_type": "stream",
     "text": [
      " 97%|█████████▋| 29/30 [05:30<00:11, 11.31s/it]"
     ]
    },
    {
     "name": "stdout",
     "output_type": "stream",
     "text": [
      "--Evaluation:\n",
      "-loss: 3.583054304122925  UAS: 0.7120807900576698  LAS: 0.5963032784140622 \n",
      "\n",
      "--Best Evaluation: \n",
      "-loss: 3.520514726638794  UAS: 0.7118414233340481  LAS: 0.5979324867428811 \n",
      "\n"
     ]
    },
    {
     "name": "stderr",
     "output_type": "stream",
     "text": [
      "100%|██████████| 30/30 [05:42<00:00, 11.40s/it]"
     ]
    },
    {
     "name": "stdout",
     "output_type": "stream",
     "text": [
      "--Evaluation:\n",
      "-loss: 3.5821754932403564  UAS: 0.7116534396303194  LAS: 0.5958759279867117 \n",
      "\n",
      "--Best Evaluation: \n",
      "-loss: 3.520514726638794  UAS: 0.7118414233340481  LAS: 0.5979324867428811 \n",
      "\n",
      "--training finished.\n",
      "[3.520514726638794, 0.7118414233340481, 0.5979324867428811]\n"
     ]
    },
    {
     "name": "stderr",
     "output_type": "stream",
     "text": [
      "\n"
     ]
    },
    {
     "name": "stdout",
     "output_type": "stream",
     "text": [
      "FOLD 3\n",
      "160/40\n",
      "--------------------------------\n"
     ]
    },
    {
     "name": "stderr",
     "output_type": "stream",
     "text": [
      "Some weights of the model checkpoint at hfl/chinese-electra-180g-large-discriminator were not used when initializing ElectraModel: ['discriminator_predictions.dense_prediction.weight', 'discriminator_predictions.dense.bias', 'discriminator_predictions.dense_prediction.bias', 'discriminator_predictions.dense.weight']\n",
      "- This IS expected if you are initializing ElectraModel from the checkpoint of a model trained on another task or with another architecture (e.g. initializing a BertForSequenceClassification model from a BertForPreTraining model).\n",
      "- This IS NOT expected if you are initializing ElectraModel from the checkpoint of a model that you expect to be exactly identical (initializing a BertForSequenceClassification model from a BertForSequenceClassification model).\n",
      "  0%|          | 0/30 [00:00<?, ?it/s]"
     ]
    },
    {
     "name": "stdout",
     "output_type": "stream",
     "text": [
      "--epoch 0, step 0, loss 14.71179485321045\n",
      "  {'UAS': 0.0, 'LAS': 0.0}\n",
      "--Evaluation:\n",
      "-loss: 9.100911140441895  UAS: 0.0021527777777777778  LAS: 0.0 \n",
      "\n",
      "--Best Evaluation: \n",
      "-loss: 0  UAS: 0  LAS: 0 \n",
      "\n"
     ]
    },
    {
     "name": "stderr",
     "output_type": "stream",
     "text": [
      "  3%|▎         | 1/30 [00:11<05:23, 11.16s/it]"
     ]
    },
    {
     "name": "stdout",
     "output_type": "stream",
     "text": [
      "--Evaluation:\n",
      "-loss: 7.549331188201904  UAS: 0.015232050139749542  LAS: 0.005628832682256789 \n",
      "\n",
      "--Best Evaluation: \n",
      "-loss: 7.549331188201904  UAS: 0.015232050139749542  LAS: 0.005628832682256789 \n",
      "\n"
     ]
    },
    {
     "name": "stderr",
     "output_type": "stream",
     "text": [
      "  7%|▋         | 2/30 [00:22<05:12, 11.15s/it]"
     ]
    },
    {
     "name": "stdout",
     "output_type": "stream",
     "text": [
      "--Evaluation:\n",
      "-loss: 7.788130283355713  UAS: 0.010831175193099948  LAS: 0.0027640036730945824 \n",
      "\n",
      "--Best Evaluation: \n",
      "-loss: 7.549331188201904  UAS: 0.015232050139749542  LAS: 0.005628832682256789 \n",
      "\n"
     ]
    },
    {
     "name": "stderr",
     "output_type": "stream",
     "text": [
      " 10%|█         | 3/30 [00:34<05:09, 11.47s/it]"
     ]
    },
    {
     "name": "stdout",
     "output_type": "stream",
     "text": [
      "--Evaluation:\n",
      "-loss: 6.635403633117676  UAS: 0.03374759157492426  LAS: 0.015850304677553984 \n",
      "\n",
      "--Best Evaluation: \n",
      "-loss: 6.635403633117676  UAS: 0.03374759157492426  LAS: 0.015850304677553984 \n",
      "\n",
      "--Evaluation:\n",
      "-loss: 6.091067790985107  UAS: 0.050003148759864266  LAS: 0.03575394428678255 \n",
      "\n",
      "--Best Evaluation: \n",
      "-loss: 6.091067790985107  UAS: 0.050003148759864266  LAS: 0.03575394428678255 \n",
      "\n"
     ]
    },
    {
     "name": "stderr",
     "output_type": "stream",
     "text": [
      " 13%|█▎        | 4/30 [00:45<04:54, 11.34s/it]"
     ]
    },
    {
     "name": "stdout",
     "output_type": "stream",
     "text": [
      "--Evaluation:\n",
      "-loss: 5.639241695404053  UAS: 0.08388768784274286  LAS: 0.04611867523408851 \n",
      "\n",
      "--Best Evaluation: \n",
      "-loss: 5.639241695404053  UAS: 0.08388768784274286  LAS: 0.04611867523408851 \n",
      "\n"
     ]
    },
    {
     "name": "stderr",
     "output_type": "stream",
     "text": [
      " 17%|█▋        | 5/30 [00:56<04:41, 11.26s/it]"
     ]
    },
    {
     "name": "stdout",
     "output_type": "stream",
     "text": [
      "--Evaluation:\n",
      "-loss: 4.8495612144470215  UAS: 0.17930304929196356  LAS: 0.11656831018942326 \n",
      "\n",
      "--Best Evaluation: \n",
      "-loss: 4.8495612144470215  UAS: 0.17930304929196356  LAS: 0.11656831018942326 \n",
      "\n"
     ]
    },
    {
     "name": "stderr",
     "output_type": "stream",
     "text": [
      " 20%|██        | 6/30 [01:08<04:35, 11.47s/it]"
     ]
    },
    {
     "name": "stdout",
     "output_type": "stream",
     "text": [
      "--Evaluation:\n",
      "-loss: 4.420243263244629  UAS: 0.2450870852067733  LAS: 0.14772015085699838 \n",
      "\n",
      "--Best Evaluation: \n",
      "-loss: 4.420243263244629  UAS: 0.2450870852067733  LAS: 0.14772015085699838 \n",
      "\n",
      "--Evaluation:\n",
      "-loss: 4.2650227546691895  UAS: 0.27707497577283297  LAS: 0.1853599092062494 \n",
      "\n",
      "--Best Evaluation: \n",
      "-loss: 4.2650227546691895  UAS: 0.27707497577283297  LAS: 0.1853599092062494 \n",
      "\n"
     ]
    },
    {
     "name": "stderr",
     "output_type": "stream",
     "text": [
      " 23%|██▎       | 7/30 [01:19<04:21, 11.37s/it]"
     ]
    },
    {
     "name": "stdout",
     "output_type": "stream",
     "text": [
      "--Evaluation:\n",
      "-loss: 3.903627872467041  UAS: 0.3479518628111582  LAS: 0.24076258545834733 \n",
      "\n",
      "--Best Evaluation: \n",
      "-loss: 3.903627872467041  UAS: 0.3479518628111582  LAS: 0.24076258545834733 \n",
      "\n"
     ]
    },
    {
     "name": "stderr",
     "output_type": "stream",
     "text": [
      " 27%|██▋       | 8/30 [01:30<04:08, 11.31s/it]"
     ]
    },
    {
     "name": "stdout",
     "output_type": "stream",
     "text": [
      "--Evaluation:\n",
      "-loss: 3.856147050857544  UAS: 0.40421908693082687  LAS: 0.3033233525834895 \n",
      "\n",
      "--Best Evaluation: \n",
      "-loss: 3.856147050857544  UAS: 0.40421908693082687  LAS: 0.3033233525834895 \n",
      "\n"
     ]
    },
    {
     "name": "stderr",
     "output_type": "stream",
     "text": [
      " 30%|███       | 9/30 [01:42<04:01, 11.50s/it]"
     ]
    },
    {
     "name": "stdout",
     "output_type": "stream",
     "text": [
      "--Evaluation:\n",
      "-loss: 3.4778900146484375  UAS: 0.44882411931000477  LAS: 0.33622292447988916 \n",
      "\n",
      "--Best Evaluation: \n",
      "-loss: 3.4778900146484375  UAS: 0.44882411931000477  LAS: 0.33622292447988916 \n",
      "\n",
      "--Evaluation:\n",
      "-loss: 3.3942792415618896  UAS: 0.502438839923465  LAS: 0.3866880975976771 \n",
      "\n",
      "--Best Evaluation: \n",
      "-loss: 3.3942792415618896  UAS: 0.502438839923465  LAS: 0.3866880975976771 \n",
      "\n"
     ]
    },
    {
     "name": "stderr",
     "output_type": "stream",
     "text": [
      " 33%|███▎      | 10/30 [01:53<03:47, 11.40s/it]"
     ]
    },
    {
     "name": "stdout",
     "output_type": "stream",
     "text": [
      "--Evaluation:\n",
      "-loss: 3.2812390327453613  UAS: 0.5303830460561776  LAS: 0.41767265354451216 \n",
      "\n",
      "--Best Evaluation: \n",
      "-loss: 3.2812390327453613  UAS: 0.5303830460561776  LAS: 0.41767265354451216 \n",
      "\n"
     ]
    },
    {
     "name": "stderr",
     "output_type": "stream",
     "text": [
      " 37%|███▋      | 11/30 [02:04<03:35, 11.33s/it]"
     ]
    },
    {
     "name": "stdout",
     "output_type": "stream",
     "text": [
      "--Evaluation:\n",
      "-loss: 3.248544692993164  UAS: 0.5402743382271818  LAS: 0.4228520454132873 \n",
      "\n",
      "--Best Evaluation: \n",
      "-loss: 3.248544692993164  UAS: 0.5402743382271818  LAS: 0.4228520454132873 \n",
      "\n"
     ]
    },
    {
     "name": "stderr",
     "output_type": "stream",
     "text": [
      " 40%|████      | 12/30 [02:16<03:26, 11.50s/it]"
     ]
    },
    {
     "name": "stdout",
     "output_type": "stream",
     "text": [
      "--Evaluation:\n",
      "-loss: 3.3177764415740967  UAS: 0.5523887283235553  LAS: 0.44693705355303787 \n",
      "\n",
      "--Best Evaluation: \n",
      "-loss: 3.3177764415740967  UAS: 0.5523887283235553  LAS: 0.44693705355303787 \n",
      "\n",
      "--Evaluation:\n",
      "-loss: 3.2159554958343506  UAS: 0.5849936874975026  LAS: 0.47858194932450226 \n",
      "\n",
      "--Best Evaluation: \n",
      "-loss: 3.2159554958343506  UAS: 0.5849936874975026  LAS: 0.47858194932450226 \n",
      "\n"
     ]
    },
    {
     "name": "stderr",
     "output_type": "stream",
     "text": [
      " 43%|████▎     | 13/30 [02:27<03:13, 11.40s/it]"
     ]
    },
    {
     "name": "stdout",
     "output_type": "stream",
     "text": [
      "--Evaluation:\n",
      "-loss: 3.3567912578582764  UAS: 0.5777035990484622  LAS: 0.47962008896739006 \n",
      "\n",
      "--Best Evaluation: \n",
      "-loss: 3.3567912578582764  UAS: 0.5777035990484622  LAS: 0.47962008896739006 \n",
      "\n"
     ]
    },
    {
     "name": "stderr",
     "output_type": "stream",
     "text": [
      " 47%|████▋     | 14/30 [02:39<03:01, 11.33s/it]"
     ]
    },
    {
     "name": "stdout",
     "output_type": "stream",
     "text": [
      "--Evaluation:\n",
      "-loss: 3.2534000873565674  UAS: 0.5920171161613659  LAS: 0.4868162715742893 \n",
      "\n",
      "--Best Evaluation: \n",
      "-loss: 3.2534000873565674  UAS: 0.5920171161613659  LAS: 0.4868162715742893 \n",
      "\n"
     ]
    },
    {
     "name": "stderr",
     "output_type": "stream",
     "text": [
      " 50%|█████     | 15/30 [02:51<02:52, 11.50s/it]"
     ]
    },
    {
     "name": "stdout",
     "output_type": "stream",
     "text": [
      "--Evaluation:\n",
      "-loss: 3.305962085723877  UAS: 0.6086582437228103  LAS: 0.49687698004728525 \n",
      "\n",
      "--Best Evaluation: \n",
      "-loss: 3.305962085723877  UAS: 0.6086582437228103  LAS: 0.49687698004728525 \n",
      "\n",
      "--Evaluation:\n",
      "-loss: 3.3987081050872803  UAS: 0.6083432377376121  LAS: 0.5079892202591555 \n",
      "\n",
      "--Best Evaluation: \n",
      "-loss: 3.3987081050872803  UAS: 0.6083432377376121  LAS: 0.5079892202591555 \n",
      "\n"
     ]
    },
    {
     "name": "stderr",
     "output_type": "stream",
     "text": [
      " 53%|█████▎    | 16/30 [03:02<02:39, 11.40s/it]"
     ]
    },
    {
     "name": "stdout",
     "output_type": "stream",
     "text": [
      "--Evaluation:\n",
      "-loss: 3.2910892963409424  UAS: 0.6281974231241065  LAS: 0.5247692785294907 \n",
      "\n",
      "--Best Evaluation: \n",
      "-loss: 3.2910892963409424  UAS: 0.6281974231241065  LAS: 0.5247692785294907 \n",
      "\n"
     ]
    }
   ],
   "source": [
    "for fold, (train_ids, val_ids) in enumerate(kfold.split(dataset)):\n",
    "    if fold not in CFG.trn_folds:\n",
    "        continue\n",
    "    print(f'FOLD {fold}')\n",
    "    print(f'{len(train_ids)}/{len(val_ids)}')\n",
    "    print('--------------------------------')\n",
    "\n",
    "    if CFG.cuda and torch.cuda.is_available:\n",
    "        torch.cuda.empty_cache()\n",
    "\n",
    "    random.shuffle(train_ids)\n",
    "    random.shuffle(val_ids)\n",
    "\n",
    "    tr_dataset = Subset(dataset, train_ids)\n",
    "    va_dataset = Subset(dataset, val_ids)\n",
    "    \n",
    "    tr_iter = DataLoader(tr_dataset, batch_size=CFG.batch_size)\n",
    "    va_iter = DataLoader(va_dataset, batch_size=CFG.batch_size)\n",
    "    \n",
    "    model = DepParser(CFG)\n",
    "    \n",
    "    optim = AdamW(model.parameters(), \n",
    "                      lr=CFG.lr,\n",
    "                      weight_decay=CFG.weight_decay\n",
    "                      )\n",
    "\n",
    "    training_step = int(CFG.num_epochs * (len(train_ids) / CFG.batch_size))\n",
    "    warmup_step = int(CFG.warmup_ratio * training_step)  \n",
    "    lr_scheduler = get_linear_schedule_with_warmup(optimizer=optim, \n",
    "                                                        num_warmup_steps=warmup_step, \n",
    "                                                        num_training_steps=training_step)\n",
    "\n",
    "    trainer = BasicTrainer(optim=optim, \n",
    "                        lr_scheduler=lr_scheduler,\n",
    "                        trainset_size=len(train_ids), \n",
    "                        loss_fn=arc_rel_loss, \n",
    "                        metrics_fn=uas_las, \n",
    "                        config=CFG)\n",
    "    \n",
    "    best_res, best_state_dict = trainer.train(model=model, train_iter=tr_iter, val_iter=va_iter)\n",
    "    print(best_res)\n",
    "    with open(\"/root/autodl-tmp/diag_dep/k-fold/res.txt\", 'a+') as f:\n",
    "        f.write(f'{fold}\\t {str(best_res)}\\n')\n",
    "    \n",
    "    torch.save(best_state_dict, f\"/root/autodl-tmp/diag_dep/k-fold/{fold}/model.bin\")"
   ]
  },
  {
   "cell_type": "code",
   "execution_count": null,
   "id": "c396a148-e2cf-4862-9d12-4cb96396bcc1",
   "metadata": {},
   "outputs": [],
   "source": [
    "os.system('shutdown')"
   ]
  }
 ],
 "metadata": {
  "kernelspec": {
   "display_name": "Python 3.8.5 ('jgy')",
   "language": "python",
   "name": "python3"
  },
  "language_info": {
   "codemirror_mode": {
    "name": "ipython",
    "version": 3
   },
   "file_extension": ".py",
   "mimetype": "text/x-python",
   "name": "python",
   "nbconvert_exporter": "python",
   "pygments_lexer": "ipython3",
   "version": "3.8.5"
  },
  "vscode": {
   "interpreter": {
    "hash": "f5970cc3159b15dedb1f3a2bddfb758e67a1721376b7397fa1f3df8941c2f173"
   }
  }
 },
 "nbformat": 4,
 "nbformat_minor": 5
}
