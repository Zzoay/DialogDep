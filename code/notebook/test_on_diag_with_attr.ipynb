{
 "cells": [
  {
   "cell_type": "code",
   "execution_count": 1,
   "id": "dc187cbf",
   "metadata": {},
   "outputs": [],
   "source": [
    "from typing import *\n",
    "import random\n",
    "import json"
   ]
  },
  {
   "cell_type": "code",
   "execution_count": 2,
   "id": "d69401ca",
   "metadata": {},
   "outputs": [],
   "source": [
    "from tqdm import tqdm\n",
    "import numpy as np\n",
    "import pandas as pd\n",
    "\n",
    "import torch\n",
    "from torch.utils.data import Dataset, DataLoader"
   ]
  },
  {
   "cell_type": "code",
   "execution_count": 3,
   "id": "c613983d",
   "metadata": {},
   "outputs": [],
   "source": [
    "from transformers import AutoTokenizer\n",
    "from torch.utils.data import Dataset, DataLoader"
   ]
  },
  {
   "cell_type": "code",
   "execution_count": 4,
   "id": "4cf58dab",
   "metadata": {},
   "outputs": [],
   "source": [
    "import sys\n",
    "sys.path.append('..')"
   ]
  },
  {
   "cell_type": "code",
   "execution_count": 5,
   "id": "da0af34f",
   "metadata": {},
   "outputs": [],
   "source": [
    "from model.par_with_attr import ParWithAttr\n",
    "from model.base_par import DepParser\n",
    "from utils import uas_las, to_cuda"
   ]
  },
  {
   "cell_type": "markdown",
   "id": "746b6ba4",
   "metadata": {},
   "source": [
    "# Config"
   ]
  },
  {
   "cell_type": "code",
   "execution_count": 6,
   "id": "cff15ca3",
   "metadata": {},
   "outputs": [],
   "source": [
    "class CFG:\n",
    "    plm = 'hfl/chinese-electra-180g-base-discriminator'\n",
    "    data_file = '../data_testset/1to800_1108.json'\n",
    "    random_seed = 42\n",
    "    num_epochs = 15\n",
    "    batch_size = 128\n",
    "    lr = 2e-5\n",
    "    weight_decay = 0.01\n",
    "    dropout = 0.2\n",
    "    grad_clip = 2\n",
    "    scheduler = 'linear'\n",
    "    warmup_ratio = 0.1\n",
    "    num_early_stop = 3\n",
    "    max_length = 160\n",
    "    hidden_size = 400\n",
    "    num_labels = 21\n",
    "    gamma = 0.7\n",
    "    alpha = 0.7\n",
    "    print_every = 400\n",
    "    eval_every = 800\n",
    "    cuda = True\n",
    "    fp16 = True"
   ]
  },
  {
   "cell_type": "markdown",
   "id": "17ced03d",
   "metadata": {},
   "source": [
    "# Count"
   ]
  },
  {
   "cell_type": "code",
   "execution_count": 7,
   "id": "ae03c1b7",
   "metadata": {},
   "outputs": [],
   "source": [
    "rel_dct = {\n",
    "    'root': '根节点',\n",
    "    'sasubj-obj': '同主同宾',\n",
    "    'sasubj': '同主语',\n",
    "    'dfsubj': '不同主语',\n",
    "    'subj': '主语',\n",
    "    'subj-in': '内部主语',\n",
    "    'obj': '宾语',\n",
    "    'pred': '谓语',\n",
    "    'att': '定语',\n",
    "    'adv': '状语',\n",
    "    'cmp': '补语',\n",
    "    'coo': '并列',\n",
    "    'pobj': '介宾',\n",
    "    'iobj': '间宾',\n",
    "    'de': '的',\n",
    "    'adjct': '附加',\n",
    "    'app': '称呼',\n",
    "    'exp': '解释',\n",
    "    'punc': '标点',\n",
    "    'frag': '片段',\n",
    "    'repet': '重复',\n",
    "    # rst\n",
    "    'attr': '归属',\n",
    "    'bckg': '背景',\n",
    "    'cause': '因果',\n",
    "    'comp': '比较',\n",
    "    'cond': '状况',\n",
    "    'cont': '对比',\n",
    "    'elbr': '阐述',\n",
    "    'enbm': '目的',\n",
    "    'eval': '评价',\n",
    "    'expl': '解释-例证',\n",
    "    'joint': '联合',\n",
    "    'manner': '方式',\n",
    "    'rstm': '重申',\n",
    "    'temp': '时序',\n",
    "    # 'tp-chg': '主题变更',\n",
    "    # 'prob-sol': '问题-解决',\n",
    "    # 'qst-ans': '疑问-回答',\n",
    "    # 'stm-rsp': '陈述-回应',\n",
    "    # 'req-proc': '需求-处理',\n",
    "}"
   ]
  },
  {
   "cell_type": "code",
   "execution_count": 8,
   "id": "77dbbfdb",
   "metadata": {},
   "outputs": [
    {
     "name": "stdout",
     "output_type": "stream",
     "text": [
      "{'root': 0, 'sasubj-obj': 1, 'sasubj': 2, 'dfsubj': 3, 'subj': 4, 'subj-in': 5, 'obj': 6, 'pred': 7, 'att': 8, 'adv': 9, 'cmp': 10, 'coo': 11, 'pobj': 12, 'iobj': 13, 'de': 14, 'adjct': 15, 'app': 16, 'exp': 17, 'punc': 18, 'frag': 19, 'repet': 20, 'attr': 21, 'bckg': 22, 'cause': 23, 'comp': 24, 'cond': 25, 'cont': 26, 'elbr': 27, 'enbm': 28, 'eval': 29, 'expl': 30, 'joint': 31, 'manner': 32, 'rstm': 33, 'temp': 34}\n",
      "35\n"
     ]
    }
   ],
   "source": [
    "rel2id = {}\n",
    "for i, (key, value) in enumerate(rel_dct.items()):\n",
    "    rel2id[key] = i\n",
    "print(rel2id)\n",
    "print(len(rel2id))"
   ]
  },
  {
   "cell_type": "markdown",
   "id": "ae77b7b2",
   "metadata": {},
   "source": [
    "# Seed & Device"
   ]
  },
  {
   "cell_type": "code",
   "execution_count": 9,
   "id": "2c579a14",
   "metadata": {},
   "outputs": [],
   "source": [
    "def seed_everything(seed=CFG.random_seed):\n",
    "    np.random.seed(seed%(2**32-1))\n",
    "    random.seed(seed)\n",
    "    torch.manual_seed(seed)\n",
    "    torch.cuda.manual_seed(seed)\n",
    "    torch.backends.cudnn.deterministic =True\n",
    "    torch.backends.cudnn.benchmark = False\n",
    "\n",
    "seed_everything()"
   ]
  },
  {
   "cell_type": "code",
   "execution_count": 10,
   "id": "636d4a15",
   "metadata": {},
   "outputs": [
    {
     "name": "stdout",
     "output_type": "stream",
     "text": [
      "Using device: cuda\n"
     ]
    }
   ],
   "source": [
    "if torch.cuda.is_available():\n",
    "    device = torch.device('cuda')\n",
    "else:\n",
    "    device = torch.device('cpu')\n",
    "\n",
    "print(f'Using device: {device}')"
   ]
  },
  {
   "cell_type": "markdown",
   "id": "5a633a3d",
   "metadata": {},
   "source": [
    "# Data"
   ]
  },
  {
   "cell_type": "code",
   "execution_count": 11,
   "id": "fc634b85",
   "metadata": {},
   "outputs": [],
   "source": [
    "class Dependency():\n",
    "    def __init__(self, idx, word, head, rel):\n",
    "        self.id = idx\n",
    "        self.word = word\n",
    "        self.head = head\n",
    "        self.rel = rel\n",
    "\n",
    "    def __str__(self):\n",
    "        # example:  1\t上海\t_\tNR\tNR\t_\t2\tnn\t_\t_\n",
    "        values = [str(self.idx), self.word, \"_\", \"_\", \"_\", \"_\", str(self.head), self.rel, \"_\", \"_\"]\n",
    "        return '\\t'.join(values)\n",
    "\n",
    "    def __repr__(self):\n",
    "        return f\"({self.word}, {self.head}, {self.rel})\""
   ]
  },
  {
   "cell_type": "code",
   "execution_count": 12,
   "id": "7482312d",
   "metadata": {},
   "outputs": [],
   "source": [
    "tokenizer = AutoTokenizer.from_pretrained(CFG.plm)\n",
    "CFG.tokenizer = tokenizer"
   ]
  },
  {
   "cell_type": "code",
   "execution_count": 13,
   "id": "542a3306",
   "metadata": {},
   "outputs": [],
   "source": [
    "def load_annoted(data_file):\n",
    "    with open(CFG.data_file, 'r', encoding='utf-8') as f:\n",
    "        data = json.load(f)\n",
    "        \n",
    "    sample_lst:List[List[Dependency]] = []\n",
    "    \n",
    "    for d in data:\n",
    "        rel_dct = {}\n",
    "        for tripple in d['relationship']:\n",
    "            head, rel, tail = tripple\n",
    "            head_uttr_idx, head_word_idx = [int(x) for x in head.split('-')]\n",
    "            tail_uttr_idx, tail_word_idx = [int(x) for x in tail.split('-')]\n",
    "            if head_uttr_idx != tail_uttr_idx:\n",
    "                continue\n",
    "            \n",
    "            if not rel_dct.get(head_uttr_idx, None):\n",
    "                rel_dct[head_uttr_idx] = {tail_word_idx: [head_word_idx, rel]}\n",
    "            else:\n",
    "                rel_dct[head_uttr_idx][tail_word_idx] = [head_word_idx, rel]\n",
    "            \n",
    "        for item in d['dialog']:\n",
    "            turn = item['turn']\n",
    "            utterance = item['utterance']\n",
    "            # dep_lst:List[Dependency] = [Dependency(0, '[root]', -1, '_')]\n",
    "            dep_lst:List[Dependency] = []\n",
    "            \n",
    "            for word_idx, word in enumerate(utterance.split(' ')):\n",
    "                head_word_idx, rel = rel_dct[turn].get(word_idx + 1, [word_idx, 'adjct'])  # some word annoted missed, padded with last word and 'adjct'\n",
    "                dep_lst.append(Dependency(word_idx + 1, word, head_word_idx, rel))  # start from 1\n",
    "            \n",
    "            sample_lst.append(dep_lst)\n",
    "        \n",
    "    return sample_lst"
   ]
  },
  {
   "cell_type": "code",
   "execution_count": 14,
   "id": "d846a87a",
   "metadata": {},
   "outputs": [],
   "source": [
    "class DialogDataset(Dataset):\n",
    "    def __init__(self, cfg):\n",
    "        self.cfg = cfg\n",
    "        self.inputs, self.offsets, self.heads, self.rels, self.masks = self.read_data()\n",
    "        \n",
    "    def read_data(self):\n",
    "        inputs, offsets = [], []\n",
    "        tags, heads, rels, masks = [], [], [], []\n",
    "        \n",
    "        for deps in load_annoted(self.cfg.data_file):\n",
    "            seq_len = len(deps)\n",
    "\n",
    "            word_lst = [] \n",
    "            head_tokens = np.zeros(self.cfg.max_length, dtype=np.int64)  # same as root index is 0, constrainting by mask \n",
    "            rel_tokens = np.zeros(self.cfg.max_length, dtype=np.int64)\n",
    "            mask_tokens = np.zeros(self.cfg.max_length, dtype=np.int64)\n",
    "            for i, dep in enumerate(deps):\n",
    "                if i == seq_len or i + 1== self.cfg.max_length:\n",
    "                    break\n",
    "\n",
    "                word_lst.append(dep.word)\n",
    "\n",
    "                if dep.head != -1 and dep.rel in rel2id.keys() and dep.head + 1 < self.cfg.max_length:\n",
    "                    head_tokens[i+1] = dep.head\n",
    "                    mask_tokens[i+1] = 1\n",
    "                    rel_tokens[i+1] = rel2id[dep.rel]\n",
    "\n",
    "                rel_tokens[i+1] = rel2id.get(dep.rel, rel2id['adjct'])\n",
    "\n",
    "            tokenized = tokenizer.encode_plus(word_lst, \n",
    "                                              padding='max_length', \n",
    "                                              truncation=True,\n",
    "                                              max_length=self.cfg.max_length, \n",
    "                                              return_offsets_mapping=True, \n",
    "                                              return_tensors='pt',\n",
    "                                              is_split_into_words=True)\n",
    "            inputs.append({\"input_ids\": tokenized['input_ids'][0],\n",
    "                           \"token_type_ids\": tokenized['token_type_ids'][0],\n",
    "                           \"attention_mask\": tokenized['attention_mask'][0]\n",
    "                          })\n",
    "\n",
    "            sentence_word_idx = []\n",
    "            for idx, (start, end) in enumerate(tokenized.offset_mapping[0][1:]):\n",
    "                if start == 0 and end != 0:\n",
    "                    sentence_word_idx.append(idx)\n",
    "\n",
    "            if len(sentence_word_idx) < self.cfg.max_length - 1:\n",
    "                sentence_word_idx.extend([0]* (self.cfg.max_length - 1 - len(sentence_word_idx)))\n",
    "            offsets.append(torch.as_tensor(sentence_word_idx))\n",
    "\n",
    "            heads.append(head_tokens)\n",
    "            rels.append(rel_tokens)\n",
    "            masks.append(mask_tokens)\n",
    "                    \n",
    "        return inputs, offsets, heads, rels, masks\n",
    "\n",
    "    def __getitem__(self, idx):\n",
    "        return self.inputs[idx], self.offsets[idx], self.heads[idx], self.rels[idx], self.masks[idx]\n",
    "    \n",
    "    def __len__(self):\n",
    "        return len(self.rels)"
   ]
  },
  {
   "cell_type": "code",
   "execution_count": 15,
   "id": "25622676",
   "metadata": {},
   "outputs": [],
   "source": [
    "val_dataset = DialogDataset(CFG)"
   ]
  },
  {
   "cell_type": "markdown",
   "id": "4354ca7c",
   "metadata": {
    "tags": []
   },
   "source": [
    "# Model"
   ]
  },
  {
   "cell_type": "code",
   "execution_count": 16,
   "id": "a33d2a51",
   "metadata": {},
   "outputs": [
    {
     "name": "stderr",
     "output_type": "stream",
     "text": [
      "Some weights of the model checkpoint at hfl/chinese-electra-180g-base-discriminator were not used when initializing ElectraModel: ['discriminator_predictions.dense_prediction.weight', 'discriminator_predictions.dense.weight', 'discriminator_predictions.dense.bias', 'discriminator_predictions.dense_prediction.bias']\n",
      "- This IS expected if you are initializing ElectraModel from the checkpoint of a model trained on another task or with another architecture (e.g. initializing a BertForSequenceClassification model from a BertForPreTraining model).\n",
      "- This IS NOT expected if you are initializing ElectraModel from the checkpoint of a model that you expect to be exactly identical (initializing a BertForSequenceClassification model from a BertForSequenceClassification model).\n"
     ]
    },
    {
     "name": "stdout",
     "output_type": "stream",
     "text": [
      "<All keys matched successfully>\n"
     ]
    }
   ],
   "source": [
    "# model = ParWithAttr(CFG, attr_tokenized)\n",
    "model = DepParser(CFG)\n",
    "print(model.load_state_dict(torch.load('../results/base_par.pt')))\n",
    "model = model.cuda()"
   ]
  },
  {
   "cell_type": "code",
   "execution_count": 17,
   "id": "4caa7f2f",
   "metadata": {
    "tags": []
   },
   "outputs": [],
   "source": [
    "va_dataloader = DataLoader(val_dataset, batch_size=CFG.batch_size)\n",
    "\n",
    "arc_logits, rel_logits, similarities = torch.Tensor(), torch.Tensor(), torch.Tensor()\n",
    "heads_whole, rels_whole, masks_whole = torch.Tensor(), torch.Tensor(), torch.Tensor()\n",
    "for batch in va_dataloader:\n",
    "    inputs, offsets, heads, rels, masks = batch\n",
    "\n",
    "    inputs_cuda = {}\n",
    "    for key, value in inputs.items():\n",
    "        inputs_cuda[key] = value.cuda()\n",
    "    inputs = inputs_cuda\n",
    "\n",
    "    offsets, heads, rels, masks = to_cuda(data=(offsets, heads, rels, masks))\n",
    "    \n",
    "    with torch.no_grad():\n",
    "        model.eval()\n",
    "        # arc_logit, rel_logit, similarity = model.predict(inputs, offsets, masks)\n",
    "        arc_logit, rel_logit = model(inputs, offsets, heads, rels, masks, evaluate=True)\n",
    "        \n",
    "    arc_logit[:, torch.arange(arc_logit.size()[1]), torch.arange(arc_logit.size()[2])] = -1e4\n",
    "    \n",
    "    arc_logits = torch.cat([arc_logits, arc_logit.cpu()])\n",
    "    rel_logits = torch.cat([rel_logits, rel_logit.cpu()])\n",
    "    # similarities = torch.cat([similarities, similarity.cpu()])\n",
    "    \n",
    "    heads_whole = torch.cat([heads_whole, heads.cpu()])\n",
    "    rels_whole = torch.cat([rels_whole, rels.cpu()])\n",
    "    masks_whole = torch.cat([masks_whole, masks.cpu()])"
   ]
  },
  {
   "cell_type": "code",
   "execution_count": 18,
   "id": "67661f8c",
   "metadata": {},
   "outputs": [
    {
     "data": {
      "text/plain": [
       "{'UAS': 0.8475163106201569, 'LAS': 0.7871081329344984}"
      ]
     },
     "execution_count": 18,
     "metadata": {},
     "output_type": "execute_result"
    }
   ],
   "source": [
    "uas_las(arc_logits=arc_logits,\n",
    "        rel_logits=rel_logits,\n",
    "        arc_gt=heads_whole,\n",
    "        rel_gt=rels_whole,\n",
    "        mask=masks_whole)"
   ]
  },
  {
   "cell_type": "code",
   "execution_count": 19,
   "id": "a1c12efd",
   "metadata": {},
   "outputs": [],
   "source": [
    "# uas_las(arc_logits=arc_logits,\n",
    "#         rel_logits=similarities,\n",
    "#         arc_gt=heads_whole,\n",
    "#         rel_gt=rels_whole,\n",
    "#         mask=masks_whole)"
   ]
  },
  {
   "cell_type": "code",
   "execution_count": 20,
   "id": "45ffe34c",
   "metadata": {},
   "outputs": [],
   "source": [
    "# rel_preds = similarities.argmax(-1)\n",
    "# # rel_preds.masked_fill_(rel_preds == 2, 27)\n",
    "# # rel_preds.masked_fill_(rel_preds == 3, 27)\n",
    "\n",
    "# arc_logits_correct = (arc_logits.argmax(-1) == heads_whole).long() * masks_whole * (rels_whole >= 21).long()\n",
    "# rel_logits_correct = (rel_preds == rels_whole).long() * arc_logits_correct\n",
    "\n",
    "# print(rel_logits_correct.sum() / (rels_whole >= 21).long().sum())\n",
    "# print(arc_logits_correct.sum() / (rels_whole >= 21).long().sum())"
   ]
  },
  {
   "cell_type": "code",
   "execution_count": 41,
   "id": "23403b8b",
   "metadata": {},
   "outputs": [
    {
     "name": "stdout",
     "output_type": "stream",
     "text": [
      "tensor(0.)\n",
      "tensor(0.4783)\n",
      "---------------------------------------------------\n",
      "tensor(0.8365)\n",
      "tensor(0.8707)\n",
      "===================================================\n",
      "tensor(0.)\n",
      "tensor(0.0541)\n",
      "---------------------------------------------------\n",
      "tensor(0.)\n",
      "tensor(0.0003)\n"
     ]
    }
   ],
   "source": [
    "rel_preds = rel_logits.argmax(-1)\n",
    "head_pred = arc_logits.argmax(-1)\n",
    "\n",
    "arc_logits_correct = (head_pred == heads_whole).long() * masks_whole * (rels_whole >= 21).long()\n",
    "rel_logits_correct = (rel_preds == rels_whole).long() * arc_logits_correct\n",
    "\n",
    "print(rel_logits_correct.sum() / (rels_whole >= 21).long().sum())\n",
    "print(arc_logits_correct.sum() / (rels_whole >= 21).long().sum())\n",
    "print('---------------------------------------------------')\n",
    "arc_logits_correct = (head_pred == heads_whole).long() * masks_whole * (rels_whole < 21).long()\n",
    "rel_logits_correct = (rel_preds == rels_whole).long() * arc_logits_correct \n",
    "\n",
    "print(rel_logits_correct.sum() / (masks_whole * (rels_whole < 21).long()).sum())\n",
    "print(arc_logits_correct.sum() / (masks_whole * (rels_whole < 21).long()).sum())\n",
    "\n",
    "print('===================================================')\n",
    "\n",
    "target = 25\n",
    "\n",
    "rel_preds.masked_fill_(rel_preds == 2, target)\n",
    "# rel_preds.masked_fill_(rel_preds == 3, target)\n",
    "# rel_preds.masked_fill_(rel_preds == 6, 27)\n",
    "# rel_preds.masked_fill_(rel_preds == 12, 27)\n",
    "# rel_preds.masked_fill_(rel_preds != 27, 27)\n",
    "\n",
    "arc_logits_correct = (head_pred == heads_whole).long() * masks_whole * (rels_whole == target).long()\n",
    "rel_logits_correct = (rel_preds == rels_whole).long() * arc_logits_correct\n",
    "\n",
    "print(rel_logits_correct.sum() / (rels_whole == target).long().sum())\n",
    "print(arc_logits_correct.sum() / (rels_whole == target).long().sum())\n",
    "print('---------------------------------------------------')\n",
    "\n",
    "arc_logits_correct = (head_pred == heads_whole).long() * masks_whole * (rels_whole == target).long()\n",
    "rel_logits_correct = (rel_preds == rels_whole).long() * arc_logits_correct \n",
    "\n",
    "print(rel_logits_correct.sum() / (masks_whole * (rels_whole < 21).long()).sum())\n",
    "print(arc_logits_correct.sum() / (masks_whole * (rels_whole < 21).long()).sum())"
   ]
  },
  {
   "cell_type": "code",
   "execution_count": 54,
   "id": "6e359f1c",
   "metadata": {},
   "outputs": [
    {
     "name": "stdout",
     "output_type": "stream",
     "text": [
      "{21: tensor(0.), 22: tensor(0.1422), 23: tensor(0.3972), 24: tensor(0.3289), 25: tensor(0.0081), 26: tensor(0.3168), 27: tensor(0.2656), 28: tensor(0.1160), 29: tensor(0.2400), 30: tensor(0.5000), 31: tensor(0.1485), 32: tensor(0.0291), 33: tensor(0.0467), 34: tensor(0.0814), 35: tensor(nan)}\n"
     ]
    }
   ],
   "source": [
    "# matches = {}\n",
    "\n",
    "# for target in range(21, 36):\n",
    "#     rel_preds = rel_logits.argmax(-1)\n",
    "#     head_pred = arc_logits.argmax(-1)\n",
    "\n",
    "#     # rel_preds.masked_fill_(rel_preds == 0, target)\n",
    "#     # rel_preds.masked_fill_(rel_preds == 2, target)\n",
    "#     rel_preds.masked_fill_(rel_preds == 3, target)\n",
    "#     # rel_preds.masked_fill_(rel_preds == 6, target)\n",
    "#     # rel_preds.masked_fill_(rel_preds == 12, 27)\n",
    "#     # rel_preds.masked_fill_(rel_preds != 27, 27)\n",
    "\n",
    "#     arc_logits_correct = (head_pred == heads_whole).long() * masks_whole * (rels_whole == target).long()\n",
    "#     rel_logits_correct = (rel_preds == rels_whole).long() * arc_logits_correct\n",
    "\n",
    "#     matches[target] = rel_logits_correct.sum() / (rels_whole == target).long().sum()\n",
    "# print(matches)"
   ]
  },
  {
   "cell_type": "code",
   "execution_count": 22,
   "id": "0659b45f",
   "metadata": {},
   "outputs": [
    {
     "name": "stdout",
     "output_type": "stream",
     "text": [
      "tensor(0.)\n",
      "tensor(0.)\n",
      "tensor(0.)\n",
      "tensor(0.)\n",
      "tensor(0.)\n",
      "tensor(0.)\n",
      "tensor(0.)\n",
      "tensor(0.)\n",
      "tensor(0.)\n",
      "tensor(0.)\n",
      "tensor(0.)\n",
      "tensor(0.)\n",
      "tensor(0.)\n",
      "tensor(0.)\n"
     ]
    }
   ],
   "source": [
    "rel_preds = rel_logits.argmax(-1)\n",
    "head_preds = arc_logits.argmax(-1)\n",
    "\n",
    "# rel_preds.masked_fill_(rel_preds == 2, 27)\n",
    "# rel_preds.masked_fill_(rel_preds == 3, 27)\n",
    "\n",
    "for i in range(21, 35):\n",
    "    arc_logits_correct = (head_pred == heads_whole).long() * masks_whole * (rels_whole == i).long()\n",
    "    rel_logits_correct = (rel_preds == rels_whole).long() * arc_logits_correct\n",
    "\n",
    "    print(rel_logits_correct.sum() / (rels_whole == i).long().sum())"
   ]
  },
  {
   "cell_type": "code",
   "execution_count": 23,
   "id": "b6c10dd5",
   "metadata": {},
   "outputs": [],
   "source": [
    "def load_codt_signal(data_file: str, return_two=False):\n",
    "    sentence:List[Dependency] = []\n",
    "\n",
    "    with open(data_file, 'r', encoding='utf-8') as f:\n",
    "        # data example: 1\t上海\t_\tNR\tNR\t_\t2\tnn\t_\t_\n",
    "        for line in f.readlines():\n",
    "            toks = line.split()\n",
    "            if len(toks) == 0 and len(sentence) != 0:\n",
    "                yield sentence\n",
    "                sentence = []\n",
    "            elif len(toks) == 10:                \n",
    "                if return_two:\n",
    "                    sentence.append([int(toks[2]), int(toks[3])])\n",
    "                else:\n",
    "                    sentence.append(int(toks[2]))"
   ]
  },
  {
   "cell_type": "code",
   "execution_count": 24,
   "id": "c5b42dfb",
   "metadata": {},
   "outputs": [
    {
     "name": "stdout",
     "output_type": "stream",
     "text": [
      "{'说': 21, '表示': 21, '看到': 21, '显示': 21, '知道': 21, '认为': 21, '希望': 21, '指出': 21, '如果': 25, '假如': 25, '的话': 25, '若': 25, '如': 25, '因为': 23, '所以': 23, '导致': 23, '因此': 23, '造成': 23, '由于': 23, '因而': 23, '但是': 26, '可是': 26, '但': 26, '竟': 26, '却': 26, '不过': 26, '居然': 26, '而是': 26, '以及': 31, '也': 31, '并': 31, '并且': 31, '又': 31, '或者': 31, '对于': 22, '自从': 22, '上次': 22, '明天': 34, '晚上': 34, '到时候': 34, '再': 34, '然后': 34, '接下来': 34, '最后': 34, '随后': 34, '为了': 28, '使': 28, '为 的': 28, '为 了': 28, '通过': 32, '必须': 32, '点击': 32, '对 吗': 33, '是 吗': 33, '对 吧': 33, '是 吧': 33, '对 ?': 33, '更': 24, '比': 24, '只': 24, '解释': 30, '比如': 30, '例如': 30, '是 这样': 30, '理想': 29, '真 棒': 29, '太 棒': 29, '真差': 29, '太 差': 29, '不 行': 29, '扯皮': 29, '这么 麻烦': 29}\n"
     ]
    }
   ],
   "source": [
    "from constant import rel2id, punct_lst, weak_signals, weak_labels\n",
    "\n",
    "id2rel = list(rel2id.keys())\n",
    "\n",
    "origin4change = [rel2id[x] for x in ['root', 'dfsubj', 'sasubj']]\n",
    "# origin4change.extend([i for i in range(21, 35)])\n",
    "\n",
    "signal_dct = {}\n",
    "for i, signals in enumerate(weak_signals):\n",
    "    for s in signals:\n",
    "        signal_dct[s] = weak_labels[i]\n",
    "print(signal_dct)"
   ]
  },
  {
   "cell_type": "code",
   "execution_count": 25,
   "id": "0f7be283",
   "metadata": {},
   "outputs": [
    {
     "name": "stderr",
     "output_type": "stream",
     "text": [
      "20086it [00:44, 454.77it/s]\n"
     ]
    }
   ],
   "source": [
    "rel_preds = rel_logits.argmax(-1)\n",
    "head_preds = arc_logits.argmax(-1)\n",
    "\n",
    "max_len = CFG.max_length\n",
    "\n",
    "signals_new_whole = torch.Tensor()\n",
    "heads_new_whole, rels_new_whole = torch.Tensor(), torch.Tensor()\n",
    "for sample_idx, (deps, pred_signals) in tqdm(enumerate(zip(load_annoted(CFG.data_file), load_codt_signal('../mlm_based/diag_test.conll')))):\n",
    "    seq_len = len(deps)\n",
    "    if seq_len == 0:\n",
    "        continue\n",
    "    \n",
    "    signals = torch.full(size=(max_len,), fill_value=rel2id['elbr']).int()\n",
    "    heads, rels = torch.full(size=(max_len,), fill_value=-2).int(), torch.zeros(max_len).int()\n",
    "    split, splits, signal, word_lst  = 1, [1], rel2id['elbr'], ['root']\n",
    "    for i, dep in enumerate(deps[:-1]):\n",
    "        if i + 2 >= max_len:\n",
    "            break\n",
    "        \n",
    "        word = dep.word\n",
    "        word_lst.append(word)\n",
    "\n",
    "        # if word in signal_dct.keys():\n",
    "        #     signal = signal_dct[word]\n",
    "        # if f'{word} {deps[i+1].word}' in signal_dct.keys():\n",
    "        #     signal = signal_dct[f'{word} {deps[i+1].word}']\n",
    "\n",
    "        try:\n",
    "            signal = pred_signals[i]\n",
    "        except IndexError:\n",
    "            signal = pred_signals[len(pred_signals) - 1]\n",
    "\n",
    "        if word in punct_lst and deps[i+1].word not in punct_lst:\n",
    "            if i + 2 - split > 2:  # set 2 to the min length of edu\n",
    "                signals[split:i+2] = signal\n",
    "                # signal = None\n",
    "            split = i + 2\n",
    "            splits.append(split)\n",
    "\n",
    "    splits.append(len(deps))\n",
    "            \n",
    "    # add the last data\n",
    "    if i + 1 < max_len:\n",
    "        signal = pred_signals[-1]\n",
    "        word_lst.append(word)\n",
    "\n",
    "    heads = head_preds[sample_idx]\n",
    "    heads.masked_fill_(mask=~masks_whole[sample_idx].bool(), value=-2)\n",
    "\n",
    "    rels = rel_preds[sample_idx]\n",
    "    rels.masked_fill_(mask=~masks_whole[sample_idx].bool(), value=-2)\n",
    "\n",
    "    cnt, attr, = -1, False\n",
    "    for idx, head in enumerate(heads[1:]):\n",
    "        if head == -2:\n",
    "            break\n",
    "        if head == -1:\n",
    "            continue\n",
    "\n",
    "        if len(splits) > 2 and idx + 1 >= splits[cnt+1]:\n",
    "            cnt += 1\n",
    "\n",
    "        if ((len(splits) > 2 and (head < splits[cnt] or head >= splits[cnt+1])) or idx - head > 0) and rels[idx + 1] in origin4change:  # cross 'edu'\n",
    "\n",
    "            rels[idx+1] = signals[idx+1]\n",
    "\n",
    "            if rels[idx + 1] in [rel2id['cond']]:  # reverse\n",
    "                tmp_heads = heads.clone()\n",
    "                tmp_heads[:splits[cnt+1]] = 0\n",
    "                head_idx = [idx + 1]\n",
    "                tail_idx = (tmp_heads == idx + 1).nonzero()  # find tail index\n",
    "                if len(tail_idx) == 0:  # ring or fail\n",
    "                    # unchange\n",
    "                    tail_idx = [idx + 1]\n",
    "                    head_idx = (heads == idx + 1).nonzero() if head_idx == tail_idx else head_idx\n",
    "                elif len(head_idx) != 0:\n",
    "                    heads[tail_idx[0]] = 0\n",
    "                    heads[head_idx[0]] = tail_idx[0]\n",
    "\n",
    "            # special cases\n",
    "            if word_lst[idx+1] == '好' and word_lst[idx] in ['你', '您']:  # reverse\n",
    "                tmp_heads = heads.clone()\n",
    "                tmp_heads[:splits[cnt+1]] = 0\n",
    "                tail_idx = (tmp_heads == idx + 1).nonzero()  # find tail index\n",
    "                if len(tail_idx) != 0:  \n",
    "                    heads[tail_idx[0]] = 0\n",
    "                    heads[idx + 1] = tail_idx[0]\n",
    "                    rels[idx + 1] = rel2id['elbr']\n",
    "\n",
    "        if not attr and rels[idx + 1] in [rel2id['obj']] and signals[idx+1] == rel2id['attr']:\n",
    "            rels[idx+1] = signals[idx+1]\n",
    "            attr = True\n",
    "\n",
    "    rels.masked_fill_(heads == 0, 0)  # root\n",
    "    heads[0] = 0\n",
    "    heads[1:].masked_fill_(heads[1:] == -2, 0)\n",
    "\n",
    "    heads_new_whole = torch.cat([heads_new_whole, heads.unsqueeze(0)])\n",
    "    rels_new_whole = torch.cat([rels_new_whole, rels.unsqueeze(0)])\n",
    "    signals_new_whole = torch.cat([signals_new_whole, signals.unsqueeze(0)])"
   ]
  },
  {
   "cell_type": "code",
   "execution_count": 26,
   "id": "6393e96a",
   "metadata": {},
   "outputs": [
    {
     "name": "stdout",
     "output_type": "stream",
     "text": [
      "tensor(0.3777)\n",
      "tensor(0.5209)\n",
      "---------------------------------------------------\n",
      "tensor(0.8302)\n",
      "tensor(0.8725)\n"
     ]
    }
   ],
   "source": [
    "arc_logits_correct = (heads_new_whole == heads_whole).long() * masks_whole * (rels_whole >= 21).long()\n",
    "rel_logits_correct = (rels_new_whole == rels_whole).long() * arc_logits_correct\n",
    "\n",
    "print(rel_logits_correct.sum() / (rels_whole >= 21).long().sum())\n",
    "print(arc_logits_correct.sum() / (rels_whole >= 21).long().sum())\n",
    "print('---------------------------------------------------')\n",
    "\n",
    "arc_logits_correct = (heads_new_whole == heads_whole).long() * masks_whole * (rels_whole < 21).long()\n",
    "rel_logits_correct = (rels_new_whole == rels_whole).long() * arc_logits_correct \n",
    "\n",
    "print(rel_logits_correct.sum() / (masks_whole * (rels_whole < 21).long()).sum())\n",
    "print(arc_logits_correct.sum() / (masks_whole * (rels_whole < 21).long()).sum())"
   ]
  },
  {
   "cell_type": "code",
   "execution_count": 27,
   "id": "a9bc7964",
   "metadata": {},
   "outputs": [],
   "source": [
    "# arc_logits_correct = (heads_new_whole == heads_whole).long() * masks_whole * (rels_whole == 0).long()\n",
    "# rel_logits_correct = (rels_new_whole == rels_whole).long() * arc_logits_correct \n",
    "\n",
    "# print(rel_logits_correct.sum() / (masks_whole * (rels_whole == 0).long()).sum())\n",
    "# print(arc_logits_correct.sum() / (masks_whole * (rels_whole == 0).long()).sum())"
   ]
  },
  {
   "cell_type": "markdown",
   "id": "2444ccab",
   "metadata": {},
   "source": [
    "# Inter"
   ]
  },
  {
   "cell_type": "code",
   "execution_count": 28,
   "id": "2182e211",
   "metadata": {},
   "outputs": [
    {
     "name": "stdout",
     "output_type": "stream",
     "text": [
      "[1, 2, 5, 3, 2, 2, 2, 1, 1, 1]\n"
     ]
    }
   ],
   "source": [
    "# rel_preds = rel_logits.argmax(-1)\n",
    "\n",
    "cnt = 0\n",
    "root_ids = []\n",
    "# for rel_pred, mask in zip(rel_preds, masks_whole):\n",
    "for rel_pred, mask in zip(rels_new_whole, masks_whole):\n",
    "    try:\n",
    "        root_idx = (((rel_pred == 0) * mask) != 0).nonzero()[0].item()\n",
    "    except IndexError: # no root\n",
    "        root_idx = 2\n",
    "    root_ids.append(root_idx)\n",
    "\n",
    "print(root_ids[:10])"
   ]
  },
  {
   "cell_type": "code",
   "execution_count": 29,
   "id": "20a55945",
   "metadata": {},
   "outputs": [],
   "source": [
    "def load_inter(data_file):\n",
    "    with open(data_file, 'r', encoding='utf-8') as f:\n",
    "        data = json.load(f)\n",
    "        \n",
    "    signal_iter = load_codt_signal('../mlm_based/diag_test.conll', return_two=True)\n",
    "\n",
    "    sample_lst:List[List[Dependency]] = []\n",
    "    # for d, pred_signals in tqdm(zip(data, load_codt_signal('../prompt_based/diag_test.conll', idx=3))):\n",
    "    for d in data:\n",
    "        rel_dct = {}\n",
    "        for tripple in d['relationship']:\n",
    "            head, rel, tail = tripple\n",
    "            head_uttr_idx, head_word_idx = [int(x) for x in head.split('-')]\n",
    "            tail_uttr_idx, tail_word_idx = [int(x) for x in tail.split('-')]\n",
    "            \n",
    "            if rel == 'root' and head_uttr_idx != 0: # ignore root\n",
    "                continue\n",
    "                 \n",
    "            if not rel_dct.get(tail_uttr_idx, None):\n",
    "                rel_dct[tail_uttr_idx] = {tail_word_idx: [head, rel]}\n",
    "            else:\n",
    "                rel_dct[tail_uttr_idx][tail_word_idx] = [head, rel]\n",
    "                \n",
    "        sent_lens_accum = [1]\n",
    "        for i, item in enumerate(d['dialog']):\n",
    "            utterance = item['utterance']\n",
    "            sent_lens_accum.append(sent_lens_accum[i] + len(utterance.split(' ')) + 1)\n",
    "        sent_lens_accum[0] = 0\n",
    "        \n",
    "        dep_lst:List[Dependency] = []\n",
    "        role_lst:List[str] = []\n",
    "        weak_signal = []\n",
    "        for item in d['dialog']:\n",
    "            turn = item['turn']\n",
    "            utterance = item['utterance']\n",
    "\n",
    "            pred_signals = next(signal_iter)\n",
    "\n",
    "            role = '[ans]' if item['speaker'] == 'A' else '[qst]'\n",
    "            dep_lst.append(Dependency(sent_lens_accum[turn], role, -1, '_'))  \n",
    "            \n",
    "            tmp_signal = []\n",
    "            for word_idx, word in enumerate(utterance.split(' ')):\n",
    "                tail2head = rel_dct.get(turn, {1: [f'{turn}-{word_idx}', 'adjct']})\n",
    "                head, rel = tail2head.get(word_idx + 1, [f'{turn}-{word_idx}', 'adjct'])  # some word annoted missed, padded with last word and 'adjct'\n",
    "                head_uttr_idx, head_word_idx = [int(x) for x in head.split('-')]\n",
    "                \n",
    "                # only parse cross-utterance\n",
    "                if turn != head_uttr_idx:\n",
    "                    dep_lst.append(Dependency(sent_lens_accum[turn] + word_idx + 1, word, sent_lens_accum[head_uttr_idx] + head_word_idx, rel))  # add with accumulated length\n",
    "                else:\n",
    "                    dep_lst.append(Dependency(sent_lens_accum[turn] + word_idx + 1, word, -1, '_')) \n",
    "\n",
    "                try:\n",
    "                    signal1, signal2 = pred_signals[i]\n",
    "                except IndexError:\n",
    "                    signal1, signal2 = pred_signals[len(pred_signals) - 1]\n",
    "                \n",
    "                tmp_signal = [signal1, signal2]\n",
    "                \n",
    "                # if word in weak_signal_dct.keys():\n",
    "                #     tmp_signal.append(weak_signal_dct[word])\n",
    "\n",
    "            if len(tmp_signal) != 0:\n",
    "                # weak_signal.append(tmp_signal[-1])  # choose the last\n",
    "                weak_signal.append(tmp_signal)  # choose the last\n",
    "            else:\n",
    "                weak_signal.append(-1)\n",
    "            role_lst.append(item['speaker'])        \n",
    "        sample_lst.append([dep_lst, role_lst, weak_signal])\n",
    "        \n",
    "    return sample_lst"
   ]
  },
  {
   "cell_type": "code",
   "execution_count": 30,
   "id": "546db86a",
   "metadata": {},
   "outputs": [],
   "source": [
    "class InterDataset(Dataset):\n",
    "    def __init__(self, cfg):\n",
    "        self.cfg = cfg\n",
    "        self.inputs, self.offsets, self.heads, self.rels, self.masks, self.speakers, self.signs = self.read_data()\n",
    "        \n",
    "    def read_data(self):\n",
    "        inputs, offsets = [], []\n",
    "        tags, heads, rels, masks, speakers, signs = [], [], [], [], [], []\n",
    "                \n",
    "        for idx, (deps, roles, sign) in enumerate(load_inter(self.cfg.data_file)):\n",
    "            seq_len = len(deps)\n",
    "            signs.append(sign)\n",
    "\n",
    "            word_lst = [] \n",
    "            head_tokens = np.zeros(1024, dtype=np.int64)  # same as root index is 0, constrainting by mask \n",
    "            rel_tokens = np.zeros(1024, dtype=np.int64)\n",
    "            mask_tokens = np.zeros(1024, dtype=np.int64)\n",
    "            for i, dep in enumerate(deps):\n",
    "                if i == seq_len or i + 1== 1024:\n",
    "                    break\n",
    "\n",
    "                word_lst.append(dep.word)\n",
    "                \n",
    "                if int(dep.head) == -1 or int(dep.head) + 1 >= 1024:\n",
    "                    head_tokens[i+1] = 0\n",
    "                    mask_tokens[i+1] = 0\n",
    "                else:\n",
    "                    head_tokens[i+1] = int(dep.head)\n",
    "                    mask_tokens[i+1] = 1\n",
    "#                     head_tokens[i] = dep.head if dep.head != '_' else 0\n",
    "                rel_tokens[i+1] = rel2id.get(dep.rel, 0)\n",
    "\n",
    "            tokenized = tokenizer.encode_plus(word_lst, \n",
    "                                              padding='max_length', \n",
    "                                              truncation=True,\n",
    "                                              max_length=1024, \n",
    "                                              return_offsets_mapping=True, \n",
    "                                              return_tensors='pt',\n",
    "                                              is_split_into_words=True)\n",
    "            inputs.append({\"input_ids\": tokenized['input_ids'][0],\n",
    "                          \"token_type_ids\": tokenized['token_type_ids'][0],\n",
    "                           \"attention_mask\": tokenized['attention_mask'][0]\n",
    "                          })\n",
    "\n",
    "#                 sentence_word_idx = np.zeros(self.cfg.max_length, dtype=np.int64)\n",
    "            sentence_word_idx = []\n",
    "            for idx, (start, end) in enumerate(tokenized.offset_mapping[0][1:]):\n",
    "                if start == 0 and end != 0:\n",
    "                    sentence_word_idx.append(idx)\n",
    "#                         sentence_word_idx[idx] = idx\n",
    "            if len(sentence_word_idx) < 1024 - 1:\n",
    "                sentence_word_idx.extend([0]* (1024 - 1 - len(sentence_word_idx)))\n",
    "            offsets.append(torch.as_tensor(sentence_word_idx))\n",
    "#                 offsets.append(sentence_word_idx)\n",
    "\n",
    "            heads.append(head_tokens)\n",
    "            rels.append(rel_tokens)\n",
    "            masks.append(mask_tokens)\n",
    "            speakers.append(roles)\n",
    "                    \n",
    "        return inputs, offsets, heads, rels, masks, speakers, signs\n",
    "\n",
    "    def __getitem__(self, idx):\n",
    "        return self.inputs[idx], self.offsets[idx], self.heads[idx], self.rels[idx], self.masks[idx], self.speakers[idx], self.signs[idx]\n",
    "    \n",
    "    def __len__(self):\n",
    "        return len(self.rels)"
   ]
  },
  {
   "cell_type": "code",
   "execution_count": 55,
   "id": "f006a03e",
   "metadata": {},
   "outputs": [],
   "source": [
    "inter_dataset = InterDataset(CFG)\n",
    "inter_dataloader = DataLoader(inter_dataset, batch_size=1)"
   ]
  },
  {
   "cell_type": "code",
   "execution_count": 70,
   "id": "7d651664",
   "metadata": {},
   "outputs": [],
   "source": [
    "cnt = 0\n",
    "\n",
    "inter_heads_whole, inter_rels_whole, inter_masks_whole = torch.Tensor(), torch.Tensor(), torch.Tensor()\n",
    "inter_heads_preds, inter_rels_preds = torch.Tensor(), torch.Tensor()\n",
    "for batch in inter_dataloader:\n",
    "    inputs, offsets, heads, rels, masks, speakers, signs = batch\n",
    "    inter_head_preds = torch.zeros_like(heads, dtype=int)\n",
    "    inter_rel_preds = torch.zeros_like(rels, dtype=int)\n",
    "\n",
    "    inter_heads_whole = torch.cat([inter_heads_whole, heads])\n",
    "    inter_rels_whole = torch.cat([inter_rels_whole, rels])\n",
    "    inter_masks_whole = torch.cat([inter_masks_whole, masks])\n",
    "\n",
    "    accum = 1\n",
    "    # print(masks.sum())\n",
    "    for i, speakr in enumerate(speakers[1:]):\n",
    "        seq_len = masks_whole[cnt].sum().item() + 1\n",
    "        # if signs[i] != -1:\n",
    "        #     rel = signs[i]\n",
    "        # elif speakr == speakers[i]:\n",
    "        #     rel = 27\n",
    "        # else:\n",
    "        #     rel = 38\n",
    "        if speakr == speakers[i]:\n",
    "            rel = signs[i][0]\n",
    "        else:\n",
    "            rel = signs[i][1]\n",
    "\n",
    "        # rel = 39\n",
    "        \n",
    "        head_idx = int(root_ids[cnt] + accum) if i > 0 else root_ids[cnt]\n",
    "        tail_idx = int(root_ids[cnt+1] + accum + seq_len)\n",
    "        \n",
    "        # print(head_idx, tail_idx)\n",
    "        inter_head_preds[0][tail_idx] = head_idx\n",
    "        inter_rel_preds[0][tail_idx] = rel\n",
    "\n",
    "        # print(inter_head_preds)\n",
    "        # print(inter_rel_preds)\n",
    "        cnt += 1\n",
    "        accum += seq_len\n",
    "\n",
    "    cnt += 1\n",
    "\n",
    "    inter_heads_preds = torch.cat([inter_heads_preds, inter_head_preds])\n",
    "    inter_rels_preds = torch.cat([inter_rels_preds, inter_rel_preds])"
   ]
  },
  {
   "cell_type": "code",
   "execution_count": 59,
   "id": "c56b268e",
   "metadata": {},
   "outputs": [
    {
     "name": "stdout",
     "output_type": "stream",
     "text": [
      "tensor(0.2616)\n",
      "tensor(0.7007)\n"
     ]
    }
   ],
   "source": [
    "arc_logits_correct = (inter_heads_preds == inter_heads_whole).long() * inter_masks_whole\n",
    "rel_logits_correct = (inter_rels_preds == inter_rels_whole).long() * arc_logits_correct\n",
    "\n",
    "print(rel_logits_correct.sum() / inter_masks_whole.long().sum())\n",
    "print(arc_logits_correct.sum() / inter_masks_whole.long().sum())"
   ]
  },
  {
   "cell_type": "code",
   "execution_count": 71,
   "id": "7622d60b",
   "metadata": {},
   "outputs": [
    {
     "name": "stdout",
     "output_type": "stream",
     "text": [
      "tensor(0.6078)\n"
     ]
    }
   ],
   "source": [
    "# arc_logits_correct = (inter_heads_preds == inter_heads_whole).long() * inter_masks_whole * (inter_rels_whole == 39).long()\n",
    "# rel_logits_correct = (inter_rels_preds == inter_rels_whole).long() * arc_logits_correct\n",
    "\n",
    "# print(rel_logits_correct.sum() / (inter_rels_whole == 39).long().sum())"
   ]
  },
  {
   "cell_type": "code",
   "execution_count": 34,
   "id": "9fc4ceac",
   "metadata": {},
   "outputs": [
    {
     "data": {
      "text/plain": [
       "tensor(10028)"
      ]
     },
     "execution_count": 34,
     "metadata": {},
     "output_type": "execute_result"
    }
   ],
   "source": [
    "(rels_whole >= 21).long().sum()"
   ]
  },
  {
   "cell_type": "code",
   "execution_count": 35,
   "id": "c440be05",
   "metadata": {},
   "outputs": [
    {
     "data": {
      "text/plain": [
       "tensor(159800.)"
      ]
     },
     "execution_count": 35,
     "metadata": {},
     "output_type": "execute_result"
    }
   ],
   "source": [
    "(masks_whole * (rels_whole < 21).long()).sum()"
   ]
  },
  {
   "cell_type": "code",
   "execution_count": 36,
   "id": "b745d6d6",
   "metadata": {},
   "outputs": [
    {
     "data": {
      "text/plain": [
       "tensor(19175)"
      ]
     },
     "execution_count": 36,
     "metadata": {},
     "output_type": "execute_result"
    }
   ],
   "source": [
    "inter_masks_whole.long().sum()"
   ]
  },
  {
   "cell_type": "code",
   "execution_count": 37,
   "id": "0038a155",
   "metadata": {},
   "outputs": [
    {
     "data": {
      "text/plain": [
       "tensor(0.6390)"
      ]
     },
     "execution_count": 37,
     "metadata": {},
     "output_type": "execute_result"
    }
   ],
   "source": [
    "arc_logits_correct_inner = (heads_new_whole == heads_whole).long() * masks_whole * (rels_whole >= 21).long()\n",
    "arc_logits_correct_inter = (inter_heads_preds == inter_heads_whole).long() * inter_masks_whole\n",
    "\n",
    "(arc_logits_correct_inner.sum() + arc_logits_correct_inter.sum()) / ((rels_whole >= 21).long().sum() + inter_masks_whole.long().sum())"
   ]
  },
  {
   "cell_type": "code",
   "execution_count": 38,
   "id": "a7bc2c6f",
   "metadata": {},
   "outputs": [
    {
     "data": {
      "text/plain": [
       "tensor(0.4914)"
      ]
     },
     "execution_count": 38,
     "metadata": {},
     "output_type": "execute_result"
    }
   ],
   "source": [
    "rel_logits_correct_inner = (rels_new_whole == rels_whole).long() * arc_logits_correct_inner\n",
    "rel_logits_correct_inter = (inter_rels_preds == inter_rels_whole).long() * arc_logits_correct_inter\n",
    "\n",
    "(rel_logits_correct_inner.sum() + rel_logits_correct_inter.sum()) / ((rels_whole >= 21).long().sum() + inter_masks_whole.long().sum())"
   ]
  }
 ],
 "metadata": {
  "kernelspec": {
   "display_name": "Python 3.8.5 ('jgy')",
   "language": "python",
   "name": "python3"
  },
  "language_info": {
   "codemirror_mode": {
    "name": "ipython",
    "version": 3
   },
   "file_extension": ".py",
   "mimetype": "text/x-python",
   "name": "python",
   "nbconvert_exporter": "python",
   "pygments_lexer": "ipython3",
   "version": "3.8.5 (default, Sep  4 2020, 07:30:14) \n[GCC 7.3.0]"
  },
  "vscode": {
   "interpreter": {
    "hash": "f5970cc3159b15dedb1f3a2bddfb758e67a1721376b7397fa1f3df8941c2f173"
   }
  }
 },
 "nbformat": 4,
 "nbformat_minor": 5
}
