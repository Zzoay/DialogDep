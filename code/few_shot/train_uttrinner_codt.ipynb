{
 "cells": [
  {
   "cell_type": "code",
   "execution_count": 1,
   "id": "3516121e-224c-4ff6-b113-7f0688056924",
   "metadata": {
    "tags": []
   },
   "outputs": [],
   "source": [
    "from collections import Counter\n",
    "from typing import *\n",
    "import random\n",
    "import json\n",
    "import logging\n",
    "import datetime\n",
    "from itertools import chain"
   ]
  },
  {
   "cell_type": "code",
   "execution_count": 2,
   "id": "6b65642f-6ea7-44bf-bcb5-562aff34f852",
   "metadata": {},
   "outputs": [],
   "source": [
    "from tqdm import tqdm\n",
    "import numpy as np\n",
    "from sklearn.model_selection import KFold\n",
    "\n",
    "import torch\n",
    "from torch import nn\n",
    "from torch.nn import functional as F\n",
    "from torch.utils.data import Dataset, DataLoader, Subset\n",
    "from torch.cuda.amp import autocast, GradScaler\n",
    "\n",
    "import transformers\n",
    "from transformers import AutoConfig, AutoModel, AutoTokenizer"
   ]
  },
  {
   "cell_type": "code",
   "execution_count": 3,
   "id": "41222b60-114d-4172-9eb6-014125a7b844",
   "metadata": {},
   "outputs": [],
   "source": [
    "transformers.logging.set_verbosity_error() # only report errors."
   ]
  },
  {
   "cell_type": "code",
   "execution_count": 4,
   "id": "38dea672-6e55-40bf-8b1a-711039e54a34",
   "metadata": {},
   "outputs": [
    {
     "name": "stderr",
     "output_type": "stream",
     "text": [
      "2022-12-13 14:55:05.529840: I tensorflow/stream_executor/platform/default/dso_loader.cc:49] Successfully opened dynamic library libcudart.so.11.0\n"
     ]
    }
   ],
   "source": [
    "import sys\n",
    "sys.path.append('..')\n",
    "\n",
    "from trainer import BasicTrainer\n",
    "from model.base_par import DepParser\n",
    "from utils import arc_rel_loss, uas_las, to_cuda"
   ]
  },
  {
   "cell_type": "markdown",
   "id": "5364156f-4402-4b34-b357-90cd4683ed92",
   "metadata": {},
   "source": [
    "## Config"
   ]
  },
  {
   "cell_type": "code",
   "execution_count": 5,
   "id": "67c8c13e-2a29-4c4a-a0c0-bc88089e4395",
   "metadata": {},
   "outputs": [],
   "source": [
    "class CFG:\n",
    "    data_file = '../data/train_50.json'\n",
    "    codt_train_file = '../codt/train/BC-Train-full.conll'\n",
    "    codt_dev_file = '../codt/dev/BC-Dev.conll'\n",
    "    # codt_train_file = '../aug/codt/codt_train_fixed.conll'\n",
    "    # codt_dev_file = '../aug/codt/codt_dev.conll'\n",
    "    test_file = '../data/test.json'\n",
    "    plm = 'hfl/chinese-electra-180g-base-discriminator'\n",
    "    shots = [50]\n",
    "    num_epochs = 15\n",
    "    batch_size = 32\n",
    "    plm_lr = 2e-5\n",
    "    head_lr = 1e-4\n",
    "    weight_decay = 0.01\n",
    "    dropout = 0.2\n",
    "    grad_clip = 2\n",
    "    scheduler = 'linear'\n",
    "    warmup_ratio = 0.1\n",
    "    num_early_stop = 3\n",
    "    max_length = 160\n",
    "    num_labels = 35\n",
    "    hidden_size = 400\n",
    "    print_every_ratio = 0.5\n",
    "    cuda = True\n",
    "    fp16 = True\n",
    "    eval_strategy = 'epoch'\n",
    "    mode = 'training'"
   ]
  },
  {
   "cell_type": "code",
   "execution_count": 6,
   "id": "41572a14-d03b-45cd-a1cd-c9679537dd07",
   "metadata": {},
   "outputs": [],
   "source": [
    "# the seed closest to the average result\n",
    "shot2seed = {5:40, 10:44, 20:41, 40:44, 50:42}"
   ]
  },
  {
   "cell_type": "code",
   "execution_count": 7,
   "id": "6277ca01-a7d3-46a3-80af-414b8f17a764",
   "metadata": {},
   "outputs": [
    {
     "name": "stdout",
     "output_type": "stream",
     "text": [
      "<Logger logger (INFO)>\n",
      "<class 'logging.Logger'>\n",
      "2022-12-13T14:55:07.832042\n"
     ]
    }
   ],
   "source": [
    "logger = logging.getLogger(\"logger\")\n",
    "logger.setLevel(logging.INFO)\n",
    "print(logger)\n",
    "print(type(logger))\n",
    "\n",
    "if CFG.mode == 'training':\n",
    "    fh = logging.FileHandler(filename=f\"../results/few_shot/with_codt_sampled/training.log\",mode='w')\n",
    "else:\n",
    "    fh = logging.FileHandler(filename=f\"../results/few_shot/with_codt_sampled/inference.log\",mode='w')\n",
    "logger.addHandler(fh)\n",
    "\n",
    "time_now = datetime.datetime.now().isoformat()\n",
    "print(time_now)\n",
    "logger.info(f'=-=-=-=-=-=-=-=-={time_now}=-=-=-=-=-=-=-=-=-=')"
   ]
  },
  {
   "cell_type": "markdown",
   "id": "76bcaccb-18d3-4c60-a99f-c9ba2ac5687b",
   "metadata": {},
   "source": [
    "## Seed and Device"
   ]
  },
  {
   "cell_type": "code",
   "execution_count": 8,
   "id": "6fc6cbe6-687d-423a-a727-b81ea81fed21",
   "metadata": {},
   "outputs": [],
   "source": [
    "def seed_everything(seed):\n",
    "    np.random.seed(seed%(2**32-1))\n",
    "    random.seed(seed)\n",
    "    torch.manual_seed(seed)\n",
    "    torch.cuda.manual_seed(seed)\n",
    "    torch.backends.cudnn.deterministic =True\n",
    "    torch.backends.cudnn.benchmark = False"
   ]
  },
  {
   "cell_type": "code",
   "execution_count": 9,
   "id": "c9ba0a24-f554-4f67-9459-0938a67c58c8",
   "metadata": {},
   "outputs": [
    {
     "name": "stdout",
     "output_type": "stream",
     "text": [
      "Using device: cuda\n"
     ]
    }
   ],
   "source": [
    "if torch.cuda.is_available():\n",
    "    device = torch.device('cuda')\n",
    "else:\n",
    "    device = torch.device('cpu')\n",
    "\n",
    "print(f'Using device: {device}')"
   ]
  },
  {
   "cell_type": "markdown",
   "id": "9e75bf13-f8bf-4f44-9fd3-022f474f1dae",
   "metadata": {},
   "source": [
    "## Data"
   ]
  },
  {
   "cell_type": "code",
   "execution_count": 10,
   "id": "72b2700c-7f24-4014-ba65-2f4fbd5362f1",
   "metadata": {},
   "outputs": [],
   "source": [
    "rel_dct = {\n",
    "    'root': '根节点',\n",
    "    'sasubj-obj': '同主同宾',\n",
    "    'sasubj': '同主语',\n",
    "    'dfsubj': '不同主语',\n",
    "    'subj': '主语',\n",
    "    'subj-in': '内部主语',\n",
    "    'obj': '宾语',\n",
    "    'pred': '谓语',\n",
    "    'att': '定语',\n",
    "    'adv': '状语',\n",
    "    'cmp': '补语',\n",
    "    'coo': '并列',\n",
    "    'pobj': '介宾',\n",
    "    'iobj': '间宾',\n",
    "    'de': '的',\n",
    "    'adjct': '附加',\n",
    "    'app': '称呼',\n",
    "    'exp': '解释',\n",
    "    'punc': '标点',\n",
    "    'frag': '片段',\n",
    "    'repet': '重复',\n",
    "    # rst\n",
    "    'attr': '归属',\n",
    "    'bckg': '背景',\n",
    "    'cause': '因果',\n",
    "    'comp': '比较',\n",
    "    'cond': '状况',\n",
    "    'cont': '对比',\n",
    "    'elbr': '阐述',\n",
    "    'enbm': '目的',\n",
    "    'eval': '评价',\n",
    "    'expl': '解释-例证',\n",
    "    'joint': '联合',\n",
    "    'manner': '方式',\n",
    "    'rstm': '重申',\n",
    "    'temp': '时序',\n",
    "    # 'tp-chg': '主题变更',\n",
    "    # 'prob-sol': '问题-解决',\n",
    "    # 'qst-ans': '疑问-回答',\n",
    "    # 'stm-rsp': '陈述-回应',\n",
    "    # 'req-proc': '需求-处理',\n",
    "}"
   ]
  },
  {
   "cell_type": "code",
   "execution_count": 11,
   "id": "35cf9c30-727a-489d-97e6-efc33c2bf5a3",
   "metadata": {
    "tags": []
   },
   "outputs": [
    {
     "name": "stdout",
     "output_type": "stream",
     "text": [
      "{'root': 0, 'sasubj-obj': 1, 'sasubj': 2, 'dfsubj': 3, 'subj': 4, 'subj-in': 5, 'obj': 6, 'pred': 7, 'att': 8, 'adv': 9, 'cmp': 10, 'coo': 11, 'pobj': 12, 'iobj': 13, 'de': 14, 'adjct': 15, 'app': 16, 'exp': 17, 'punc': 18, 'frag': 19, 'repet': 20, 'attr': 21, 'bckg': 22, 'cause': 23, 'comp': 24, 'cond': 25, 'cont': 26, 'elbr': 27, 'enbm': 28, 'eval': 29, 'expl': 30, 'joint': 31, 'manner': 32, 'rstm': 33, 'temp': 34}\n"
     ]
    }
   ],
   "source": [
    "rel2id = {key:idx for idx, key in enumerate(rel_dct.keys())}\n",
    "print(rel2id)"
   ]
  },
  {
   "cell_type": "code",
   "execution_count": 12,
   "id": "f0d8e193-ac84-4024-9890-3564fe797318",
   "metadata": {},
   "outputs": [
    {
     "name": "stdout",
     "output_type": "stream",
     "text": [
      "21128\n"
     ]
    }
   ],
   "source": [
    "tokenizer = AutoTokenizer.from_pretrained(CFG.plm)\n",
    "print(len(tokenizer))\n",
    " \n",
    "# num_added_toks = tokenizer.add_tokens(['[root]', '[qst]', '[ans]'], special_tokens=True)\n",
    "# tokenizer.root_token = '[root]'\n",
    "# tokenizer.root_token_ids = tokenizer('[root]')['input_ids'][1]\n",
    "# print(f\"add token: {tokenizer.root_token} {tokenizer.root_token_ids}\")\n",
    "\n",
    "# tokenizer.qst_token = '[qst]'\n",
    "# tokenizer.qst_token_ids = tokenizer('[qst]')['input_ids'][1]\n",
    "# print(f\"add token: {tokenizer.qst_token} {tokenizer.qst_token_ids}\")\n",
    "\n",
    "# tokenizer.ans_token = '[ans]'\n",
    "# tokenizer.ans_token_ids = tokenizer('[ans]')['input_ids'][1]\n",
    "# print(f\"add token: {tokenizer.ans_token} {tokenizer.ans_token_ids}\")\n",
    "# print(len(tokenizer))\n",
    "\n",
    "CFG.tokenizer = tokenizer"
   ]
  },
  {
   "cell_type": "code",
   "execution_count": 13,
   "id": "88f0dfad-12d1-4546-b05e-ad36bffaa720",
   "metadata": {},
   "outputs": [],
   "source": [
    "class Dependency():\n",
    "    def __init__(self, idx, word, head, rel):\n",
    "        self.id = idx\n",
    "        self.word = word\n",
    "        self.head = int(head)\n",
    "        self.rel = rel\n",
    "\n",
    "    def __str__(self):\n",
    "        # example:  1\t上海\t_\tNR\tNR\t_\t2\tnn\t_\t_\n",
    "        values = [str(self.idx), self.word, \"_\", \"_\", \"_\", \"_\", str(self.head), self.rel, \"_\", \"_\"]\n",
    "        return '\\t'.join(values)\n",
    "\n",
    "    def __repr__(self):\n",
    "        return f\"({self.word}, {self.head}, {self.rel})\""
   ]
  },
  {
   "cell_type": "code",
   "execution_count": 14,
   "id": "3154859d-3591-4177-94ef-137822dc4caf",
   "metadata": {},
   "outputs": [],
   "source": [
    "def load_annoted(data_file, data_ids):\n",
    "    with open(data_file, 'r', encoding='utf-8') as f:\n",
    "        data = json.load(f)\n",
    "        \n",
    "    sample_lst:List[List[Dependency]] = []\n",
    "    \n",
    "    for i, d in enumerate(data):\n",
    "        if i not in data_ids:\n",
    "            continue\n",
    "        rel_dct = {}\n",
    "        for tripple in d['relationship']:\n",
    "            head, rel, tail = tripple\n",
    "            head_uttr_idx, head_word_idx = [int(x) for x in head.split('-')]\n",
    "            tail_uttr_idx, tail_word_idx = [int(x) for x in tail.split('-')]\n",
    "            if head_uttr_idx != tail_uttr_idx:\n",
    "                continue\n",
    "            \n",
    "            if not rel_dct.get(head_uttr_idx, None):\n",
    "                rel_dct[head_uttr_idx] = {tail_word_idx: [head_word_idx, rel]}\n",
    "            else:\n",
    "                rel_dct[head_uttr_idx][tail_word_idx] = [head_word_idx, rel]\n",
    "            \n",
    "        for item in d['dialog']:\n",
    "            turn = item['turn']\n",
    "            utterance = item['utterance']\n",
    "            # dep_lst:List[Dependency] = [Dependency(0, '[root]', -1, '_')]\n",
    "            dep_lst:List[Dependency] = []\n",
    "            \n",
    "            for word_idx, word in enumerate(utterance.split(' ')):\n",
    "                head_word_idx, rel = rel_dct[turn].get(word_idx + 1, [word_idx, 'adjct'])  # some word annoted missed, padded with last word and 'adjct'\n",
    "                dep_lst.append(Dependency(word_idx + 1, word, head_word_idx, rel))  # start from 1\n",
    "            \n",
    "            sample_lst.append(dep_lst)\n",
    "        \n",
    "    return sample_lst"
   ]
  },
  {
   "cell_type": "code",
   "execution_count": 15,
   "id": "2d002333-0c47-4c22-b70f-1a5cdd9eae48",
   "metadata": {},
   "outputs": [],
   "source": [
    "def load_codt(data_file: str):\n",
    "    # id, form, tag, head, rel\n",
    "#     sentence:List[Dependency] = [Dependency('0', '<root>', '_', '0', '_')]\n",
    "    sentence:List[Dependency] = []\n",
    "\n",
    "    with open(data_file, 'r', encoding='utf-8') as f:\n",
    "        # data example: 1\t上海\t_\tNR\tNR\t_\t2\tnn\t_\t_\n",
    "        for line in f.readlines():\n",
    "            toks = line.split()\n",
    "            if len(toks) == 0 and len(sentence) != 0:\n",
    "                yield sentence\n",
    "#                 sentence = [Dependency('0', '<root>', '_', '0', '_')]\n",
    "                sentence = []\n",
    "            elif len(toks) == 10:\n",
    "                if toks[8] != '_':\n",
    "                    dep = Dependency(toks[0], toks[1], toks[8], toks[9])\n",
    "                else:\n",
    "                    dep = Dependency(toks[0], toks[1], toks[6], toks[7])\n",
    "                sentence.append(dep)"
   ]
  },
  {
   "cell_type": "code",
   "execution_count": 16,
   "id": "13ac09de-1f8b-4614-aab5-ba4f2bc9596a",
   "metadata": {},
   "outputs": [],
   "source": [
    "class DialogDataset(Dataset):\n",
    "    def __init__(self, cfg, data_file, data_ids, train, with_codt_sampled=True):\n",
    "        self.cfg = cfg\n",
    "        self.data_file = data_file\n",
    "        self.train = train\n",
    "        self.with_codt_sampled = with_codt_sampled\n",
    "        \n",
    "        self.inputs, self.offsets, self.heads, self.rels, self.masks = self.read_data(data_ids)\n",
    "        \n",
    "    def read_data(self, data_ids):\n",
    "        inputs, offsets = [], []\n",
    "        tags, heads, rels, masks = [], [], [], []\n",
    "        \n",
    "        codt_file = self.cfg.codt_train_file if self.train else self.cfg.codt_dev_file\n",
    "        # diag_train = '../aug/diag_weakcodt_sampled_new/diag_train_merged.conll'\n",
    "        # diag_dev = '../aug/diag_weakcodt_sampled_new/diag_dev_sampled_new.conll'\n",
    "        diag_train = '../aug/diag_codt_sampled_new/diag_train_sampled_new.conll'\n",
    "        diag_dev = '../aug/diag_codt_sampled_new/diag_dev_sampled_new.conll'\n",
    "        diag_file = diag_train if self.train else diag_dev\n",
    "        \n",
    "        c_lst = []\n",
    "        for i in range(4):  # repeating to cope with hedging of weakly labelled data\n",
    "            c_lst.append(load_annoted(self.data_file, data_ids))\n",
    "        c = chain(*c_lst)\n",
    "        if self.with_codt_sampled:\n",
    "            # data_iter = chain(c, load_codt(codt_file), c, load_codt(diag_file), c)\n",
    "            data_iter = chain(c, load_codt(codt_file))\n",
    "        else:\n",
    "            data_iter = load_annoted(self.data_file, data_ids)\n",
    "        for deps in tqdm(data_iter):\n",
    "            # another sentence\n",
    "            seq_len = len(deps)\n",
    "\n",
    "            word_lst = [] \n",
    "            head_tokens = np.zeros(self.cfg.max_length, dtype=np.int64)\n",
    "            rel_tokens = np.zeros(self.cfg.max_length, dtype=np.int64)\n",
    "            mask_tokens = np.zeros(self.cfg.max_length, dtype=np.int64)\n",
    "            for i, dep in enumerate(deps):\n",
    "                if i == seq_len or i + 1== self.cfg.max_length:\n",
    "                    break\n",
    "\n",
    "                word_lst.append(dep.word)\n",
    "\n",
    "                if dep.head != -1 and dep.rel in rel2id.keys() and dep.head + 1 < self.cfg.max_length:\n",
    "                    head_tokens[i+1] = dep.head\n",
    "                    mask_tokens[i+1] = 1\n",
    "                    rel_tokens[i+1] = rel2id[dep.rel]\n",
    "\n",
    "            tokenized = tokenizer.encode_plus(word_lst, \n",
    "                                              padding='max_length', \n",
    "                                              truncation=True,\n",
    "                                              max_length=self.cfg.max_length, \n",
    "                                              return_offsets_mapping=True, \n",
    "                                              return_tensors='pt',\n",
    "                                              is_split_into_words=True)\n",
    "            inputs.append({\"input_ids\": tokenized['input_ids'][0],\n",
    "                           \"token_type_ids\": tokenized['token_type_ids'][0],\n",
    "                           \"attention_mask\": tokenized['attention_mask'][0]\n",
    "                          })\n",
    "\n",
    "            sentence_word_idx = []\n",
    "            for idx, (start, end) in enumerate(tokenized.offset_mapping[0][1:]):\n",
    "                if start == 0 and end != 0:\n",
    "                    sentence_word_idx.append(idx)\n",
    "\n",
    "            if len(sentence_word_idx) < self.cfg.max_length - 1:\n",
    "                sentence_word_idx.extend([0]* (self.cfg.max_length - 1 - len(sentence_word_idx)))\n",
    "            offsets.append(torch.as_tensor(sentence_word_idx))\n",
    "\n",
    "            heads.append(head_tokens)\n",
    "            rels.append(rel_tokens)\n",
    "            masks.append(mask_tokens)\n",
    "                    \n",
    "        return inputs, offsets, heads, rels, masks\n",
    "\n",
    "    def __getitem__(self, idx):\n",
    "        return self.inputs[idx], self.offsets[idx], self.heads[idx], self.rels[idx], self.masks[idx]\n",
    "    \n",
    "    def __len__(self):\n",
    "        return len(self.rels)"
   ]
  },
  {
   "cell_type": "markdown",
   "id": "571d8feb-a553-4f93-a76b-70a5869af34a",
   "metadata": {},
   "source": [
    "## Tranining"
   ]
  },
  {
   "cell_type": "code",
   "execution_count": 17,
   "id": "e60957b5-606b-440b-8b5e-77d9c609b337",
   "metadata": {
    "tags": []
   },
   "outputs": [
    {
     "name": "stdout",
     "output_type": "stream",
     "text": [
      "\n",
      "SEED 42\n",
      "--------------------------------\n"
     ]
    },
    {
     "name": "stderr",
     "output_type": "stream",
     "text": [
      "30758it [00:58, 523.43it/s]\n",
      "974it [00:01, 525.92it/s]\n"
     ]
    },
    {
     "name": "stdout",
     "output_type": "stream",
     "text": [
      "---Data Size Train/Val: 30758 / 974\n",
      "Loading Model....\n"
     ]
    },
    {
     "name": "stderr",
     "output_type": "stream",
     "text": [
      "100%|██████████| 15/15 [1:26:28<00:00, 345.90s/it]\n"
     ]
    },
    {
     "name": "stdout",
     "output_type": "stream",
     "text": [
      "0.0\n"
     ]
    }
   ],
   "source": [
    "if CFG.mode == 'training':  \n",
    "    total_ids = list(range(50))\n",
    "    for shot in CFG.shots:\n",
    "        logger.info(f'\\n===========SHOT {shot}============')\n",
    "        \n",
    "        seed = shot2seed[shot]\n",
    "        seed_everything(seed)\n",
    "        print(f'\\nSEED {seed}')\n",
    "        print('--------------------------------')\n",
    "        logger.info(f'\\n=========SEED {seed}===========')\n",
    "        logger.info(f'-------------------------------')\n",
    "\n",
    "        if CFG.cuda and torch.cuda.is_available:\n",
    "            torch.cuda.empty_cache()\n",
    "\n",
    "        seed_everything(seed=seed)\n",
    "\n",
    "        random.shuffle(total_ids)\n",
    "\n",
    "        train_ids = total_ids[0:shot]\n",
    "        # val_ids = total_ids[shot:2*shot]\n",
    "        val_ids = []\n",
    "\n",
    "        tr_dataset = DialogDataset(CFG, CFG.data_file, train_ids, train=True)\n",
    "        va_dataset = DialogDataset(CFG, CFG.data_file, val_ids, train=False)\n",
    "\n",
    "        print(f'---Data Size Train/Val: {len(tr_dataset)} / {len(va_dataset)}')\n",
    "        logger.info(f'---Data Size Train/Val: {len(tr_dataset)} / {len(va_dataset)}')\n",
    "\n",
    "        tr_iter = DataLoader(tr_dataset, batch_size=CFG.batch_size, shuffle=True)\n",
    "        va_iter = DataLoader(va_dataset, batch_size=CFG.batch_size * 2)\n",
    "\n",
    "        model = DepParser(CFG)\n",
    "        print('Loading Model....')\n",
    "        trainer = BasicTrainer(model=model, \n",
    "                               trainset_size=len(tr_dataset), \n",
    "                               loss_fn=arc_rel_loss, \n",
    "                               metrics_fn=uas_las, \n",
    "                               logger=logger, \n",
    "                               config=CFG)\n",
    "\n",
    "        best_res, best_state_dict = trainer.train(model=model, train_iter=tr_iter, val_iter=None)\n",
    "        print(best_res)\n",
    "        with open(f\"../results/few_shot/with_codt_sampled/res.txt\", 'a+') as f:\n",
    "            f.write(f'{seed}\\t {str(best_res)}\\n')\n",
    "\n",
    "        torch.save(best_state_dict, f'../results/few_shot/with_codt_sampled/model_shot_{shot}.bin')\n",
    "\n",
    "        model = None\n",
    "\n",
    "    logger.info('\\n')"
   ]
  },
  {
   "cell_type": "markdown",
   "id": "e577d759-066c-4a2f-ba7e-dd4f4fea38b0",
   "metadata": {},
   "source": [
    "# Inference"
   ]
  },
  {
   "cell_type": "code",
   "execution_count": 18,
   "id": "42ea7c67",
   "metadata": {},
   "outputs": [],
   "source": [
    "def load_codt_signal(data_file: str):\n",
    "    sentence:List[Dependency] = []\n",
    "\n",
    "    with open(data_file, 'r', encoding='utf-8') as f:\n",
    "        # data example: 1\t上海\t_\tNR\tNR\t_\t2\tnn\t_\t_\n",
    "        for line in f.readlines():\n",
    "            toks = line.split()\n",
    "            if len(toks) == 0 and len(sentence) != 0:\n",
    "                yield sentence\n",
    "                sentence = []\n",
    "            elif len(toks) == 10:\n",
    "                signal = int(toks[2])\n",
    "                sentence.append(signal)"
   ]
  },
  {
   "cell_type": "code",
   "execution_count": 19,
   "id": "0b1e9a0e",
   "metadata": {},
   "outputs": [],
   "source": [
    "def postproc(arc_logits, rel_logits, masks_whole):\n",
    "    from constant import rel2id, punct_lst, weak_signals, weak_labels\n",
    "    \n",
    "    rel_preds = rel_logits.argmax(-1)\n",
    "    head_preds = arc_logits.argmax(-1)\n",
    "\n",
    "    origin4change = [rel2id[x] for x in ['root', 'dfsubj', 'sasubj']]\n",
    "    # origin4change.extend([i for i in range(21, 35)])\n",
    "\n",
    "    max_len = CFG.max_length\n",
    "\n",
    "    signals_new_whole = torch.Tensor()\n",
    "    heads_new_whole, rels_new_whole = torch.Tensor(), torch.Tensor()\n",
    "    for sample_idx, (deps, pred_signals) in tqdm(enumerate(zip(load_annoted(CFG.test_file, data_ids=list(range(800))), load_codt_signal('../mlm_based/diag_test.conll')))):\n",
    "        seq_len = len(deps)\n",
    "        if seq_len == 0:\n",
    "            continue\n",
    "\n",
    "        signals = torch.full(size=(max_len,), fill_value=rel2id['elbr']).int()\n",
    "        heads, rels = torch.full(size=(max_len,), fill_value=-2).int(), torch.zeros(max_len).int()\n",
    "        split, splits, signal, word_lst  = 1, [1], rel2id['elbr'], ['root']\n",
    "        for i, dep in enumerate(deps[:-1]):\n",
    "            if i + 2 >= max_len:\n",
    "                break\n",
    "\n",
    "            word = dep.word\n",
    "            word_lst.append(word)\n",
    "\n",
    "            # if word in signal_dct.keys():\n",
    "            #     signal = signal_dct[word]\n",
    "            # if f'{word} {deps[i+1].word}' in signal_dct.keys():\n",
    "            #     signal = signal_dct[f'{word} {deps[i+1].word}']\n",
    "\n",
    "            try:\n",
    "                signal = pred_signals[i]\n",
    "            except IndexError:\n",
    "                signal = pred_signals[len(pred_signals) - 1]\n",
    "\n",
    "            if word in punct_lst and deps[i+1].word not in punct_lst:\n",
    "                if i + 2 - split > 2:  # set 2 to the min length of edu\n",
    "                    signals[split:i+2] = signal\n",
    "                    # signal = None\n",
    "                split = i + 2\n",
    "                splits.append(split)\n",
    "\n",
    "        splits.append(len(deps))\n",
    "\n",
    "        # add the last data\n",
    "        if i + 1 < max_len:\n",
    "            signal = pred_signals[-1]\n",
    "            word_lst.append(word)\n",
    "\n",
    "        heads = head_preds[sample_idx]\n",
    "        heads.masked_fill_(mask=~masks_whole[sample_idx].bool(), value=-2)\n",
    "\n",
    "        rels = rel_preds[sample_idx]\n",
    "        rels.masked_fill_(mask=~masks_whole[sample_idx].bool(), value=-2)\n",
    "\n",
    "        cnt, attr, = -1, False\n",
    "        for idx, head in enumerate(heads[1:]):\n",
    "            if head == -2:\n",
    "                break\n",
    "            if head == -1:\n",
    "                continue\n",
    "\n",
    "            if len(splits) > 2 and idx + 1 >= splits[cnt+1]:\n",
    "                cnt += 1\n",
    "\n",
    "            if ((len(splits) > 2 and (head < splits[cnt] or head >= splits[cnt+1])) or idx - head > 0) and rels[idx + 1] in origin4change:  # cross 'edu'\n",
    "\n",
    "                rels[idx+1] = signals[idx+1]\n",
    "\n",
    "                if rels[idx + 1] in [rel2id['cond']]:  # reverse\n",
    "                    tmp_heads = heads.clone()\n",
    "                    tmp_heads[:splits[cnt+1]] = 0\n",
    "                    head_idx = [idx + 1]\n",
    "                    tail_idx = (tmp_heads == idx + 1).nonzero()  # find tail index\n",
    "                    if len(tail_idx) == 0:  # ring or fail\n",
    "                        # unchange\n",
    "                        tail_idx = [idx + 1]\n",
    "                        head_idx = (heads == idx + 1).nonzero() if head_idx == tail_idx else head_idx\n",
    "                    elif len(head_idx) != 0:\n",
    "                        heads[tail_idx[0]] = 0\n",
    "                        heads[head_idx[0]] = tail_idx[0]\n",
    "\n",
    "                # special cases\n",
    "                if word_lst[idx+1] == '好' and word_lst[idx] in ['你', '您']:  # reverse\n",
    "                    tmp_heads = heads.clone()\n",
    "                    tmp_heads[:splits[cnt+1]] = 0\n",
    "                    tail_idx = (tmp_heads == idx + 1).nonzero()  # find tail index\n",
    "                    if len(tail_idx) != 0:  \n",
    "                        heads[tail_idx[0]] = 0\n",
    "                        heads[idx + 1] = tail_idx[0]\n",
    "                        rels[idx + 1] = rel2id['elbr']\n",
    "\n",
    "            if not attr and rels[idx + 1] in [rel2id['obj']] and signals[idx+1] == rel2id['attr']:\n",
    "                rels[idx+1] = signals[idx+1]\n",
    "                attr = True\n",
    "\n",
    "        rels.masked_fill_(heads == 0, 0)  # root\n",
    "        heads[0] = 0\n",
    "        heads[1:].masked_fill_(heads[1:] == -2, 0)\n",
    "\n",
    "        heads_new_whole = torch.cat([heads_new_whole, heads.unsqueeze(0)])\n",
    "        rels_new_whole = torch.cat([rels_new_whole, rels.unsqueeze(0)])\n",
    "        signals_new_whole = torch.cat([signals_new_whole, signals.unsqueeze(0)])\n",
    "\n",
    "    return heads_new_whole, rels_new_whole"
   ]
  },
  {
   "cell_type": "code",
   "execution_count": 20,
   "id": "009eb28a-cbf0-473c-89ec-ea254ec7b5fd",
   "metadata": {},
   "outputs": [],
   "source": [
    "def evaluate(model, eval_iter):\n",
    "    arc_logits, rel_logits = torch.Tensor(), torch.Tensor()\n",
    "    heads_whole, rels_whole, masks_whole = torch.Tensor(), torch.Tensor(), torch.Tensor()\n",
    "    for batch in eval_iter:\n",
    "        inputs, offsets, heads, rels, masks = batch\n",
    "\n",
    "        inputs_cuda = {}\n",
    "        for key, value in inputs.items():\n",
    "            inputs_cuda[key] = value.cuda()\n",
    "        inputs = inputs_cuda\n",
    "\n",
    "        offsets, heads, rels, masks = to_cuda(data=(offsets, heads, rels, masks))\n",
    "\n",
    "        with torch.no_grad():\n",
    "            model.eval()\n",
    "            arc_logit, rel_logit = model(inputs, offsets, heads, rels, masks, evaluate=True)\n",
    "\n",
    "        arc_logit[:, torch.arange(arc_logit.size()[1]), torch.arange(arc_logit.size()[2])] = -1e4\n",
    "\n",
    "        arc_logits = torch.cat([arc_logits, arc_logit.cpu()])\n",
    "        rel_logits = torch.cat([rel_logits, rel_logit.cpu()])\n",
    "\n",
    "        heads_whole = torch.cat([heads_whole, heads.cpu()])\n",
    "        rels_whole = torch.cat([rels_whole, rels.cpu()])\n",
    "        masks_whole = torch.cat([masks_whole, masks.cpu()])\n",
    "\n",
    "    # rel_preds = rel_logits.argmax(-1)\n",
    "    # head_pred = arc_logits.argmax(-1)\n",
    "    head_preds, rel_preds = postproc(arc_logits, rel_logits, masks_whole)\n",
    "\n",
    "    arc_logits_correct = (head_preds == heads_whole).long() * masks_whole * (rels_whole < 21).long()\n",
    "    rel_logits_correct = (rel_preds == rels_whole).long() * arc_logits_correct \n",
    "    uas_syntax = (arc_logits_correct.sum() / (masks_whole * (rels_whole < 21).long()).sum()).item()\n",
    "    las_syntax = (rel_logits_correct.sum() / (masks_whole * (rels_whole < 21).long()).sum()).item()\n",
    "    logger.info(f'Syntax UAS: {uas_syntax}; Syntax LAS: {las_syntax}')\n",
    "\n",
    "    arc_logits_correct = (head_preds == heads_whole).long() * masks_whole * (rels_whole >= 21).long()\n",
    "    rel_logits_correct = (rel_preds == rels_whole).long() * arc_logits_correct\n",
    "    uas_discourse = (arc_logits_correct.sum() / (rels_whole >= 21).long().sum()).item()\n",
    "    las_discourse = (rel_logits_correct.sum() / (rels_whole >= 21).long().sum()).item()\n",
    "    logger.info(f'Discourse UAS: {uas_discourse}; Discourse LAS: {las_discourse}')\n",
    "    logger.info('---------------------------------------------------')\n",
    "    \n",
    "    return uas_syntax, las_syntax, uas_discourse, las_discourse"
   ]
  },
  {
   "cell_type": "code",
   "execution_count": 21,
   "id": "b3228059-97d5-46dc-bf91-cdfe3e21094f",
   "metadata": {},
   "outputs": [
    {
     "name": "stderr",
     "output_type": "stream",
     "text": [
      "100%|██████████| 20086/20086 [00:37<00:00, 539.91it/s]\n"
     ]
    }
   ],
   "source": [
    "test_dataset = DialogDataset(CFG, CFG.test_file, list(range(800)), train=False, with_codt_sampled=False)\n",
    "test_iter = DataLoader(test_dataset, batch_size=CFG.batch_size * 4)"
   ]
  },
  {
   "cell_type": "code",
   "execution_count": 22,
   "id": "dc782441-62f8-4316-ad22-12f50446eab1",
   "metadata": {},
   "outputs": [
    {
     "name": "stderr",
     "output_type": "stream",
     "text": [
      "20086it [00:46, 428.52it/s]\n"
     ]
    }
   ],
   "source": [
    "if CFG.mode == 'training':\n",
    "    \n",
    "    uas_syntaxs, las_syntaxs = [], []\n",
    "    uas_discourses, las_discourses = [], []\n",
    "    for shot in CFG.shots:\n",
    "        seed = shot2seed[shot]\n",
    "        seed_everything(seed)\n",
    "        \n",
    "        model = DepParser(CFG)\n",
    "        model.load_state_dict(torch.load(f'../results/few_shot/with_codt_sampled/model_shot_{shot}.bin'))\n",
    "        model = model.cuda()\n",
    "\n",
    "        uas_syntax, las_syntax, uas_discourse, las_discourse = evaluate(model, test_iter)\n",
    "\n",
    "        uas_syntaxs.append(uas_syntax)\n",
    "        las_syntaxs.append(las_syntax)\n",
    "        uas_discourses.append(uas_discourse)\n",
    "        las_discourses.append(las_discourse)\n",
    "\n",
    "    avg_uas_syntax, avg_las_syntax = np.mean(uas_syntaxs), np.mean(las_syntaxs)\n",
    "    avg_uas_discourse, avg_las_discourse = np.mean(uas_discourses), np.mean(las_discourses)\n",
    "    std_uas_syntax, std_las_syntax = np.std(uas_syntaxs), np.std(las_syntaxs)\n",
    "    std_uas_discourse, std_las_discourse = np.std(uas_discourses), np.std(las_discourses)\n",
    "    logger.info('\\n----------------Result----------------')\n",
    "    logger.info(f'Avg Syntax UAS: {avg_uas_syntax:.4f}; Avg Syntax LAS: {avg_las_syntax:.4f}')\n",
    "    logger.info(f'Std Syntax UAS: {std_uas_syntax:.4f}; Std Syntax LAS: {std_las_syntax:.4f}')\n",
    "    logger.info(f'Avg Discourse UAS: {avg_uas_discourse:.4f}; Avg Discourse LAS: {avg_las_discourse:.4f}')\n",
    "    logger.info(f'Std Discourse UAS: {std_uas_discourse:.4f}; Std Discourse LAS: {std_las_discourse:.4f}\\n')\n",
    "\n",
    "    logger.info('=================End=================')\n",
    "    logger.info(datetime.datetime.now().isoformat())\n",
    "    logger.info('=====================================')"
   ]
  },
  {
   "cell_type": "code",
   "execution_count": 23,
   "id": "01627903-5689-49ce-9e44-ceb0ee119963",
   "metadata": {
    "tags": []
   },
   "outputs": [],
   "source": [
    "if CFG.mode == 'inference':\n",
    "    uas_syntaxs, las_syntaxs = [], []\n",
    "    uas_discourses, las_discourses = [], []\n",
    "    for shot in CFG.shots:\n",
    "        logger.info(f'----------------Shot: {shot}----------------')\n",
    "        seed = shot2seed[shot]\n",
    "        seed_everything(seed)\n",
    "        \n",
    "        model = DepParser(CFG)\n",
    "        model.load_state_dict(torch.load(f'../results/few_shot/with_codt_sampled/model_shot_{shot}.bin'))\n",
    "        model = model.cuda()\n",
    "            \n",
    "        uas_syntax, las_syntax, uas_discourse, las_discourse = evaluate(model, test_iter)\n",
    "\n",
    "        uas_syntaxs.append(uas_syntax)\n",
    "        las_syntaxs.append(las_syntax)\n",
    "        uas_discourses.append(uas_discourse)\n",
    "        las_discourses.append(las_discourse)\n",
    "\n",
    "    avg_uas_syntax, avg_las_syntax = np.mean(uas_syntaxs), np.mean(las_syntaxs)\n",
    "    avg_uas_discourse, avg_las_discourse = np.mean(uas_discourses), np.mean(las_discourses)\n",
    "    std_uas_syntax, std_las_syntax = np.std(uas_syntaxs), np.std(las_syntaxs)\n",
    "    std_uas_discourse, std_las_discourse = np.std(uas_discourses), np.std(las_discourses)\n",
    "    logger.info('\\n----------------Result----------------')\n",
    "    logger.info(f'Avg Syntax UAS: {avg_uas_syntax:.4f}; Avg Syntax LAS: {avg_las_syntax:.4f}')\n",
    "    logger.info(f'Std Syntax UAS: {std_uas_syntax:.4f}; Std Syntax LAS: {std_las_syntax:.4f}')\n",
    "    logger.info(f'Avg Discourse UAS: {avg_uas_discourse:.4f}; Avg Discourse LAS: {avg_las_discourse:.4f}')\n",
    "    logger.info(f'Std Discourse UAS: {std_uas_discourse:.4f}; Std Discourse LAS: {std_las_discourse:.4f}\\n')\n",
    "\n",
    "    logger.info('=================End=================')\n",
    "    logger.info(datetime.datetime.now().isoformat())\n",
    "    logger.info('=====================================')"
   ]
  }
 ],
 "metadata": {
  "kernelspec": {
   "display_name": "py395",
   "language": "python",
   "name": "python3"
  },
  "language_info": {
   "codemirror_mode": {
    "name": "ipython",
    "version": 3
   },
   "file_extension": ".py",
   "mimetype": "text/x-python",
   "name": "python",
   "nbconvert_exporter": "python",
   "pygments_lexer": "ipython3",
   "version": "3.9.5 (default, May 18 2021, 14:42:02) [MSC v.1916 64 bit (AMD64)]"
  },
  "vscode": {
   "interpreter": {
    "hash": "1adbcecb1e586d9b8eb419680ab9509109c36838db5c3be5530ca5bad501e730"
   }
  }
 },
 "nbformat": 4,
 "nbformat_minor": 5
}
